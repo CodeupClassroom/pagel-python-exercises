{
 "cells": [
  {
   "cell_type": "markdown",
   "id": "3baffd4f",
   "metadata": {},
   "source": [
    "# Functions"
   ]
  },
  {
   "cell_type": "markdown",
   "id": "9db1794f",
   "metadata": {},
   "source": [
    "What are they? generally code that takes in data, transforms it, and outputs new data"
   ]
  },
  {
   "cell_type": "markdown",
   "id": "1b8d633d",
   "metadata": {},
   "source": [
    "Why do we care? because we can use already made code to repeat the same block code over and over! "
   ]
  },
  {
   "cell_type": "markdown",
   "id": "6bc75031",
   "metadata": {},
   "source": [
    "generally interacting with two types\n",
    "- someone else's function\n",
    "- or a function that you create! "
   ]
  },
  {
   "cell_type": "markdown",
   "id": "919efd5d",
   "metadata": {},
   "source": [
    "note: functions always have those parenthesis at the end! "
   ]
  },
  {
   "cell_type": "markdown",
   "id": "1611775b",
   "metadata": {},
   "source": [
    "## built-in functions"
   ]
  },
  {
   "cell_type": "markdown",
   "id": "32914baa",
   "metadata": {},
   "source": [
    "#### some you may have already seen"
   ]
  },
  {
   "cell_type": "code",
   "execution_count": 1,
   "id": "967eae14",
   "metadata": {},
   "outputs": [],
   "source": [
    "#new list\n",
    "ls = [1,34,5245,3,23,13467,-2]"
   ]
  },
  {
   "cell_type": "code",
   "execution_count": 2,
   "id": "ab0b1ab4",
   "metadata": {},
   "outputs": [
    {
     "name": "stdout",
     "output_type": "stream",
     "text": [
      "[1, 34, 5245, 3, 23, 13467, -2]\n"
     ]
    }
   ],
   "source": [
    "print(ls)"
   ]
  },
  {
   "cell_type": "code",
   "execution_count": 28,
   "id": "60d0a455",
   "metadata": {},
   "outputs": [],
   "source": [
    "string = '   34.   '"
   ]
  },
  {
   "cell_type": "code",
   "execution_count": 29,
   "id": "2391ac49",
   "metadata": {},
   "outputs": [
    {
     "data": {
      "text/plain": [
       "'34.'"
      ]
     },
     "execution_count": 29,
     "metadata": {},
     "output_type": "execute_result"
    }
   ],
   "source": [
    "string.strip() #method, not a function"
   ]
  },
  {
   "cell_type": "markdown",
   "id": "e24620a0",
   "metadata": {},
   "source": [
    "- methods are getting applied to an object\n",
    "- vs sending an object into a function"
   ]
  },
  {
   "cell_type": "code",
   "execution_count": 30,
   "id": "b1af4441",
   "metadata": {},
   "outputs": [
    {
     "ename": "NameError",
     "evalue": "name 'strip' is not defined",
     "output_type": "error",
     "traceback": [
      "\u001b[0;31m---------------------------------------------------------------------------\u001b[0m",
      "\u001b[0;31mNameError\u001b[0m                                 Traceback (most recent call last)",
      "Input \u001b[0;32mIn [30]\u001b[0m, in \u001b[0;36m<cell line: 1>\u001b[0;34m()\u001b[0m\n\u001b[0;32m----> 1\u001b[0m \u001b[43mstrip\u001b[49m(string)\n",
      "\u001b[0;31mNameError\u001b[0m: name 'strip' is not defined"
     ]
    }
   ],
   "source": [
    "strip(string) #function takes in data"
   ]
  },
  {
   "cell_type": "code",
   "execution_count": 7,
   "id": "cf9f2828",
   "metadata": {},
   "outputs": [
    {
     "data": {
      "text/plain": [
       "range(0, 100)"
      ]
     },
     "execution_count": 7,
     "metadata": {},
     "output_type": "execute_result"
    }
   ],
   "source": [
    "range(0,100)"
   ]
  },
  {
   "cell_type": "code",
   "execution_count": 8,
   "id": "c175e3f9",
   "metadata": {},
   "outputs": [
    {
     "data": {
      "text/plain": [
       "[1, 34, 5245, 3, 23, 13467, -2]"
      ]
     },
     "execution_count": 8,
     "metadata": {},
     "output_type": "execute_result"
    }
   ],
   "source": [
    "ls"
   ]
  },
  {
   "cell_type": "code",
   "execution_count": 9,
   "id": "adbcee75",
   "metadata": {},
   "outputs": [
    {
     "data": {
      "text/plain": [
       "13467"
      ]
     },
     "execution_count": 9,
     "metadata": {},
     "output_type": "execute_result"
    }
   ],
   "source": [
    "max(ls)"
   ]
  },
  {
   "cell_type": "code",
   "execution_count": 10,
   "id": "28193d12",
   "metadata": {},
   "outputs": [
    {
     "data": {
      "text/plain": [
       "-2"
      ]
     },
     "execution_count": 10,
     "metadata": {},
     "output_type": "execute_result"
    }
   ],
   "source": [
    "min(ls)"
   ]
  },
  {
   "cell_type": "code",
   "execution_count": 11,
   "id": "b44fbb1e",
   "metadata": {},
   "outputs": [
    {
     "data": {
      "text/plain": [
       "18771"
      ]
     },
     "execution_count": 11,
     "metadata": {},
     "output_type": "execute_result"
    }
   ],
   "source": [
    "sum(ls)"
   ]
  },
  {
   "cell_type": "code",
   "execution_count": 13,
   "id": "31e3d5ed",
   "metadata": {},
   "outputs": [
    {
     "ename": "NameError",
     "evalue": "name 'sort' is not defined",
     "output_type": "error",
     "traceback": [
      "\u001b[0;31m---------------------------------------------------------------------------\u001b[0m",
      "\u001b[0;31mNameError\u001b[0m                                 Traceback (most recent call last)",
      "Input \u001b[0;32mIn [13]\u001b[0m, in \u001b[0;36m<cell line: 1>\u001b[0;34m()\u001b[0m\n\u001b[0;32m----> 1\u001b[0m \u001b[43msort\u001b[49m(ls)\n",
      "\u001b[0;31mNameError\u001b[0m: name 'sort' is not defined"
     ]
    }
   ],
   "source": [
    "sort(ls)"
   ]
  },
  {
   "cell_type": "code",
   "execution_count": 14,
   "id": "1f9c0da9",
   "metadata": {},
   "outputs": [],
   "source": [
    "ls.sort() #method, not a function"
   ]
  },
  {
   "cell_type": "code",
   "execution_count": 15,
   "id": "12835516",
   "metadata": {},
   "outputs": [
    {
     "data": {
      "text/plain": [
       "[-2, 1, 3, 23, 34, 5245, 13467]"
      ]
     },
     "execution_count": 15,
     "metadata": {},
     "output_type": "execute_result"
    }
   ],
   "source": [
    "ls"
   ]
  },
  {
   "cell_type": "code",
   "execution_count": 16,
   "id": "49ed8b3c",
   "metadata": {},
   "outputs": [
    {
     "data": {
      "text/plain": [
       "[-2, 1, 3, 23, 34, 5245, 13467]"
      ]
     },
     "execution_count": 16,
     "metadata": {},
     "output_type": "execute_result"
    }
   ],
   "source": [
    "ls"
   ]
  },
  {
   "cell_type": "code",
   "execution_count": 17,
   "id": "a037e6da",
   "metadata": {},
   "outputs": [
    {
     "data": {
      "text/plain": [
       "18771"
      ]
     },
     "execution_count": 17,
     "metadata": {},
     "output_type": "execute_result"
    }
   ],
   "source": [
    "sum(ls)"
   ]
  },
  {
   "cell_type": "code",
   "execution_count": 18,
   "id": "836a2877",
   "metadata": {},
   "outputs": [
    {
     "data": {
      "text/plain": [
       "7"
      ]
     },
     "execution_count": 18,
     "metadata": {},
     "output_type": "execute_result"
    }
   ],
   "source": [
    "len(ls)"
   ]
  },
  {
   "cell_type": "code",
   "execution_count": 26,
   "id": "b5578407",
   "metadata": {},
   "outputs": [
    {
     "ename": "NameError",
     "evalue": "name 'mean' is not defined",
     "output_type": "error",
     "traceback": [
      "\u001b[0;31m---------------------------------------------------------------------------\u001b[0m",
      "\u001b[0;31mNameError\u001b[0m                                 Traceback (most recent call last)",
      "Input \u001b[0;32mIn [26]\u001b[0m, in \u001b[0;36m<cell line: 1>\u001b[0;34m()\u001b[0m\n\u001b[0;32m----> 1\u001b[0m \u001b[43mmean\u001b[49m(ls)\n",
      "\u001b[0;31mNameError\u001b[0m: name 'mean' is not defined"
     ]
    }
   ],
   "source": [
    "mean(ls)"
   ]
  },
  {
   "cell_type": "code",
   "execution_count": 22,
   "id": "6698960e",
   "metadata": {},
   "outputs": [],
   "source": [
    "#find average\n",
    "avg_ls = round(sum(ls) / len(ls), 2) #executes inside to outside"
   ]
  },
  {
   "cell_type": "code",
   "execution_count": 23,
   "id": "afdabbba",
   "metadata": {},
   "outputs": [
    {
     "data": {
      "text/plain": [
       "2681.57"
      ]
     },
     "execution_count": 23,
     "metadata": {},
     "output_type": "execute_result"
    }
   ],
   "source": [
    "avg_ls"
   ]
  },
  {
   "cell_type": "markdown",
   "id": "37db4ad7",
   "metadata": {},
   "source": [
    "#### troubleshooting errors"
   ]
  },
  {
   "cell_type": "code",
   "execution_count": 31,
   "id": "bc5754bb",
   "metadata": {},
   "outputs": [
    {
     "data": {
      "text/plain": [
       "<function len(obj, /)>"
      ]
     },
     "execution_count": 31,
     "metadata": {},
     "output_type": "execute_result"
    }
   ],
   "source": [
    "len"
   ]
  },
  {
   "cell_type": "markdown",
   "id": "26f31b7e",
   "metadata": {},
   "source": [
    "- whenever you see the pointy brackets, you are missing something\n",
    "- in this case, you are missing the parenthesis"
   ]
  },
  {
   "cell_type": "code",
   "execution_count": 35,
   "id": "e2797525",
   "metadata": {},
   "outputs": [
    {
     "ename": "TypeError",
     "evalue": "len() takes exactly one argument (0 given)",
     "output_type": "error",
     "traceback": [
      "\u001b[0;31m---------------------------------------------------------------------------\u001b[0m",
      "\u001b[0;31mTypeError\u001b[0m                                 Traceback (most recent call last)",
      "Input \u001b[0;32mIn [35]\u001b[0m, in \u001b[0;36m<cell line: 1>\u001b[0;34m()\u001b[0m\n\u001b[0;32m----> 1\u001b[0m \u001b[38;5;28;43mlen\u001b[39;49m\u001b[43m(\u001b[49m\u001b[43m)\u001b[49m\n",
      "\u001b[0;31mTypeError\u001b[0m: len() takes exactly one argument (0 given)"
     ]
    }
   ],
   "source": [
    "len()"
   ]
  },
  {
   "cell_type": "markdown",
   "id": "23919c73",
   "metadata": {},
   "source": [
    "## make our own functions!\n",
    "\n",
    "1. first define the function (create it)\n",
    "2. then call the function (access it)"
   ]
  },
  {
   "cell_type": "markdown",
   "id": "aae3ba1f",
   "metadata": {},
   "source": [
    "#### define a function"
   ]
  },
  {
   "cell_type": "code",
   "execution_count": 36,
   "id": "19f12c2a",
   "metadata": {},
   "outputs": [],
   "source": [
    "# FORMAT:\n",
    "# def [function_name]([input]):\n",
    "#     return [output_usually_transformed_input]"
   ]
  },
  {
   "cell_type": "code",
   "execution_count": 44,
   "id": "ffb956d2",
   "metadata": {},
   "outputs": [],
   "source": [
    "#create a function that adds one every time\n",
    "def add_one(input_variable):\n",
    "    '''\n",
    "    takes a int and adds one to it\n",
    "    ''' #this is called a docstring\n",
    "    return input_variable + 1"
   ]
  },
  {
   "cell_type": "markdown",
   "id": "103adadf",
   "metadata": {},
   "source": [
    "what happening in the above code?\n"
   ]
  },
  {
   "cell_type": "markdown",
   "id": "b20e2f56",
   "metadata": {},
   "source": [
    "- defining my function called `add_one`\n",
    "- accepting an input and labeling `input_variable`\n",
    "- return that input_variable with 1 added to it"
   ]
  },
  {
   "cell_type": "markdown",
   "id": "cabbfada",
   "metadata": {},
   "source": [
    "note:\n",
    "- all we have done so far is define our function\n",
    "- nothing is executing"
   ]
  },
  {
   "cell_type": "markdown",
   "id": "5837c94b",
   "metadata": {},
   "source": [
    "#### call the function we created"
   ]
  },
  {
   "cell_type": "code",
   "execution_count": null,
   "id": "b7940b27",
   "metadata": {},
   "outputs": [],
   "source": [
    "# FORMAT:\n",
    "# [function_name]([input])"
   ]
  },
  {
   "cell_type": "code",
   "execution_count": 38,
   "id": "35661d49",
   "metadata": {},
   "outputs": [
    {
     "data": {
      "text/plain": [
       "11"
      ]
     },
     "execution_count": 38,
     "metadata": {},
     "output_type": "execute_result"
    }
   ],
   "source": [
    "add_one(10)"
   ]
  },
  {
   "cell_type": "code",
   "execution_count": 39,
   "id": "8b74bcdd",
   "metadata": {},
   "outputs": [
    {
     "data": {
      "text/plain": [
       "16"
      ]
     },
     "execution_count": 39,
     "metadata": {},
     "output_type": "execute_result"
    }
   ],
   "source": [
    "add_one(15)"
   ]
  },
  {
   "cell_type": "code",
   "execution_count": 40,
   "id": "109eb205",
   "metadata": {},
   "outputs": [
    {
     "data": {
      "text/plain": [
       "21"
      ]
     },
     "execution_count": 40,
     "metadata": {},
     "output_type": "execute_result"
    }
   ],
   "source": [
    "add_one(20)"
   ]
  },
  {
   "cell_type": "code",
   "execution_count": 42,
   "id": "9039ed58",
   "metadata": {},
   "outputs": [
    {
     "ename": "TypeError",
     "evalue": "can only concatenate str (not \"int\") to str",
     "output_type": "error",
     "traceback": [
      "\u001b[0;31m---------------------------------------------------------------------------\u001b[0m",
      "\u001b[0;31mTypeError\u001b[0m                                 Traceback (most recent call last)",
      "Input \u001b[0;32mIn [42]\u001b[0m, in \u001b[0;36m<cell line: 1>\u001b[0;34m()\u001b[0m\n\u001b[0;32m----> 1\u001b[0m \u001b[38;5;124;43m'\u001b[39;49m\u001b[38;5;124;43mhello\u001b[39;49m\u001b[38;5;124;43m'\u001b[39;49m\u001b[43m \u001b[49m\u001b[38;5;241;43m+\u001b[39;49m\u001b[43m \u001b[49m\u001b[38;5;241;43m1\u001b[39;49m\n",
      "\u001b[0;31mTypeError\u001b[0m: can only concatenate str (not \"int\") to str"
     ]
    }
   ],
   "source": [
    "'hello' + 1"
   ]
  },
  {
   "cell_type": "code",
   "execution_count": 43,
   "id": "28d0930c",
   "metadata": {},
   "outputs": [
    {
     "ename": "TypeError",
     "evalue": "can only concatenate str (not \"int\") to str",
     "output_type": "error",
     "traceback": [
      "\u001b[0;31m---------------------------------------------------------------------------\u001b[0m",
      "\u001b[0;31mTypeError\u001b[0m                                 Traceback (most recent call last)",
      "Input \u001b[0;32mIn [43]\u001b[0m, in \u001b[0;36m<cell line: 1>\u001b[0;34m()\u001b[0m\n\u001b[0;32m----> 1\u001b[0m \u001b[43madd_one\u001b[49m\u001b[43m(\u001b[49m\u001b[38;5;124;43m'\u001b[39;49m\u001b[38;5;124;43mhello\u001b[39;49m\u001b[38;5;124;43m'\u001b[39;49m\u001b[43m)\u001b[49m\n",
      "Input \u001b[0;32mIn [37]\u001b[0m, in \u001b[0;36madd_one\u001b[0;34m(input_variable)\u001b[0m\n\u001b[1;32m      2\u001b[0m \u001b[38;5;28;01mdef\u001b[39;00m \u001b[38;5;21madd_one\u001b[39m(input_variable):\n\u001b[0;32m----> 3\u001b[0m     \u001b[38;5;28;01mreturn\u001b[39;00m \u001b[43minput_variable\u001b[49m\u001b[43m \u001b[49m\u001b[38;5;241;43m+\u001b[39;49m\u001b[43m \u001b[49m\u001b[38;5;241;43m1\u001b[39;49m\n",
      "\u001b[0;31mTypeError\u001b[0m: can only concatenate str (not \"int\") to str"
     ]
    }
   ],
   "source": [
    "add_one('hello')"
   ]
  },
  {
   "cell_type": "markdown",
   "id": "727c3dcc",
   "metadata": {},
   "source": [
    "#### access our docstring with our info we wrote"
   ]
  },
  {
   "cell_type": "code",
   "execution_count": 47,
   "id": "bb960f46",
   "metadata": {},
   "outputs": [],
   "source": [
    "add_one?"
   ]
  },
  {
   "cell_type": "code",
   "execution_count": 48,
   "id": "8169e807",
   "metadata": {},
   "outputs": [
    {
     "name": "stdout",
     "output_type": "stream",
     "text": [
      "Help on function add_one in module __main__:\n",
      "\n",
      "add_one(input_variable)\n",
      "    takes a int and adds one to it\n",
      "\n"
     ]
    }
   ],
   "source": [
    "help(add_one)"
   ]
  },
  {
   "cell_type": "code",
   "execution_count": 50,
   "id": "24348e45",
   "metadata": {},
   "outputs": [
    {
     "data": {
      "text/plain": [
       "8"
      ]
     },
     "execution_count": 50,
     "metadata": {},
     "output_type": "execute_result"
    }
   ],
   "source": [
    "#nest the function\n",
    "add_one(add_one(add_one(5))) #executing from inside to out"
   ]
  },
  {
   "cell_type": "markdown",
   "id": "1a732293",
   "metadata": {},
   "source": [
    "#### look at the input variable"
   ]
  },
  {
   "cell_type": "code",
   "execution_count": 52,
   "id": "061e5aaa",
   "metadata": {},
   "outputs": [],
   "source": [
    "#create a function that adds one every time\n",
    "def add_one(input_variable):\n",
    "    '''\n",
    "    takes a int and adds one to it\n",
    "    ''' #this is called a docstring\n",
    "    return input_variable + 1"
   ]
  },
  {
   "cell_type": "code",
   "execution_count": 54,
   "id": "e9607f6d",
   "metadata": {},
   "outputs": [
    {
     "ename": "NameError",
     "evalue": "name 'input_variable' is not defined",
     "output_type": "error",
     "traceback": [
      "\u001b[0;31m---------------------------------------------------------------------------\u001b[0m",
      "\u001b[0;31mNameError\u001b[0m                                 Traceback (most recent call last)",
      "Input \u001b[0;32mIn [54]\u001b[0m, in \u001b[0;36m<cell line: 1>\u001b[0;34m()\u001b[0m\n\u001b[0;32m----> 1\u001b[0m \u001b[43minput_variable\u001b[49m\n",
      "\u001b[0;31mNameError\u001b[0m: name 'input_variable' is not defined"
     ]
    }
   ],
   "source": [
    "input_variable"
   ]
  },
  {
   "cell_type": "markdown",
   "id": "c5bfac88",
   "metadata": {},
   "source": [
    "- any variables made inside a function ONLY EXIST INSIDE THE FUNCTION"
   ]
  },
  {
   "cell_type": "markdown",
   "id": "df0b44c3",
   "metadata": {},
   "source": [
    "### printing vs returning vs nothing in functions"
   ]
  },
  {
   "cell_type": "markdown",
   "id": "89cdd219",
   "metadata": {},
   "source": [
    "#### define em"
   ]
  },
  {
   "cell_type": "code",
   "execution_count": 60,
   "id": "726733f6",
   "metadata": {},
   "outputs": [],
   "source": [
    "def add_one_return(i):\n",
    "    return i +1 "
   ]
  },
  {
   "cell_type": "code",
   "execution_count": 61,
   "id": "ca1a6f6d",
   "metadata": {},
   "outputs": [],
   "source": [
    "def add_one_print(i):\n",
    "    print(i + 1)"
   ]
  },
  {
   "cell_type": "code",
   "execution_count": 62,
   "id": "e41f56bd",
   "metadata": {},
   "outputs": [],
   "source": [
    "def add_one_none(i):\n",
    "    i + 1"
   ]
  },
  {
   "cell_type": "markdown",
   "id": "792ede87",
   "metadata": {},
   "source": [
    "#### call em"
   ]
  },
  {
   "cell_type": "code",
   "execution_count": 63,
   "id": "19a1d91f",
   "metadata": {},
   "outputs": [
    {
     "data": {
      "text/plain": [
       "6"
      ]
     },
     "execution_count": 63,
     "metadata": {},
     "output_type": "execute_result"
    }
   ],
   "source": [
    "add_one_return(5)"
   ]
  },
  {
   "cell_type": "code",
   "execution_count": 64,
   "id": "e797d61f",
   "metadata": {},
   "outputs": [
    {
     "name": "stdout",
     "output_type": "stream",
     "text": [
      "6\n"
     ]
    }
   ],
   "source": [
    "add_one_print(5)"
   ]
  },
  {
   "cell_type": "code",
   "execution_count": 66,
   "id": "8d985dfc",
   "metadata": {},
   "outputs": [],
   "source": [
    "add_one_none(5)"
   ]
  },
  {
   "cell_type": "markdown",
   "id": "11e9d59f",
   "metadata": {},
   "source": [
    "questions:\n",
    "- return and print look the same, are they?\n",
    "- why does add_one_none return nothing?"
   ]
  },
  {
   "cell_type": "markdown",
   "id": "457cb0fb",
   "metadata": {},
   "source": [
    "#### investigate"
   ]
  },
  {
   "cell_type": "code",
   "execution_count": 72,
   "id": "80adf5fb",
   "metadata": {},
   "outputs": [],
   "source": [
    "new_var_return = add_one_return(5)"
   ]
  },
  {
   "cell_type": "code",
   "execution_count": 73,
   "id": "0066b73d",
   "metadata": {},
   "outputs": [
    {
     "data": {
      "text/plain": [
       "6"
      ]
     },
     "execution_count": 73,
     "metadata": {},
     "output_type": "execute_result"
    }
   ],
   "source": [
    "new_var_return"
   ]
  },
  {
   "cell_type": "markdown",
   "id": "01589725",
   "metadata": {},
   "source": [
    "- this is the only one returning an actual value"
   ]
  },
  {
   "cell_type": "code",
   "execution_count": 81,
   "id": "0f596acd",
   "metadata": {},
   "outputs": [
    {
     "name": "stdout",
     "output_type": "stream",
     "text": [
      "6\n"
     ]
    }
   ],
   "source": [
    "new_var_print = add_one_print(5)"
   ]
  },
  {
   "cell_type": "code",
   "execution_count": 82,
   "id": "5d73b6f9",
   "metadata": {},
   "outputs": [],
   "source": [
    "new_var_print"
   ]
  },
  {
   "cell_type": "code",
   "execution_count": 83,
   "id": "b3afd54d",
   "metadata": {},
   "outputs": [
    {
     "data": {
      "text/plain": [
       "NoneType"
      ]
     },
     "execution_count": 83,
     "metadata": {},
     "output_type": "execute_result"
    }
   ],
   "source": [
    "type(new_var_print)"
   ]
  },
  {
   "cell_type": "markdown",
   "id": "6dc62b4c",
   "metadata": {},
   "source": [
    "- here i am saving a print statment into a variable"
   ]
  },
  {
   "cell_type": "code",
   "execution_count": 77,
   "id": "5837d635",
   "metadata": {},
   "outputs": [
    {
     "name": "stdout",
     "output_type": "stream",
     "text": [
      "hello\n"
     ]
    }
   ],
   "source": [
    "print_var = print('hello')"
   ]
  },
  {
   "cell_type": "code",
   "execution_count": 78,
   "id": "5e706e97",
   "metadata": {},
   "outputs": [],
   "source": [
    "print_var"
   ]
  },
  {
   "cell_type": "code",
   "execution_count": 79,
   "id": "482ad6a4",
   "metadata": {},
   "outputs": [
    {
     "data": {
      "text/plain": [
       "NoneType"
      ]
     },
     "execution_count": 79,
     "metadata": {},
     "output_type": "execute_result"
    }
   ],
   "source": [
    "type(print_var)"
   ]
  },
  {
   "cell_type": "code",
   "execution_count": 80,
   "id": "f874242e",
   "metadata": {},
   "outputs": [
    {
     "name": "stdout",
     "output_type": "stream",
     "text": [
      "hello\n"
     ]
    },
    {
     "data": {
      "text/plain": [
       "NoneType"
      ]
     },
     "execution_count": 80,
     "metadata": {},
     "output_type": "execute_result"
    }
   ],
   "source": [
    "type(print('hello'))"
   ]
  },
  {
   "cell_type": "code",
   "execution_count": 84,
   "id": "91d87f5e",
   "metadata": {},
   "outputs": [
    {
     "data": {
      "text/plain": [
       "6"
      ]
     },
     "execution_count": 84,
     "metadata": {},
     "output_type": "execute_result"
    }
   ],
   "source": [
    "new_var_return"
   ]
  },
  {
   "cell_type": "code",
   "execution_count": 88,
   "id": "62d2d0b4",
   "metadata": {},
   "outputs": [
    {
     "ename": "TypeError",
     "evalue": "unsupported operand type(s) for *: 'NoneType' and 'int'",
     "output_type": "error",
     "traceback": [
      "\u001b[0;31m---------------------------------------------------------------------------\u001b[0m",
      "\u001b[0;31mTypeError\u001b[0m                                 Traceback (most recent call last)",
      "Input \u001b[0;32mIn [88]\u001b[0m, in \u001b[0;36m<cell line: 1>\u001b[0;34m()\u001b[0m\n\u001b[0;32m----> 1\u001b[0m \u001b[43mnew_var_print\u001b[49m\u001b[43m \u001b[49m\u001b[38;5;241;43m*\u001b[39;49m\u001b[43m \u001b[49m\u001b[38;5;241;43m100\u001b[39;49m\n",
      "\u001b[0;31mTypeError\u001b[0m: unsupported operand type(s) for *: 'NoneType' and 'int'"
     ]
    }
   ],
   "source": [
    "new_var_print * 100"
   ]
  },
  {
   "cell_type": "code",
   "execution_count": 99,
   "id": "1d9e3f48",
   "metadata": {},
   "outputs": [
    {
     "data": {
      "text/plain": [
       "11"
      ]
     },
     "execution_count": 99,
     "metadata": {},
     "output_type": "execute_result"
    }
   ],
   "source": [
    "add_one_return(10)"
   ]
  },
  {
   "cell_type": "code",
   "execution_count": 101,
   "id": "8c5a63cc",
   "metadata": {},
   "outputs": [
    {
     "data": {
      "text/plain": [
       "21"
      ]
     },
     "execution_count": 101,
     "metadata": {},
     "output_type": "execute_result"
    }
   ],
   "source": [
    "add_one_return(20)"
   ]
  },
  {
   "cell_type": "code",
   "execution_count": 97,
   "id": "68ff4de0",
   "metadata": {},
   "outputs": [
    {
     "data": {
      "text/plain": [
       "6"
      ]
     },
     "execution_count": 97,
     "metadata": {},
     "output_type": "execute_result"
    }
   ],
   "source": [
    "new_var_return #variable"
   ]
  },
  {
   "cell_type": "code",
   "execution_count": 89,
   "id": "185222fb",
   "metadata": {},
   "outputs": [
    {
     "data": {
      "text/plain": [
       "600"
      ]
     },
     "execution_count": 89,
     "metadata": {},
     "output_type": "execute_result"
    }
   ],
   "source": [
    "new_var_return * 100"
   ]
  },
  {
   "cell_type": "code",
   "execution_count": 90,
   "id": "0a341056",
   "metadata": {},
   "outputs": [
    {
     "data": {
      "text/plain": [
       "4"
      ]
     },
     "execution_count": 90,
     "metadata": {},
     "output_type": "execute_result"
    }
   ],
   "source": [
    "new_var_return - 2"
   ]
  },
  {
   "cell_type": "code",
   "execution_count": 93,
   "id": "2f03d62c",
   "metadata": {},
   "outputs": [],
   "source": [
    "return_variable2 = add_one_return(10)"
   ]
  },
  {
   "cell_type": "code",
   "execution_count": 102,
   "id": "80e774f9",
   "metadata": {},
   "outputs": [
    {
     "data": {
      "text/plain": [
       "(11, 22)"
      ]
     },
     "execution_count": 102,
     "metadata": {},
     "output_type": "execute_result"
    }
   ],
   "source": [
    "return_variable2, return_variable2*2"
   ]
  },
  {
   "cell_type": "code",
   "execution_count": 104,
   "id": "377d919f",
   "metadata": {},
   "outputs": [
    {
     "data": {
      "text/plain": [
       "11"
      ]
     },
     "execution_count": 104,
     "metadata": {},
     "output_type": "execute_result"
    }
   ],
   "source": [
    "return_variable2 #just a variable, havent changed the function"
   ]
  },
  {
   "cell_type": "markdown",
   "id": "ee003c5c",
   "metadata": {},
   "source": [
    "### lets make it more complex"
   ]
  },
  {
   "cell_type": "markdown",
   "id": "36e99e18",
   "metadata": {},
   "source": [
    "#### ex. let's create a function that takes in a string, uppercases everything and then adds 3 exclamation points  "
   ]
  },
  {
   "cell_type": "markdown",
   "id": "a04d0475",
   "metadata": {},
   "source": [
    "best practice for creating functions\n",
    "1. get your code working outside of the function first\n",
    "2. once your code is working correctly, then define it as a function\n",
    "3. call and test your function"
   ]
  },
  {
   "cell_type": "markdown",
   "id": "eaaec7b0",
   "metadata": {},
   "source": [
    "#### 1. get your code working outside of the function first"
   ]
  },
  {
   "cell_type": "code",
   "execution_count": 105,
   "id": "dfe24413",
   "metadata": {},
   "outputs": [],
   "source": [
    "string = 'hello pagel class'"
   ]
  },
  {
   "cell_type": "code",
   "execution_count": 107,
   "id": "19e79369",
   "metadata": {},
   "outputs": [
    {
     "data": {
      "text/plain": [
       "'HELLO PAGEL CLASS'"
      ]
     },
     "execution_count": 107,
     "metadata": {},
     "output_type": "execute_result"
    }
   ],
   "source": [
    "string = string.upper() #method\n",
    "string"
   ]
  },
  {
   "cell_type": "code",
   "execution_count": 109,
   "id": "fb1a5b44",
   "metadata": {},
   "outputs": [
    {
     "ename": "AttributeError",
     "evalue": "'str' object has no attribute 'append'",
     "output_type": "error",
     "traceback": [
      "\u001b[0;31m---------------------------------------------------------------------------\u001b[0m",
      "\u001b[0;31mAttributeError\u001b[0m                            Traceback (most recent call last)",
      "Input \u001b[0;32mIn [109]\u001b[0m, in \u001b[0;36m<cell line: 1>\u001b[0;34m()\u001b[0m\n\u001b[0;32m----> 1\u001b[0m \u001b[43mstring\u001b[49m\u001b[38;5;241;43m.\u001b[39;49m\u001b[43mappend\u001b[49m(\u001b[38;5;124m'\u001b[39m\u001b[38;5;124m!!!\u001b[39m\u001b[38;5;124m'\u001b[39m)\n",
      "\u001b[0;31mAttributeError\u001b[0m: 'str' object has no attribute 'append'"
     ]
    }
   ],
   "source": [
    "string.append('!!!') #append is for a list"
   ]
  },
  {
   "cell_type": "code",
   "execution_count": 111,
   "id": "4f8d3f21",
   "metadata": {},
   "outputs": [
    {
     "data": {
      "text/plain": [
       "'HELLO PAGEL CLASS!!!'"
      ]
     },
     "execution_count": 111,
     "metadata": {},
     "output_type": "execute_result"
    }
   ],
   "source": [
    "string = string + '!!!'\n",
    "string"
   ]
  },
  {
   "cell_type": "markdown",
   "id": "35ca2153",
   "metadata": {},
   "source": [
    "#### 2. once your code is working correctly, then define it as a function"
   ]
  },
  {
   "cell_type": "code",
   "execution_count": 115,
   "id": "60a3227d",
   "metadata": {},
   "outputs": [],
   "source": [
    "def loud_string(input_string): #only one argument\n",
    "    \n",
    "    input_string = input_string.upper() #make sure your input variable matches \n",
    "    # the variable inside your function\n",
    "    \n",
    "    input_string = input_string + '!!!'\n",
    "    \n",
    "    return input_string #all i need to output is my transformed variable"
   ]
  },
  {
   "cell_type": "markdown",
   "id": "9cc975ee",
   "metadata": {},
   "source": [
    "#### 3. call and test your function"
   ]
  },
  {
   "cell_type": "code",
   "execution_count": 116,
   "id": "cbc01ac2",
   "metadata": {},
   "outputs": [
    {
     "data": {
      "text/plain": [
       "'HOW ARE YOU!!!'"
      ]
     },
     "execution_count": 116,
     "metadata": {},
     "output_type": "execute_result"
    }
   ],
   "source": [
    "loud_string('how are you')"
   ]
  },
  {
   "cell_type": "code",
   "execution_count": 117,
   "id": "b927b2e6",
   "metadata": {},
   "outputs": [
    {
     "data": {
      "text/plain": [
       "'ITS RAINING!!!'"
      ]
     },
     "execution_count": 117,
     "metadata": {},
     "output_type": "execute_result"
    }
   ],
   "source": [
    "loud_string('its raining')"
   ]
  },
  {
   "cell_type": "markdown",
   "id": "a9ca6bc7",
   "metadata": {},
   "source": [
    "#### how do we include a single quote"
   ]
  },
  {
   "cell_type": "code",
   "execution_count": 122,
   "id": "759ae426",
   "metadata": {},
   "outputs": [
    {
     "ename": "SyntaxError",
     "evalue": "invalid syntax (1022276902.py, line 1)",
     "output_type": "error",
     "traceback": [
      "\u001b[0;36m  Input \u001b[0;32mIn [122]\u001b[0;36m\u001b[0m\n\u001b[0;31m    loud_string('it's raining')\u001b[0m\n\u001b[0m                    ^\u001b[0m\n\u001b[0;31mSyntaxError\u001b[0m\u001b[0;31m:\u001b[0m invalid syntax\n"
     ]
    }
   ],
   "source": [
    "loud_string('it's raining')"
   ]
  },
  {
   "cell_type": "code",
   "execution_count": 123,
   "id": "274c0904",
   "metadata": {},
   "outputs": [
    {
     "data": {
      "text/plain": [
       "\"IT'S RAINING!!!\""
      ]
     },
     "execution_count": 123,
     "metadata": {},
     "output_type": "execute_result"
    }
   ],
   "source": [
    "loud_string(\"it's raining\") #add double quotes"
   ]
  },
  {
   "cell_type": "code",
   "execution_count": 124,
   "id": "990d851e",
   "metadata": {},
   "outputs": [
    {
     "data": {
      "text/plain": [
       "\"IT'S RAINING!!!\""
      ]
     },
     "execution_count": 124,
     "metadata": {},
     "output_type": "execute_result"
    }
   ],
   "source": [
    "loud_string('it\\'s raining') #add escape character aka \\"
   ]
  },
  {
   "cell_type": "code",
   "execution_count": 125,
   "id": "b93604c0",
   "metadata": {},
   "outputs": [
    {
     "ename": "NameError",
     "evalue": "name 'input_string' is not defined",
     "output_type": "error",
     "traceback": [
      "\u001b[0;31m---------------------------------------------------------------------------\u001b[0m",
      "\u001b[0;31mNameError\u001b[0m                                 Traceback (most recent call last)",
      "Input \u001b[0;32mIn [125]\u001b[0m, in \u001b[0;36m<cell line: 1>\u001b[0;34m()\u001b[0m\n\u001b[0;32m----> 1\u001b[0m \u001b[43minput_string\u001b[49m\n",
      "\u001b[0;31mNameError\u001b[0m: name 'input_string' is not defined"
     ]
    }
   ],
   "source": [
    "input_string"
   ]
  },
  {
   "cell_type": "markdown",
   "id": "127b7f18",
   "metadata": {},
   "source": [
    "- this variable doesnt exist outside my function"
   ]
  },
  {
   "cell_type": "markdown",
   "id": "31f5953d",
   "metadata": {},
   "source": [
    "### arguments"
   ]
  },
  {
   "cell_type": "markdown",
   "id": "7910c606",
   "metadata": {},
   "source": [
    "-- argument: the value a function is called with"
   ]
  },
  {
   "cell_type": "markdown",
   "id": "616e6329",
   "metadata": {},
   "source": [
    "#### multiples"
   ]
  },
  {
   "cell_type": "code",
   "execution_count": 127,
   "id": "1380edab",
   "metadata": {},
   "outputs": [],
   "source": [
    "def add_things(a,b): #takes two arguments\n",
    "    result = a + b\n",
    "    return result"
   ]
  },
  {
   "cell_type": "code",
   "execution_count": 128,
   "id": "3886c7a2",
   "metadata": {},
   "outputs": [
    {
     "data": {
      "text/plain": [
       "15"
      ]
     },
     "execution_count": 128,
     "metadata": {},
     "output_type": "execute_result"
    }
   ],
   "source": [
    "add_things(5,10)"
   ]
  },
  {
   "cell_type": "markdown",
   "id": "c1f6a83c",
   "metadata": {},
   "source": [
    "- the arguments are 5 and 10"
   ]
  },
  {
   "cell_type": "code",
   "execution_count": 130,
   "id": "6e7fa569",
   "metadata": {},
   "outputs": [
    {
     "data": {
      "text/plain": [
       "45"
      ]
     },
     "execution_count": 130,
     "metadata": {},
     "output_type": "execute_result"
    }
   ],
   "source": [
    "add_things(20,25)"
   ]
  },
  {
   "cell_type": "code",
   "execution_count": 132,
   "id": "1d52e0ee",
   "metadata": {},
   "outputs": [
    {
     "data": {
      "text/plain": [
       "'hellopagel'"
      ]
     },
     "execution_count": 132,
     "metadata": {},
     "output_type": "execute_result"
    }
   ],
   "source": [
    "add_things('hello','pagel')"
   ]
  },
  {
   "cell_type": "code",
   "execution_count": 133,
   "id": "50b67384",
   "metadata": {},
   "outputs": [
    {
     "ename": "TypeError",
     "evalue": "add_things() missing 1 required positional argument: 'b'",
     "output_type": "error",
     "traceback": [
      "\u001b[0;31m---------------------------------------------------------------------------\u001b[0m",
      "\u001b[0;31mTypeError\u001b[0m                                 Traceback (most recent call last)",
      "Input \u001b[0;32mIn [133]\u001b[0m, in \u001b[0;36m<cell line: 1>\u001b[0;34m()\u001b[0m\n\u001b[0;32m----> 1\u001b[0m \u001b[43madd_things\u001b[49m\u001b[43m(\u001b[49m\u001b[38;5;124;43m'\u001b[39;49m\u001b[38;5;124;43mhello\u001b[39;49m\u001b[38;5;124;43m'\u001b[39;49m\u001b[43m)\u001b[49m\n",
      "\u001b[0;31mTypeError\u001b[0m: add_things() missing 1 required positional argument: 'b'"
     ]
    }
   ],
   "source": [
    "add_things('hello')"
   ]
  },
  {
   "cell_type": "code",
   "execution_count": 134,
   "id": "0183ad19",
   "metadata": {},
   "outputs": [
    {
     "ename": "TypeError",
     "evalue": "add_things() takes 2 positional arguments but 3 were given",
     "output_type": "error",
     "traceback": [
      "\u001b[0;31m---------------------------------------------------------------------------\u001b[0m",
      "\u001b[0;31mTypeError\u001b[0m                                 Traceback (most recent call last)",
      "Input \u001b[0;32mIn [134]\u001b[0m, in \u001b[0;36m<cell line: 1>\u001b[0;34m()\u001b[0m\n\u001b[0;32m----> 1\u001b[0m \u001b[43madd_things\u001b[49m\u001b[43m(\u001b[49m\u001b[38;5;124;43m'\u001b[39;49m\u001b[38;5;124;43mhello\u001b[39;49m\u001b[38;5;124;43m'\u001b[39;49m\u001b[43m,\u001b[49m\u001b[38;5;124;43m'\u001b[39;49m\u001b[38;5;124;43mpagel\u001b[39;49m\u001b[38;5;124;43m'\u001b[39;49m\u001b[43m,\u001b[49m\u001b[38;5;124;43m'\u001b[39;49m\u001b[38;5;124;43mclass\u001b[39;49m\u001b[38;5;124;43m'\u001b[39;49m\u001b[43m)\u001b[49m\n",
      "\u001b[0;31mTypeError\u001b[0m: add_things() takes 2 positional arguments but 3 were given"
     ]
    }
   ],
   "source": [
    "add_things('hello','pagel','class')"
   ]
  },
  {
   "cell_type": "code",
   "execution_count": 135,
   "id": "b5c30c73",
   "metadata": {},
   "outputs": [
    {
     "ename": "TypeError",
     "evalue": "unsupported operand type(s) for +: 'int' and 'str'",
     "output_type": "error",
     "traceback": [
      "\u001b[0;31m---------------------------------------------------------------------------\u001b[0m",
      "\u001b[0;31mTypeError\u001b[0m                                 Traceback (most recent call last)",
      "Input \u001b[0;32mIn [135]\u001b[0m, in \u001b[0;36m<cell line: 1>\u001b[0;34m()\u001b[0m\n\u001b[0;32m----> 1\u001b[0m \u001b[43madd_things\u001b[49m\u001b[43m(\u001b[49m\u001b[38;5;241;43m1\u001b[39;49m\u001b[43m,\u001b[49m\u001b[38;5;124;43m'\u001b[39;49m\u001b[38;5;124;43mhello\u001b[39;49m\u001b[38;5;124;43m'\u001b[39;49m\u001b[43m)\u001b[49m\n",
      "Input \u001b[0;32mIn [127]\u001b[0m, in \u001b[0;36madd_things\u001b[0;34m(a, b)\u001b[0m\n\u001b[1;32m      1\u001b[0m \u001b[38;5;28;01mdef\u001b[39;00m \u001b[38;5;21madd_things\u001b[39m(a,b): \u001b[38;5;66;03m#takes two arguments\u001b[39;00m\n\u001b[0;32m----> 2\u001b[0m     result \u001b[38;5;241m=\u001b[39m \u001b[43ma\u001b[49m\u001b[43m \u001b[49m\u001b[38;5;241;43m+\u001b[39;49m\u001b[43m \u001b[49m\u001b[43mb\u001b[49m\n\u001b[1;32m      3\u001b[0m     \u001b[38;5;28;01mreturn\u001b[39;00m result\n",
      "\u001b[0;31mTypeError\u001b[0m: unsupported operand type(s) for +: 'int' and 'str'"
     ]
    }
   ],
   "source": [
    "add_things(1,'hello')"
   ]
  },
  {
   "cell_type": "code",
   "execution_count": null,
   "id": "4afd8cd5",
   "metadata": {},
   "outputs": [],
   "source": [
    "def add_things(a,b): #takes two arguments\n",
    "    result = a + b\n",
    "    return result"
   ]
  },
  {
   "cell_type": "markdown",
   "id": "4168eb7c",
   "metadata": {},
   "source": [
    "#### position matters"
   ]
  },
  {
   "cell_type": "code",
   "execution_count": 136,
   "id": "3ff6d476",
   "metadata": {},
   "outputs": [],
   "source": [
    "def do_things(a,b):\n",
    "    a = a + 1\n",
    "    b = b * -1000\n",
    "    return a,b"
   ]
  },
  {
   "cell_type": "code",
   "execution_count": 144,
   "id": "77231824",
   "metadata": {},
   "outputs": [
    {
     "ename": "TypeError",
     "evalue": "do_things() missing 2 required positional arguments: 'a' and 'b'",
     "output_type": "error",
     "traceback": [
      "\u001b[0;31m---------------------------------------------------------------------------\u001b[0m",
      "\u001b[0;31mTypeError\u001b[0m                                 Traceback (most recent call last)",
      "Input \u001b[0;32mIn [144]\u001b[0m, in \u001b[0;36m<cell line: 1>\u001b[0;34m()\u001b[0m\n\u001b[0;32m----> 1\u001b[0m \u001b[43mdo_things\u001b[49m\u001b[43m(\u001b[49m\u001b[43m)\u001b[49m\n",
      "\u001b[0;31mTypeError\u001b[0m: do_things() missing 2 required positional arguments: 'a' and 'b'"
     ]
    }
   ],
   "source": [
    "do_things()"
   ]
  },
  {
   "cell_type": "code",
   "execution_count": 137,
   "id": "50275c64",
   "metadata": {},
   "outputs": [
    {
     "data": {
      "text/plain": [
       "(6, -10000)"
      ]
     },
     "execution_count": 137,
     "metadata": {},
     "output_type": "execute_result"
    }
   ],
   "source": [
    "do_things(5,10)"
   ]
  },
  {
   "cell_type": "markdown",
   "id": "2d890263",
   "metadata": {},
   "source": [
    "- 5 corresponds to the a variable since it was sent in first\n",
    "- 10 corresponds to the b variable since it was sent in second"
   ]
  },
  {
   "cell_type": "markdown",
   "id": "e6a4651d",
   "metadata": {},
   "source": [
    "#### kwargs (keyword arguments)"
   ]
  },
  {
   "cell_type": "code",
   "execution_count": 139,
   "id": "aec71b01",
   "metadata": {},
   "outputs": [
    {
     "data": {
      "text/plain": [
       "(11, -5000)"
      ]
     },
     "execution_count": 139,
     "metadata": {},
     "output_type": "execute_result"
    }
   ],
   "source": [
    "#call do_things by keyword\n",
    "do_things(b=5, a=10) #this is where im calling my function"
   ]
  },
  {
   "cell_type": "markdown",
   "id": "6104b9f6",
   "metadata": {},
   "source": [
    "- they are returning in the order they are written in the return statement"
   ]
  },
  {
   "cell_type": "code",
   "execution_count": 141,
   "id": "49d95d97",
   "metadata": {},
   "outputs": [
    {
     "data": {
      "text/plain": [
       "(11, -5000)"
      ]
     },
     "execution_count": 141,
     "metadata": {},
     "output_type": "execute_result"
    }
   ],
   "source": [
    "do_things(a=10, b=5)"
   ]
  },
  {
   "cell_type": "markdown",
   "id": "767a781b",
   "metadata": {},
   "source": [
    "#### default values"
   ]
  },
  {
   "cell_type": "code",
   "execution_count": 142,
   "id": "4cfdd790",
   "metadata": {},
   "outputs": [],
   "source": [
    "def do_things_extra(a=200, b=5): #defining default values\n",
    "    a = a + 1\n",
    "    b = b * -1000\n",
    "    return(a,b)"
   ]
  },
  {
   "cell_type": "code",
   "execution_count": 145,
   "id": "c47ed78f",
   "metadata": {},
   "outputs": [
    {
     "data": {
      "text/plain": [
       "(201, -5000)"
      ]
     },
     "execution_count": 145,
     "metadata": {},
     "output_type": "execute_result"
    }
   ],
   "source": [
    "do_things_extra() #dont need input arguments since they are defined in my function"
   ]
  },
  {
   "cell_type": "code",
   "execution_count": 147,
   "id": "69f312f7",
   "metadata": {},
   "outputs": [
    {
     "ename": "SyntaxError",
     "evalue": "invalid syntax (913997361.py, line 1)",
     "output_type": "error",
     "traceback": [
      "\u001b[0;36m  Input \u001b[0;32mIn [147]\u001b[0;36m\u001b[0m\n\u001b[0;31m    do_things_extra(,10)\u001b[0m\n\u001b[0m                    ^\u001b[0m\n\u001b[0;31mSyntaxError\u001b[0m\u001b[0;31m:\u001b[0m invalid syntax\n"
     ]
    }
   ],
   "source": [
    "do_things_extra(,10) #this syntax doesnt work"
   ]
  },
  {
   "cell_type": "code",
   "execution_count": 148,
   "id": "2caaef1c",
   "metadata": {},
   "outputs": [
    {
     "data": {
      "text/plain": [
       "(201, -10000)"
      ]
     },
     "execution_count": 148,
     "metadata": {},
     "output_type": "execute_result"
    }
   ],
   "source": [
    "do_things_extra(b=10) #there is no a variable input"
   ]
  },
  {
   "cell_type": "code",
   "execution_count": 149,
   "id": "e63bb121",
   "metadata": {},
   "outputs": [
    {
     "data": {
      "text/plain": [
       "(201, -5000)"
      ]
     },
     "execution_count": 149,
     "metadata": {},
     "output_type": "execute_result"
    }
   ],
   "source": [
    "do_things_extra()"
   ]
  },
  {
   "cell_type": "markdown",
   "id": "26395a8e",
   "metadata": {},
   "source": [
    "#### unpacking arguments"
   ]
  },
  {
   "cell_type": "code",
   "execution_count": 159,
   "id": "f6a226f7",
   "metadata": {},
   "outputs": [],
   "source": [
    "#by list\n",
    "args = [5,10]"
   ]
  },
  {
   "cell_type": "code",
   "execution_count": 160,
   "id": "0282153d",
   "metadata": {},
   "outputs": [
    {
     "data": {
      "text/plain": [
       "(6, -10000)"
      ]
     },
     "execution_count": 160,
     "metadata": {},
     "output_type": "execute_result"
    }
   ],
   "source": [
    "do_things(*args)"
   ]
  },
  {
   "cell_type": "code",
   "execution_count": 161,
   "id": "0d20c718",
   "metadata": {},
   "outputs": [
    {
     "ename": "TypeError",
     "evalue": "do_things() missing 1 required positional argument: 'b'",
     "output_type": "error",
     "traceback": [
      "\u001b[0;31m---------------------------------------------------------------------------\u001b[0m",
      "\u001b[0;31mTypeError\u001b[0m                                 Traceback (most recent call last)",
      "Input \u001b[0;32mIn [161]\u001b[0m, in \u001b[0;36m<cell line: 1>\u001b[0;34m()\u001b[0m\n\u001b[0;32m----> 1\u001b[0m \u001b[43mdo_things\u001b[49m\u001b[43m(\u001b[49m\u001b[43margs\u001b[49m\u001b[43m)\u001b[49m\n",
      "\u001b[0;31mTypeError\u001b[0m: do_things() missing 1 required positional argument: 'b'"
     ]
    }
   ],
   "source": [
    "do_things(args)"
   ]
  },
  {
   "cell_type": "markdown",
   "id": "bf8fd9c6",
   "metadata": {},
   "source": [
    "- to pull each piece from the list, we need the * in front"
   ]
  },
  {
   "cell_type": "code",
   "execution_count": 162,
   "id": "ad5b0bea",
   "metadata": {},
   "outputs": [],
   "source": [
    "#by list\n",
    "args_long = [5,10,13]"
   ]
  },
  {
   "cell_type": "code",
   "execution_count": 163,
   "id": "62db99d0",
   "metadata": {},
   "outputs": [
    {
     "ename": "TypeError",
     "evalue": "do_things() takes 2 positional arguments but 3 were given",
     "output_type": "error",
     "traceback": [
      "\u001b[0;31m---------------------------------------------------------------------------\u001b[0m",
      "\u001b[0;31mTypeError\u001b[0m                                 Traceback (most recent call last)",
      "Input \u001b[0;32mIn [163]\u001b[0m, in \u001b[0;36m<cell line: 1>\u001b[0;34m()\u001b[0m\n\u001b[0;32m----> 1\u001b[0m \u001b[43mdo_things\u001b[49m\u001b[43m(\u001b[49m\u001b[38;5;241;43m*\u001b[39;49m\u001b[43margs_long\u001b[49m\u001b[43m)\u001b[49m\n",
      "\u001b[0;31mTypeError\u001b[0m: do_things() takes 2 positional arguments but 3 were given"
     ]
    }
   ],
   "source": [
    "do_things(*args_long)"
   ]
  },
  {
   "cell_type": "code",
   "execution_count": 164,
   "id": "bc48ad29",
   "metadata": {},
   "outputs": [],
   "source": [
    "def do_things(a,b):\n",
    "    a = a + 1\n",
    "    b = b * -1000\n",
    "    return a,b"
   ]
  },
  {
   "cell_type": "code",
   "execution_count": 165,
   "id": "1b62cdbb",
   "metadata": {},
   "outputs": [],
   "source": [
    "#by dictionary\n",
    "kwargs = {'b':50,'a':2}"
   ]
  },
  {
   "cell_type": "code",
   "execution_count": 166,
   "id": "c30912d9",
   "metadata": {},
   "outputs": [
    {
     "data": {
      "text/plain": [
       "(3, -50000)"
      ]
     },
     "execution_count": 166,
     "metadata": {},
     "output_type": "execute_result"
    }
   ],
   "source": [
    "do_things(**kwargs)"
   ]
  },
  {
   "cell_type": "markdown",
   "id": "4c2f7e32",
   "metadata": {},
   "source": [
    "- the ** allow us to unpack the dictionary by argument name"
   ]
  },
  {
   "cell_type": "markdown",
   "id": "1d0a38f4",
   "metadata": {},
   "source": [
    "### scope"
   ]
  },
  {
   "cell_type": "code",
   "execution_count": 167,
   "id": "522940c4",
   "metadata": {},
   "outputs": [],
   "source": [
    "outside_number = 10 "
   ]
  },
  {
   "cell_type": "code",
   "execution_count": 168,
   "id": "88eff03b",
   "metadata": {},
   "outputs": [
    {
     "name": "stdout",
     "output_type": "stream",
     "text": [
      "hello\n"
     ]
    }
   ],
   "source": [
    "def do_math(func_numb):\n",
    "    print(outside_number) #working as a global variable\n",
    "    print(func_numb)\n",
    "    \n",
    "print('hello') #not indented, not inside the function, so it prints out"
   ]
  },
  {
   "cell_type": "code",
   "execution_count": 169,
   "id": "de6e01ef",
   "metadata": {},
   "outputs": [
    {
     "name": "stdout",
     "output_type": "stream",
     "text": [
      "10\n",
      "5\n"
     ]
    }
   ],
   "source": [
    "do_math(5)"
   ]
  },
  {
   "cell_type": "code",
   "execution_count": 170,
   "id": "eda61d64",
   "metadata": {},
   "outputs": [
    {
     "data": {
      "text/plain": [
       "10"
      ]
     },
     "execution_count": 170,
     "metadata": {},
     "output_type": "execute_result"
    }
   ],
   "source": [
    "outside_number #this has been defined outside our function"
   ]
  },
  {
   "cell_type": "code",
   "execution_count": 171,
   "id": "a0ddd931",
   "metadata": {},
   "outputs": [
    {
     "ename": "NameError",
     "evalue": "name 'func_numb' is not defined",
     "output_type": "error",
     "traceback": [
      "\u001b[0;31m---------------------------------------------------------------------------\u001b[0m",
      "\u001b[0;31mNameError\u001b[0m                                 Traceback (most recent call last)",
      "Input \u001b[0;32mIn [171]\u001b[0m, in \u001b[0;36m<cell line: 1>\u001b[0;34m()\u001b[0m\n\u001b[0;32m----> 1\u001b[0m \u001b[43mfunc_numb\u001b[49m\n",
      "\u001b[0;31mNameError\u001b[0m: name 'func_numb' is not defined"
     ]
    }
   ],
   "source": [
    "func_numb #this is only defined inside our function"
   ]
  },
  {
   "cell_type": "markdown",
   "id": "718835cc",
   "metadata": {},
   "source": [
    "- be mindful of what your variable names are, and where they are defined at\n",
    "- are they defined outside or inside of the function?"
   ]
  },
  {
   "cell_type": "code",
   "execution_count": 172,
   "id": "c64e7c9c",
   "metadata": {},
   "outputs": [
    {
     "name": "stdout",
     "output_type": "stream",
     "text": [
      "10\n",
      "5\n"
     ]
    }
   ],
   "source": [
    "do_math(5)"
   ]
  },
  {
   "cell_type": "code",
   "execution_count": 173,
   "id": "20693582",
   "metadata": {},
   "outputs": [
    {
     "name": "stdout",
     "output_type": "stream",
     "text": [
      "10\n",
      "5\n"
     ]
    }
   ],
   "source": [
    "var_do_math = do_math(5)"
   ]
  },
  {
   "cell_type": "code",
   "execution_count": 174,
   "id": "5c96363b",
   "metadata": {},
   "outputs": [],
   "source": [
    "var_do_math"
   ]
  },
  {
   "cell_type": "code",
   "execution_count": 175,
   "id": "40c79204",
   "metadata": {},
   "outputs": [
    {
     "data": {
      "text/plain": [
       "NoneType"
      ]
     },
     "execution_count": 175,
     "metadata": {},
     "output_type": "execute_result"
    }
   ],
   "source": [
    "type(var_do_math) "
   ]
  },
  {
   "cell_type": "markdown",
   "id": "e5a782f9",
   "metadata": {},
   "source": [
    "- there is NO RETURN STATEMENT"
   ]
  },
  {
   "cell_type": "markdown",
   "id": "e81d1d21",
   "metadata": {},
   "source": [
    "- only use a print statement if you want to see the output, but not save it for later\n",
    "- you need the return statement to save the variable"
   ]
  },
  {
   "cell_type": "markdown",
   "id": "5c008ef7",
   "metadata": {},
   "source": [
    "### lambda"
   ]
  },
  {
   "cell_type": "markdown",
   "id": "01079553",
   "metadata": {},
   "source": [
    "- a function that can be created in one line, when you have a one line return statement "
   ]
  },
  {
   "cell_type": "code",
   "execution_count": 176,
   "id": "fe88bc14",
   "metadata": {},
   "outputs": [],
   "source": [
    "# FORMAT: \n",
    "# [function_name] = lambda [variable] : [transform_variable] "
   ]
  },
  {
   "cell_type": "code",
   "execution_count": 178,
   "id": "e0080e57",
   "metadata": {},
   "outputs": [],
   "source": [
    "# long way\n",
    "def add_one_try_again(n):\n",
    "    return n + 1"
   ]
  },
  {
   "cell_type": "code",
   "execution_count": 179,
   "id": "0703915c",
   "metadata": {},
   "outputs": [
    {
     "data": {
      "text/plain": [
       "6"
      ]
     },
     "execution_count": 179,
     "metadata": {},
     "output_type": "execute_result"
    }
   ],
   "source": [
    "add_one_try_again(5)"
   ]
  },
  {
   "cell_type": "code",
   "execution_count": 183,
   "id": "5ee69d24",
   "metadata": {},
   "outputs": [],
   "source": [
    "#one liner for simple function\n",
    "add_one_lambda = lambda n : n + 1"
   ]
  },
  {
   "cell_type": "code",
   "execution_count": 184,
   "id": "a8c950eb",
   "metadata": {},
   "outputs": [
    {
     "data": {
      "text/plain": [
       "6"
      ]
     },
     "execution_count": 184,
     "metadata": {},
     "output_type": "execute_result"
    }
   ],
   "source": [
    "add_one_lambda(5)"
   ]
  },
  {
   "cell_type": "code",
   "execution_count": 188,
   "id": "5d6867cd",
   "metadata": {},
   "outputs": [],
   "source": [
    "#multiple arguments, but one operation\n",
    "try_this = lambda n, x : n + 1*x"
   ]
  },
  {
   "cell_type": "code",
   "execution_count": 189,
   "id": "1b0d89f6",
   "metadata": {},
   "outputs": [
    {
     "data": {
      "text/plain": [
       "15"
      ]
     },
     "execution_count": 189,
     "metadata": {},
     "output_type": "execute_result"
    }
   ],
   "source": [
    "try_this(5,10)"
   ]
  },
  {
   "cell_type": "code",
   "execution_count": null,
   "id": "56606a16",
   "metadata": {},
   "outputs": [],
   "source": []
  }
 ],
 "metadata": {
  "kernelspec": {
   "display_name": "Python 3 (ipykernel)",
   "language": "python",
   "name": "python3"
  },
  "language_info": {
   "codemirror_mode": {
    "name": "ipython",
    "version": 3
   },
   "file_extension": ".py",
   "mimetype": "text/x-python",
   "name": "python",
   "nbconvert_exporter": "python",
   "pygments_lexer": "ipython3",
   "version": "3.9.12"
  }
 },
 "nbformat": 4,
 "nbformat_minor": 5
}
