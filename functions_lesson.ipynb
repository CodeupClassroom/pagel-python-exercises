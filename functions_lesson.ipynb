{
 "cells": [
  {
   "cell_type": "markdown",
   "id": "3baffd4f",
   "metadata": {},
   "source": [
    "# Functions"
   ]
  },
  {
   "cell_type": "markdown",
   "id": "9db1794f",
   "metadata": {},
   "source": [
    "What are they? generally code that takes in data, transforms it, and outputs new data"
   ]
  },
  {
   "cell_type": "markdown",
   "id": "1b8d633d",
   "metadata": {},
   "source": [
    "Why do we care? because we can use already made code to repeat the same block code over and over! "
   ]
  },
  {
   "cell_type": "markdown",
   "id": "6bc75031",
   "metadata": {},
   "source": [
    "generally interacting with two types\n",
    "- someone else's function\n",
    "- or a function that you create! "
   ]
  },
  {
   "cell_type": "markdown",
   "id": "919efd5d",
   "metadata": {},
   "source": [
    "note: functions always have those parenthesis at the end! "
   ]
  },
  {
   "cell_type": "markdown",
   "id": "1611775b",
   "metadata": {},
   "source": [
    "## built-in functions"
   ]
  },
  {
   "cell_type": "markdown",
   "id": "32914baa",
   "metadata": {},
   "source": [
    "#### some you may have already seen"
   ]
  },
  {
   "cell_type": "code",
   "execution_count": null,
   "id": "967eae14",
   "metadata": {},
   "outputs": [],
   "source": [
    "#new list\n",
    "ls = [1,34,5245,3,23,13467,-2]"
   ]
  },
  {
   "cell_type": "code",
   "execution_count": null,
   "id": "b1670d10",
   "metadata": {},
   "outputs": [],
   "source": []
  },
  {
   "cell_type": "code",
   "execution_count": null,
   "id": "581c910b",
   "metadata": {},
   "outputs": [],
   "source": []
  },
  {
   "cell_type": "code",
   "execution_count": null,
   "id": "9b33b2f7",
   "metadata": {},
   "outputs": [],
   "source": []
  },
  {
   "cell_type": "code",
   "execution_count": null,
   "id": "fb14307d",
   "metadata": {},
   "outputs": [],
   "source": []
  },
  {
   "cell_type": "markdown",
   "id": "37db4ad7",
   "metadata": {},
   "source": [
    "#### troubleshooting errors"
   ]
  },
  {
   "cell_type": "code",
   "execution_count": null,
   "id": "bc5754bb",
   "metadata": {},
   "outputs": [],
   "source": [
    "len"
   ]
  },
  {
   "cell_type": "code",
   "execution_count": null,
   "id": "e2797525",
   "metadata": {},
   "outputs": [],
   "source": [
    "len()"
   ]
  },
  {
   "cell_type": "markdown",
   "id": "23919c73",
   "metadata": {},
   "source": [
    "## make our own functions!\n",
    "\n",
    "1. first define the function (create it)\n",
    "2. then call the function (access it)"
   ]
  },
  {
   "cell_type": "markdown",
   "id": "aae3ba1f",
   "metadata": {},
   "source": [
    "#### define a function"
   ]
  },
  {
   "cell_type": "code",
   "execution_count": null,
   "id": "19f12c2a",
   "metadata": {},
   "outputs": [],
   "source": [
    "# FORMAT:\n",
    "# def [function_name]([input]):\n",
    "#     return [output]"
   ]
  },
  {
   "cell_type": "code",
   "execution_count": null,
   "id": "ffb956d2",
   "metadata": {},
   "outputs": [],
   "source": [
    "#create a function that adds one every time\n"
   ]
  },
  {
   "cell_type": "markdown",
   "id": "103adadf",
   "metadata": {},
   "source": [
    "what happening in the above code?\n"
   ]
  },
  {
   "cell_type": "markdown",
   "id": "cabbfada",
   "metadata": {},
   "source": [
    "note:\n",
    "- all we have done so far is define our function\n",
    "- nothing is executing"
   ]
  },
  {
   "cell_type": "markdown",
   "id": "5837c94b",
   "metadata": {},
   "source": [
    "#### call the function we created"
   ]
  },
  {
   "cell_type": "code",
   "execution_count": null,
   "id": "b7940b27",
   "metadata": {},
   "outputs": [],
   "source": [
    "# FORMAT:\n",
    "# [function_name]([input])"
   ]
  },
  {
   "cell_type": "code",
   "execution_count": null,
   "id": "321378fb",
   "metadata": {},
   "outputs": [],
   "source": []
  },
  {
   "cell_type": "code",
   "execution_count": null,
   "id": "2da7333b",
   "metadata": {},
   "outputs": [],
   "source": []
  },
  {
   "cell_type": "code",
   "execution_count": null,
   "id": "2c425813",
   "metadata": {},
   "outputs": [],
   "source": []
  },
  {
   "cell_type": "code",
   "execution_count": null,
   "id": "24348e45",
   "metadata": {},
   "outputs": [],
   "source": [
    "#nest the function\n"
   ]
  },
  {
   "cell_type": "markdown",
   "id": "1a732293",
   "metadata": {},
   "source": [
    "#### look at the input variable"
   ]
  },
  {
   "cell_type": "code",
   "execution_count": null,
   "id": "7f7eaa75",
   "metadata": {},
   "outputs": [],
   "source": []
  },
  {
   "cell_type": "markdown",
   "id": "df0b44c3",
   "metadata": {},
   "source": [
    "### printing vs returning vs nothing in functions"
   ]
  },
  {
   "cell_type": "markdown",
   "id": "89cdd219",
   "metadata": {},
   "source": [
    "#### define em"
   ]
  },
  {
   "cell_type": "code",
   "execution_count": null,
   "id": "726733f6",
   "metadata": {},
   "outputs": [],
   "source": [
    "# def add_one_return(i):"
   ]
  },
  {
   "cell_type": "code",
   "execution_count": null,
   "id": "ca1a6f6d",
   "metadata": {},
   "outputs": [],
   "source": [
    "# def add_one_print(i):"
   ]
  },
  {
   "cell_type": "code",
   "execution_count": null,
   "id": "e41f56bd",
   "metadata": {},
   "outputs": [],
   "source": [
    "# def add_one_none(i):"
   ]
  },
  {
   "cell_type": "markdown",
   "id": "792ede87",
   "metadata": {},
   "source": [
    "#### call em"
   ]
  },
  {
   "cell_type": "code",
   "execution_count": null,
   "id": "19a1d91f",
   "metadata": {},
   "outputs": [],
   "source": [
    "# add_one_return"
   ]
  },
  {
   "cell_type": "code",
   "execution_count": null,
   "id": "e797d61f",
   "metadata": {},
   "outputs": [],
   "source": [
    "# add_one_print"
   ]
  },
  {
   "cell_type": "code",
   "execution_count": null,
   "id": "8d985dfc",
   "metadata": {},
   "outputs": [],
   "source": [
    "# add_one_none"
   ]
  },
  {
   "cell_type": "markdown",
   "id": "11e9d59f",
   "metadata": {},
   "source": [
    "questions:\n",
    "- return and print look the same, are they?\n",
    "- why does add_one_none return nothing?"
   ]
  },
  {
   "cell_type": "markdown",
   "id": "457cb0fb",
   "metadata": {},
   "source": [
    "#### investigate"
   ]
  },
  {
   "cell_type": "code",
   "execution_count": null,
   "id": "83415245",
   "metadata": {},
   "outputs": [],
   "source": []
  },
  {
   "cell_type": "code",
   "execution_count": null,
   "id": "5409e5a7",
   "metadata": {},
   "outputs": [],
   "source": []
  },
  {
   "cell_type": "code",
   "execution_count": null,
   "id": "e30850f3",
   "metadata": {},
   "outputs": [],
   "source": []
  },
  {
   "cell_type": "markdown",
   "id": "ee003c5c",
   "metadata": {},
   "source": [
    "### lets make it more complex"
   ]
  },
  {
   "cell_type": "markdown",
   "id": "36e99e18",
   "metadata": {},
   "source": [
    "#### ex. let's create a function that takes in a string, uppercases everything and then adds 3 exclamation points  "
   ]
  },
  {
   "cell_type": "markdown",
   "id": "a04d0475",
   "metadata": {},
   "source": [
    "best practice for creating functions\n",
    "1. get your code working outside of the function first\n",
    "2. once your code is working correctly, then define it as a function\n",
    "3. call and test your function"
   ]
  },
  {
   "cell_type": "markdown",
   "id": "eaaec7b0",
   "metadata": {},
   "source": [
    "#### 1. get your code working outside of the function first"
   ]
  },
  {
   "cell_type": "code",
   "execution_count": null,
   "id": "aa080a25",
   "metadata": {},
   "outputs": [],
   "source": []
  },
  {
   "cell_type": "code",
   "execution_count": null,
   "id": "ca826882",
   "metadata": {},
   "outputs": [],
   "source": []
  },
  {
   "cell_type": "code",
   "execution_count": null,
   "id": "79a7feef",
   "metadata": {},
   "outputs": [],
   "source": []
  },
  {
   "cell_type": "markdown",
   "id": "35ca2153",
   "metadata": {},
   "source": [
    "#### 2. once your code is working correctly, then define it as a function"
   ]
  },
  {
   "cell_type": "code",
   "execution_count": null,
   "id": "5bb09baf",
   "metadata": {},
   "outputs": [],
   "source": []
  },
  {
   "cell_type": "markdown",
   "id": "9cc975ee",
   "metadata": {},
   "source": [
    "#### 3. call and test your function"
   ]
  },
  {
   "cell_type": "code",
   "execution_count": null,
   "id": "6bff5eae",
   "metadata": {},
   "outputs": [],
   "source": []
  },
  {
   "cell_type": "code",
   "execution_count": null,
   "id": "a507e3a6",
   "metadata": {},
   "outputs": [],
   "source": []
  },
  {
   "cell_type": "markdown",
   "id": "31f5953d",
   "metadata": {},
   "source": [
    "### arguments"
   ]
  },
  {
   "cell_type": "markdown",
   "id": "7910c606",
   "metadata": {},
   "source": [
    "-- argument: the value a function is called with"
   ]
  },
  {
   "cell_type": "markdown",
   "id": "616e6329",
   "metadata": {},
   "source": [
    "#### multiples"
   ]
  },
  {
   "cell_type": "code",
   "execution_count": null,
   "id": "1380edab",
   "metadata": {},
   "outputs": [],
   "source": [
    "# def add_things(a,b): #takes two arguments\n",
    "#     result = a + b\n",
    "#     return result"
   ]
  },
  {
   "cell_type": "code",
   "execution_count": null,
   "id": "d9f907fd",
   "metadata": {},
   "outputs": [],
   "source": []
  },
  {
   "cell_type": "code",
   "execution_count": null,
   "id": "3494e453",
   "metadata": {},
   "outputs": [],
   "source": []
  },
  {
   "cell_type": "code",
   "execution_count": null,
   "id": "28ccf9ff",
   "metadata": {},
   "outputs": [],
   "source": []
  },
  {
   "cell_type": "markdown",
   "id": "4168eb7c",
   "metadata": {},
   "source": [
    "#### position matters"
   ]
  },
  {
   "cell_type": "code",
   "execution_count": null,
   "id": "3ff6d476",
   "metadata": {},
   "outputs": [],
   "source": [
    "# def do_things(a,b):\n",
    "#     a = a + 1\n",
    "#     b = b * -1000\n",
    "#     return a,b"
   ]
  },
  {
   "cell_type": "code",
   "execution_count": null,
   "id": "bd23c91d",
   "metadata": {},
   "outputs": [],
   "source": []
  },
  {
   "cell_type": "code",
   "execution_count": null,
   "id": "02742c71",
   "metadata": {},
   "outputs": [],
   "source": []
  },
  {
   "cell_type": "markdown",
   "id": "e6a4651d",
   "metadata": {},
   "source": [
    "#### kwargs (keyword arguments)"
   ]
  },
  {
   "cell_type": "code",
   "execution_count": null,
   "id": "52e54b6d",
   "metadata": {},
   "outputs": [],
   "source": [
    "#call do_things by keyword\n"
   ]
  },
  {
   "cell_type": "code",
   "execution_count": null,
   "id": "e6ac8a14",
   "metadata": {},
   "outputs": [],
   "source": []
  },
  {
   "cell_type": "markdown",
   "id": "767a781b",
   "metadata": {},
   "source": [
    "#### default values"
   ]
  },
  {
   "cell_type": "code",
   "execution_count": null,
   "id": "4cfdd790",
   "metadata": {},
   "outputs": [],
   "source": [
    "# def do_things_extra(a=200, b=5): #defining default values\n",
    "#     a = a + 1\n",
    "#     b = b * -1000\n",
    "#     return(a,b)"
   ]
  },
  {
   "cell_type": "code",
   "execution_count": null,
   "id": "b4810105",
   "metadata": {},
   "outputs": [],
   "source": []
  },
  {
   "cell_type": "code",
   "execution_count": null,
   "id": "125db0a2",
   "metadata": {},
   "outputs": [],
   "source": []
  },
  {
   "cell_type": "code",
   "execution_count": null,
   "id": "c65ff749",
   "metadata": {},
   "outputs": [],
   "source": []
  },
  {
   "cell_type": "markdown",
   "id": "26395a8e",
   "metadata": {},
   "source": [
    "#### unpacking arguments"
   ]
  },
  {
   "cell_type": "code",
   "execution_count": null,
   "id": "f6a226f7",
   "metadata": {},
   "outputs": [],
   "source": [
    "#by list\n"
   ]
  },
  {
   "cell_type": "code",
   "execution_count": null,
   "id": "bf2f6c03",
   "metadata": {},
   "outputs": [],
   "source": []
  },
  {
   "cell_type": "code",
   "execution_count": null,
   "id": "c3e7f9cf",
   "metadata": {},
   "outputs": [],
   "source": []
  },
  {
   "cell_type": "code",
   "execution_count": null,
   "id": "1b62cdbb",
   "metadata": {},
   "outputs": [],
   "source": [
    "#by dictionary\n"
   ]
  },
  {
   "cell_type": "code",
   "execution_count": null,
   "id": "c7d1c2f5",
   "metadata": {},
   "outputs": [],
   "source": []
  },
  {
   "cell_type": "markdown",
   "id": "4c2f7e32",
   "metadata": {},
   "source": [
    "- the ** allow us to unpack the dictionary by argument name"
   ]
  },
  {
   "cell_type": "code",
   "execution_count": null,
   "id": "5fd4f870",
   "metadata": {},
   "outputs": [],
   "source": []
  },
  {
   "cell_type": "markdown",
   "id": "1d0a38f4",
   "metadata": {},
   "source": [
    "### scope"
   ]
  },
  {
   "cell_type": "code",
   "execution_count": null,
   "id": "522940c4",
   "metadata": {},
   "outputs": [],
   "source": [
    "# outside_number = 10 "
   ]
  },
  {
   "cell_type": "code",
   "execution_count": null,
   "id": "88eff03b",
   "metadata": {},
   "outputs": [],
   "source": [
    "# def do_math(func_numb):\n",
    "#     print(outside_number)\n",
    "#     print(func_numb)\n",
    "    \n",
    "# print('hello')"
   ]
  },
  {
   "cell_type": "code",
   "execution_count": null,
   "id": "efb6ad90",
   "metadata": {},
   "outputs": [],
   "source": []
  },
  {
   "cell_type": "code",
   "execution_count": null,
   "id": "8ffbfa27",
   "metadata": {},
   "outputs": [],
   "source": []
  },
  {
   "cell_type": "markdown",
   "id": "5c008ef7",
   "metadata": {},
   "source": [
    "### lambda"
   ]
  },
  {
   "cell_type": "markdown",
   "id": "01079553",
   "metadata": {},
   "source": [
    "- a function that can be created in one line, when you have a one line return statement "
   ]
  },
  {
   "cell_type": "code",
   "execution_count": null,
   "id": "fe88bc14",
   "metadata": {},
   "outputs": [],
   "source": [
    "# FORMAT: \n",
    "# [function_name] = lambda [variable] : [transform_variable] "
   ]
  },
  {
   "cell_type": "code",
   "execution_count": null,
   "id": "e0080e57",
   "metadata": {},
   "outputs": [],
   "source": [
    "# # long way\n",
    "# def add_one_try_again(n):\n",
    "#     return n + 1"
   ]
  },
  {
   "cell_type": "code",
   "execution_count": null,
   "id": "521f671d",
   "metadata": {},
   "outputs": [],
   "source": []
  },
  {
   "cell_type": "code",
   "execution_count": null,
   "id": "37d727e6",
   "metadata": {},
   "outputs": [],
   "source": []
  },
  {
   "cell_type": "code",
   "execution_count": null,
   "id": "a8c950eb",
   "metadata": {},
   "outputs": [],
   "source": []
  }
 ],
 "metadata": {
  "kernelspec": {
   "display_name": "Python 3 (ipykernel)",
   "language": "python",
   "name": "python3"
  },
  "language_info": {
   "codemirror_mode": {
    "name": "ipython",
    "version": 3
   },
   "file_extension": ".py",
   "mimetype": "text/x-python",
   "name": "python",
   "nbconvert_exporter": "python",
   "pygments_lexer": "ipython3",
   "version": "3.9.12"
  }
 },
 "nbformat": 4,
 "nbformat_minor": 5
}
