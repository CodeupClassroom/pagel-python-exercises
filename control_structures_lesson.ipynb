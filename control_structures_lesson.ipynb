{
 "cells": [
  {
   "cell_type": "markdown",
   "id": "01bdbfbc",
   "metadata": {},
   "source": [
    "# Control Structures"
   ]
  },
  {
   "cell_type": "markdown",
   "id": "3e3f7456",
   "metadata": {},
   "source": [
    "What are they: Commands that enable a program to know which direction to go. Aka controls the 'flow' of the program\n",
    "\n",
    "There are different kinds of flow: \n",
    "- sequential flow\n",
    "- conditional flow\n",
    "- repetitive flow"
   ]
  },
  {
   "cell_type": "markdown",
   "id": "edb550c3",
   "metadata": {},
   "source": [
    "Why do we care: These are building blocks in programming that allows us to do a lot of cool things! "
   ]
  },
  {
   "cell_type": "markdown",
   "id": "f7ad28a1",
   "metadata": {},
   "source": [
    "## Conditional flow"
   ]
  },
  {
   "cell_type": "markdown",
   "id": "ca216a29",
   "metadata": {},
   "source": [
    "opener: whats the difference between the following code commands?"
   ]
  },
  {
   "cell_type": "code",
   "execution_count": 69,
   "id": "6b1e13d8",
   "metadata": {},
   "outputs": [],
   "source": [
    "breakfast = 'coffee'"
   ]
  },
  {
   "cell_type": "code",
   "execution_count": 70,
   "id": "e6da1990",
   "metadata": {},
   "outputs": [
    {
     "data": {
      "text/plain": [
       "'coffee'"
      ]
     },
     "execution_count": 70,
     "metadata": {},
     "output_type": "execute_result"
    }
   ],
   "source": [
    "breakfast"
   ]
  },
  {
   "cell_type": "code",
   "execution_count": 71,
   "id": "7883d73c",
   "metadata": {},
   "outputs": [
    {
     "data": {
      "text/plain": [
       "True"
      ]
     },
     "execution_count": 71,
     "metadata": {},
     "output_type": "execute_result"
    }
   ],
   "source": [
    "breakfast == 'coffee'"
   ]
  },
  {
   "cell_type": "markdown",
   "id": "47ee1d99",
   "metadata": {},
   "source": [
    "- the single = is setting a variable\n",
    "- the double == is checking a condition"
   ]
  },
  {
   "cell_type": "markdown",
   "id": "a0d8ed4d",
   "metadata": {},
   "source": [
    "### IF statement"
   ]
  },
  {
   "cell_type": "markdown",
   "id": "f08c0e7e",
   "metadata": {},
   "source": [
    "#### IF\n",
    "-- if this condition is true, do this action"
   ]
  },
  {
   "cell_type": "code",
   "execution_count": 72,
   "id": "5a73dfcb",
   "metadata": {},
   "outputs": [],
   "source": [
    "# FORMAT:\n",
    "# if [condition_to_check]:\n",
    "#     [do_this_if_TRUE]"
   ]
  },
  {
   "cell_type": "code",
   "execution_count": 73,
   "id": "41fa917a",
   "metadata": {},
   "outputs": [
    {
     "data": {
      "text/plain": [
       "'coffee'"
      ]
     },
     "execution_count": 73,
     "metadata": {},
     "output_type": "execute_result"
    }
   ],
   "source": [
    "breakfast"
   ]
  },
  {
   "cell_type": "code",
   "execution_count": 74,
   "id": "dec6bcca",
   "metadata": {},
   "outputs": [
    {
     "name": "stdout",
     "output_type": "stream",
     "text": [
      "yes, you had cofffee for breakfast\n"
     ]
    }
   ],
   "source": [
    "if breakfast == 'coffee':\n",
    "    print('yes, you had cofffee for breakfast')"
   ]
  },
  {
   "cell_type": "markdown",
   "id": "b947db0b",
   "metadata": {},
   "source": [
    "> note: WHITE SPACE MATTERS IN PYTHON"
   ]
  },
  {
   "cell_type": "code",
   "execution_count": 75,
   "id": "3df40338",
   "metadata": {},
   "outputs": [
    {
     "ename": "IndentationError",
     "evalue": "unexpected indent (3271632192.py, line 3)",
     "output_type": "error",
     "traceback": [
      "\u001b[0;36m  Input \u001b[0;32mIn [75]\u001b[0;36m\u001b[0m\n\u001b[0;31m    print('yes, you had cofffee for breakfast') #this errors out because of the extra indent\u001b[0m\n\u001b[0m    ^\u001b[0m\n\u001b[0;31mIndentationError\u001b[0m\u001b[0;31m:\u001b[0m unexpected indent\n"
     ]
    }
   ],
   "source": [
    "if breakfast == 'coffee':\n",
    "    print('hello')\n",
    "            print('yes, you had cofffee for breakfast') #this errors out because of the extra indent"
   ]
  },
  {
   "cell_type": "markdown",
   "id": "164fe4a3",
   "metadata": {},
   "source": [
    "#### syntax"
   ]
  },
  {
   "cell_type": "markdown",
   "id": "5a22c4c8",
   "metadata": {},
   "source": [
    "- after you conditional statement, always include that colon :\n",
    "- whatever you would like to execute, put on a new line and indent"
   ]
  },
  {
   "cell_type": "markdown",
   "id": "e0a9d35b",
   "metadata": {},
   "source": [
    "#### more examples"
   ]
  },
  {
   "cell_type": "code",
   "execution_count": 76,
   "id": "d15ba75c",
   "metadata": {},
   "outputs": [],
   "source": [
    "awake = False"
   ]
  },
  {
   "cell_type": "code",
   "execution_count": 77,
   "id": "134d8b54",
   "metadata": {},
   "outputs": [
    {
     "name": "stdout",
     "output_type": "stream",
     "text": [
      "yes you had coffe for breakfast\n",
      "5\n"
     ]
    }
   ],
   "source": [
    "if breakfast == 'coffee': \n",
    "    print('yes you had coffe for breakfast')\n",
    "    awake = True\n",
    "    print(2+3)"
   ]
  },
  {
   "cell_type": "code",
   "execution_count": 79,
   "id": "fea85130",
   "metadata": {},
   "outputs": [
    {
     "data": {
      "text/plain": [
       "True"
      ]
     },
     "execution_count": 79,
     "metadata": {},
     "output_type": "execute_result"
    }
   ],
   "source": [
    "awake #this variable changed since it was executed inside the IF statement"
   ]
  },
  {
   "cell_type": "code",
   "execution_count": 80,
   "id": "a584d20c",
   "metadata": {},
   "outputs": [],
   "source": [
    "if breakfast == 'cereal':\n",
    "    print('yay cereal!')\n",
    "    print(2+3) #nothing prints out because inside the if statement and the condition is false"
   ]
  },
  {
   "cell_type": "code",
   "execution_count": 81,
   "id": "ea32b1cd",
   "metadata": {},
   "outputs": [
    {
     "name": "stdout",
     "output_type": "stream",
     "text": [
      "goodbye\n"
     ]
    }
   ],
   "source": [
    "if breakfast == 'cereal':\n",
    "    print('yay cereal!')\n",
    "    print(2+3)\n",
    "print('goodbye') # this isnt included in the if statement so it always executes"
   ]
  },
  {
   "cell_type": "markdown",
   "id": "faa104de",
   "metadata": {},
   "source": [
    "> pay attention to the indentation!"
   ]
  },
  {
   "cell_type": "markdown",
   "id": "0b90998f",
   "metadata": {},
   "source": [
    "#### troubleshooting"
   ]
  },
  {
   "cell_type": "code",
   "execution_count": 82,
   "id": "25c21400",
   "metadata": {},
   "outputs": [],
   "source": [
    "weather = 'rain'"
   ]
  },
  {
   "cell_type": "markdown",
   "id": "7ba6cd7f",
   "metadata": {},
   "source": [
    "Whats wrong with the following code? Look at the error statements before fixing. "
   ]
  },
  {
   "cell_type": "code",
   "execution_count": 83,
   "id": "a5180be8",
   "metadata": {},
   "outputs": [
    {
     "ename": "SyntaxError",
     "evalue": "invalid syntax (4008337924.py, line 1)",
     "output_type": "error",
     "traceback": [
      "\u001b[0;36m  Input \u001b[0;32mIn [83]\u001b[0;36m\u001b[0m\n\u001b[0;31m    if weather = 'rain':\u001b[0m\n\u001b[0m               ^\u001b[0m\n\u001b[0;31mSyntaxError\u001b[0m\u001b[0;31m:\u001b[0m invalid syntax\n"
     ]
    }
   ],
   "source": [
    "if weather = 'rain':\n",
    "    print('yes, it is rainy outside today')"
   ]
  },
  {
   "cell_type": "markdown",
   "id": "4d3f175b",
   "metadata": {},
   "source": [
    "- this isn't checking a condition, it's trying to set a variable"
   ]
  },
  {
   "cell_type": "code",
   "execution_count": 84,
   "id": "e0bf1787",
   "metadata": {},
   "outputs": [
    {
     "ename": "NameError",
     "evalue": "name 'rain' is not defined",
     "output_type": "error",
     "traceback": [
      "\u001b[0;31m---------------------------------------------------------------------------\u001b[0m",
      "\u001b[0;31mNameError\u001b[0m                                 Traceback (most recent call last)",
      "Input \u001b[0;32mIn [84]\u001b[0m, in \u001b[0;36m<cell line: 1>\u001b[0;34m()\u001b[0m\n\u001b[0;32m----> 1\u001b[0m \u001b[38;5;28;01mif\u001b[39;00m weather \u001b[38;5;241m==\u001b[39m \u001b[43mrain\u001b[49m:\n\u001b[1;32m      2\u001b[0m     \u001b[38;5;28mprint\u001b[39m(\u001b[38;5;124m'\u001b[39m\u001b[38;5;124myes, it is rainy outside today\u001b[39m\u001b[38;5;124m'\u001b[39m)\n",
      "\u001b[0;31mNameError\u001b[0m: name 'rain' is not defined"
     ]
    }
   ],
   "source": [
    "if weather == rain:\n",
    "    print('yes, it is rainy outside today')"
   ]
  },
  {
   "cell_type": "markdown",
   "id": "27c8c1f2",
   "metadata": {},
   "source": [
    "- it thinks that `rain` is a variable since its not in quotes"
   ]
  },
  {
   "cell_type": "code",
   "execution_count": 85,
   "id": "25102110",
   "metadata": {},
   "outputs": [
    {
     "ename": "IndentationError",
     "evalue": "expected an indented block (3714790084.py, line 2)",
     "output_type": "error",
     "traceback": [
      "\u001b[0;36m  Input \u001b[0;32mIn [85]\u001b[0;36m\u001b[0m\n\u001b[0;31m    print('yes, it is rainy outside today')\u001b[0m\n\u001b[0m    ^\u001b[0m\n\u001b[0;31mIndentationError\u001b[0m\u001b[0;31m:\u001b[0m expected an indented block\n"
     ]
    }
   ],
   "source": [
    "if weather == 'rain':\n",
    "print('yes, it is rainy outside today')"
   ]
  },
  {
   "cell_type": "markdown",
   "id": "d3cff3fc",
   "metadata": {},
   "source": [
    "- the print statement isnt indented"
   ]
  },
  {
   "cell_type": "code",
   "execution_count": 86,
   "id": "3e7a2b21",
   "metadata": {},
   "outputs": [
    {
     "ename": "SyntaxError",
     "evalue": "invalid syntax (4247481164.py, line 1)",
     "output_type": "error",
     "traceback": [
      "\u001b[0;36m  Input \u001b[0;32mIn [86]\u001b[0;36m\u001b[0m\n\u001b[0;31m    if weather == 'rain'\u001b[0m\n\u001b[0m                        ^\u001b[0m\n\u001b[0;31mSyntaxError\u001b[0m\u001b[0;31m:\u001b[0m invalid syntax\n"
     ]
    }
   ],
   "source": [
    "if weather == 'rain'\n",
    "    print('yes, it is rainy outside today')"
   ]
  },
  {
   "cell_type": "markdown",
   "id": "081051ec",
   "metadata": {},
   "source": [
    "- there isnt a colon after the conditional statement"
   ]
  },
  {
   "cell_type": "markdown",
   "id": "a0848fb2",
   "metadata": {},
   "source": [
    "#### IF/ELSE\n",
    "-- if this condition is true, do this action, if nothing else is true, do this"
   ]
  },
  {
   "cell_type": "code",
   "execution_count": 87,
   "id": "75214405",
   "metadata": {},
   "outputs": [],
   "source": [
    "# FORMAT:\n",
    "# if [condition_to_check]:\n",
    "#     [do_this_if_TRUE]\n",
    "# else:\n",
    "#     [do_this_if_FALSE]"
   ]
  },
  {
   "cell_type": "code",
   "execution_count": 88,
   "id": "21d20906",
   "metadata": {},
   "outputs": [
    {
     "data": {
      "text/plain": [
       "'coffee'"
      ]
     },
     "execution_count": 88,
     "metadata": {},
     "output_type": "execute_result"
    }
   ],
   "source": [
    "breakfast"
   ]
  },
  {
   "cell_type": "code",
   "execution_count": 89,
   "id": "6c308987",
   "metadata": {},
   "outputs": [
    {
     "name": "stdout",
     "output_type": "stream",
     "text": [
      "i dont know what you had for breakfast\n",
      "extra lines\n",
      "7\n"
     ]
    }
   ],
   "source": [
    "if breakfast == 'banana':\n",
    "    print('yay banana!')\n",
    "else:\n",
    "    print('i dont know what you had for breakfast')\n",
    "    print('extra lines')\n",
    "\n",
    "print(5+2) #will always print regardless"
   ]
  },
  {
   "cell_type": "markdown",
   "id": "bc067b99",
   "metadata": {},
   "source": [
    "#### syntax"
   ]
  },
  {
   "cell_type": "markdown",
   "id": "e9c627b4",
   "metadata": {},
   "source": [
    "note: the indentations and new lines"
   ]
  },
  {
   "cell_type": "markdown",
   "id": "6d220b1a",
   "metadata": {},
   "source": [
    "#### IF/ELIF/ELSE\n",
    "-- if this condition is true, do this action, else if this other condition is true, do something else, if nothing is true, do this"
   ]
  },
  {
   "cell_type": "code",
   "execution_count": 90,
   "id": "d5011946",
   "metadata": {},
   "outputs": [],
   "source": [
    "# FORMAT:\n",
    "# if [condition_to_check]:\n",
    "#     [do_this_if_TRUE]\n",
    "# elif [condition_to_check]:\n",
    "#     [do_this_if_TRUE]\n",
    "# else:\n",
    "#     [do_this_if_FALSE]"
   ]
  },
  {
   "cell_type": "code",
   "execution_count": 91,
   "id": "caa469d1",
   "metadata": {},
   "outputs": [
    {
     "data": {
      "text/plain": [
       "('coffee', 'rain')"
      ]
     },
     "execution_count": 91,
     "metadata": {},
     "output_type": "execute_result"
    }
   ],
   "source": [
    "breakfast, weather"
   ]
  },
  {
   "cell_type": "code",
   "execution_count": 92,
   "id": "81eb6045",
   "metadata": {},
   "outputs": [
    {
     "name": "stdout",
     "output_type": "stream",
     "text": [
      "breakfast coffee\n"
     ]
    }
   ],
   "source": [
    "if breakfast == 'coffee':\n",
    "    print('breakfast coffee')\n",
    "elif weather == 'rain':\n",
    "    print('it rain')\n",
    "else:\n",
    "    print('no coffee or rain')"
   ]
  },
  {
   "cell_type": "markdown",
   "id": "41f62695",
   "metadata": {},
   "source": [
    "- as soon as a condition is TRUE, it will execute and get out of the if statement"
   ]
  },
  {
   "cell_type": "markdown",
   "id": "24052832",
   "metadata": {},
   "source": [
    "#### double if?"
   ]
  },
  {
   "cell_type": "code",
   "execution_count": 93,
   "id": "ab3758b1",
   "metadata": {},
   "outputs": [
    {
     "name": "stdout",
     "output_type": "stream",
     "text": [
      "breakfast coffee\n",
      "it rain\n"
     ]
    }
   ],
   "source": [
    "if breakfast == 'coffee':\n",
    "    print('breakfast coffee') \n",
    "if weather == 'rain': #not using an elif\n",
    "    print('it rain')\n",
    "else:\n",
    "    print('no coffee or rain')"
   ]
  },
  {
   "cell_type": "markdown",
   "id": "5a15d3be",
   "metadata": {},
   "source": [
    "- these both print out because we used two IF statements instead of an IF and ELIF"
   ]
  },
  {
   "cell_type": "markdown",
   "id": "f63dd3c7",
   "metadata": {},
   "source": [
    "#### check multiple conditions?"
   ]
  },
  {
   "cell_type": "code",
   "execution_count": 94,
   "id": "5583f608",
   "metadata": {},
   "outputs": [
    {
     "data": {
      "text/plain": [
       "('coffee', 'rain')"
      ]
     },
     "execution_count": 94,
     "metadata": {},
     "output_type": "execute_result"
    }
   ],
   "source": [
    "breakfast, weather"
   ]
  },
  {
   "cell_type": "code",
   "execution_count": 98,
   "id": "5274d8c1",
   "metadata": {},
   "outputs": [],
   "source": [
    "if breakfast == 'coffee' and weather == 'sunny': #you dont need an else statement\n",
    "    print('coffee and sun')\n",
    "# else:\n",
    "#     print('these both arent true')"
   ]
  },
  {
   "cell_type": "code",
   "execution_count": 99,
   "id": "20326138",
   "metadata": {},
   "outputs": [
    {
     "name": "stdout",
     "output_type": "stream",
     "text": [
      "coffee and sun\n"
     ]
    }
   ],
   "source": [
    "if breakfast == 'coffee' or weather == 'sunny':\n",
    "    print('coffee and sun')"
   ]
  },
  {
   "cell_type": "markdown",
   "id": "bee8b7ac",
   "metadata": {},
   "source": [
    "- `and` BOTH conditions are true\n",
    "- `or` EITHER coniditon is true"
   ]
  },
  {
   "cell_type": "markdown",
   "id": "4976c16e",
   "metadata": {},
   "source": [
    "## Repetitive Flow (loops)"
   ]
  },
  {
   "cell_type": "markdown",
   "id": "5fbea5fc",
   "metadata": {},
   "source": [
    "### While loop\n",
    "-- do some action over and over again while a condition is true"
   ]
  },
  {
   "cell_type": "code",
   "execution_count": 100,
   "id": "2ac6b75b",
   "metadata": {},
   "outputs": [],
   "source": [
    "# FORMAT: \n",
    "# while [condition]:\n",
    "#     [repeat_this_while_condition_is_true]"
   ]
  },
  {
   "cell_type": "code",
   "execution_count": 102,
   "id": "7cc58ff9",
   "metadata": {},
   "outputs": [
    {
     "name": "stdout",
     "output_type": "stream",
     "text": [
      "1\n",
      "2\n",
      "3\n",
      "4\n",
      "5\n"
     ]
    }
   ],
   "source": [
    "x = 1\n",
    "\n",
    "while x < 5:\n",
    "    print(x)\n",
    "    x = x + 1\n",
    "\n",
    "print(x)"
   ]
  },
  {
   "cell_type": "markdown",
   "id": "71dbc06b",
   "metadata": {},
   "source": [
    "#### syntax"
   ]
  },
  {
   "cell_type": "markdown",
   "id": "4c8c739a",
   "metadata": {},
   "source": [
    "- need the colon after the conditional statement\n",
    "- everything that you want to execute has to be indented over"
   ]
  },
  {
   "cell_type": "markdown",
   "id": "b9d200e4",
   "metadata": {},
   "source": [
    "#### whats happening in the above code?"
   ]
  },
  {
   "cell_type": "markdown",
   "id": "e3a9d9c0",
   "metadata": {},
   "source": [
    "- setting my variable x to 1 \n",
    "- then im checking if x is less that 5\n",
    "- printing out x\n",
    "- adding one to x\n",
    "- go back to the top of the loop and check my condition to see if it is true\n",
    "- once my condition is false, then i exit the loop "
   ]
  },
  {
   "cell_type": "markdown",
   "id": "45795404",
   "metadata": {},
   "source": [
    "#### another example"
   ]
  },
  {
   "cell_type": "code",
   "execution_count": 103,
   "id": "78f2002d",
   "metadata": {},
   "outputs": [
    {
     "name": "stdout",
     "output_type": "stream",
     "text": [
      "6\n"
     ]
    }
   ],
   "source": [
    "x = 6\n",
    "\n",
    "while x < 5: #doesnt error out, just doesnt execute anything because the condition is always false\n",
    "    print(x)\n",
    "    x = x + 1\n",
    "\n",
    "print(x)"
   ]
  },
  {
   "cell_type": "code",
   "execution_count": 104,
   "id": "412a9423",
   "metadata": {},
   "outputs": [],
   "source": [
    "# x = 6\n",
    "\n",
    "# while x > 5: #need to be able to break out of this condition somehow\n",
    "#     print(x)"
   ]
  },
  {
   "cell_type": "markdown",
   "id": "d623b144",
   "metadata": {},
   "source": [
    "- this in an infite loop. dont make these"
   ]
  },
  {
   "cell_type": "markdown",
   "id": "873b55b8",
   "metadata": {},
   "source": [
    "#### troubleshoot"
   ]
  },
  {
   "cell_type": "code",
   "execution_count": 105,
   "id": "12025467",
   "metadata": {},
   "outputs": [
    {
     "name": "stdout",
     "output_type": "stream",
     "text": [
      "1\n",
      "2\n",
      "3\n",
      "4\n"
     ]
    }
   ],
   "source": [
    "x = 1 \n",
    "\n",
    "while x < 5: \n",
    "    print(x)\n",
    "    x = x + 1 #without this line of code, x doesnt increment and it repeats forever"
   ]
  },
  {
   "cell_type": "markdown",
   "id": "415a3282",
   "metadata": {},
   "source": [
    "### For loop\n",
    "-- allows you to iterate over a sequence"
   ]
  },
  {
   "cell_type": "code",
   "execution_count": 106,
   "id": "d6c95326",
   "metadata": {},
   "outputs": [],
   "source": [
    "# FORMAT: \n",
    "# for [iterator] in [sequence]:\n",
    "#     [do_this_usually_on_iterator]"
   ]
  },
  {
   "cell_type": "code",
   "execution_count": 107,
   "id": "b548e04c",
   "metadata": {},
   "outputs": [
    {
     "data": {
      "text/plain": [
       "[1, 23, 3423, 523, -2]"
      ]
     },
     "execution_count": 107,
     "metadata": {},
     "output_type": "execute_result"
    }
   ],
   "source": [
    "ls = [1,23,3423,523,-2]\n",
    "ls"
   ]
  },
  {
   "cell_type": "code",
   "execution_count": 108,
   "id": "3b4ef33c",
   "metadata": {},
   "outputs": [
    {
     "name": "stdout",
     "output_type": "stream",
     "text": [
      "1\n",
      "23\n",
      "3423\n",
      "523\n",
      "-2\n"
     ]
    }
   ],
   "source": [
    "for x in ls:\n",
    "    print(x)"
   ]
  },
  {
   "cell_type": "markdown",
   "id": "02f014da",
   "metadata": {},
   "source": [
    "Q: what is it the sequence in the above loop?\n",
    "\n",
    "A: ls\n",
    "\n",
    "Q: what is the iterator in the above loop?\n",
    "\n",
    "A: x"
   ]
  },
  {
   "cell_type": "markdown",
   "id": "412709f6",
   "metadata": {},
   "source": [
    "#### syntax:"
   ]
  },
  {
   "cell_type": "markdown",
   "id": "c35a5e0f",
   "metadata": {},
   "source": [
    "- colon at the end\n",
    "- whatever we want to execute has to be indented"
   ]
  },
  {
   "cell_type": "markdown",
   "id": "a67e2f4d",
   "metadata": {},
   "source": [
    "#### the iterator can be any variable you want"
   ]
  },
  {
   "cell_type": "code",
   "execution_count": 109,
   "id": "0d1f65a2",
   "metadata": {},
   "outputs": [
    {
     "data": {
      "text/plain": [
       "[1, 23, 3423, 523, -2]"
      ]
     },
     "execution_count": 109,
     "metadata": {},
     "output_type": "execute_result"
    }
   ],
   "source": [
    "ls"
   ]
  },
  {
   "cell_type": "code",
   "execution_count": 110,
   "id": "9dbdbe99",
   "metadata": {},
   "outputs": [
    {
     "name": "stdout",
     "output_type": "stream",
     "text": [
      "1\n",
      "23\n",
      "3423\n",
      "523\n",
      "-2\n"
     ]
    }
   ],
   "source": [
    "for random_number_in_list in ls:\n",
    "    print(random_number_in_list)"
   ]
  },
  {
   "cell_type": "code",
   "execution_count": 111,
   "id": "cff4c416",
   "metadata": {},
   "outputs": [
    {
     "name": "stdout",
     "output_type": "stream",
     "text": [
      "[1, 23, 3423, 523, -2]\n",
      "[1, 23, 3423, 523, -2]\n",
      "[1, 23, 3423, 523, -2]\n",
      "[1, 23, 3423, 523, -2]\n",
      "[1, 23, 3423, 523, -2]\n"
     ]
    }
   ],
   "source": [
    "for x in ls:\n",
    "    print(ls)"
   ]
  },
  {
   "cell_type": "markdown",
   "id": "5ed3810b",
   "metadata": {},
   "source": [
    "- know what your iterator variable is, this prints out the sequence variable instead"
   ]
  },
  {
   "cell_type": "code",
   "execution_count": 112,
   "id": "a50bc11f",
   "metadata": {},
   "outputs": [
    {
     "data": {
      "text/plain": [
       "-2"
      ]
     },
     "execution_count": 112,
     "metadata": {},
     "output_type": "execute_result"
    }
   ],
   "source": [
    "x #this x has replaced the previous version of x in our while loops"
   ]
  },
  {
   "cell_type": "markdown",
   "id": "d5af4759",
   "metadata": {},
   "source": [
    "- therefore, be mindful of the variable names you are using throughout a project"
   ]
  },
  {
   "cell_type": "code",
   "execution_count": 116,
   "id": "d14bcf9b",
   "metadata": {},
   "outputs": [],
   "source": [
    "apples = [1,23,34,42354,-23]"
   ]
  },
  {
   "cell_type": "code",
   "execution_count": 117,
   "id": "ff8d0fd9",
   "metadata": {},
   "outputs": [
    {
     "name": "stdout",
     "output_type": "stream",
     "text": [
      "1\n",
      "23\n",
      "34\n",
      "42354\n",
      "-23\n"
     ]
    }
   ],
   "source": [
    "#this is generally the naming convention i use when making for loops\n",
    "for apple in apples:\n",
    "    print(apple)"
   ]
  },
  {
   "cell_type": "markdown",
   "id": "7e50a40a",
   "metadata": {},
   "source": [
    "#### execute all the things"
   ]
  },
  {
   "cell_type": "code",
   "execution_count": 118,
   "id": "b7db54ec",
   "metadata": {},
   "outputs": [
    {
     "data": {
      "text/plain": [
       "[1, 23, 3423, 523, -2]"
      ]
     },
     "execution_count": 118,
     "metadata": {},
     "output_type": "execute_result"
    }
   ],
   "source": [
    "ls"
   ]
  },
  {
   "cell_type": "code",
   "execution_count": 119,
   "id": "3a5995f7",
   "metadata": {},
   "outputs": [
    {
     "name": "stdout",
     "output_type": "stream",
     "text": [
      "[1, 23, 3423, 523, -2]\n",
      "\n",
      "[1, 23, 3423, 523, -2]\n",
      "\n",
      "[1, 23, 3423, 523, -2]\n",
      "\n",
      "[1, 23, 3423, 523, -2]\n",
      "\n",
      "[1, 23, 3423, 523, -2]\n",
      "\n",
      "another hello\n"
     ]
    }
   ],
   "source": [
    "for i in ls:\n",
    "#     print(i) #dont need to print out the iterator for the loop to work\n",
    "    print(ls) #the whole list will print out\n",
    "    print()\n",
    "print('another hello') #not included in the for loop and \n",
    "# only outputs when the for loop is finished"
   ]
  },
  {
   "cell_type": "code",
   "execution_count": 120,
   "id": "ff4d4051",
   "metadata": {},
   "outputs": [
    {
     "data": {
      "text/plain": [
       "[1, 23]"
      ]
     },
     "execution_count": 120,
     "metadata": {},
     "output_type": "execute_result"
    }
   ],
   "source": [
    "ls[:2] #slice a list"
   ]
  },
  {
   "cell_type": "code",
   "execution_count": 122,
   "id": "0ea79fcb",
   "metadata": {},
   "outputs": [
    {
     "name": "stdout",
     "output_type": "stream",
     "text": [
      "1\n",
      "23\n"
     ]
    }
   ],
   "source": [
    "for n in ls[:2]: #can iterate only over a slice of your list\n",
    "    print(n)"
   ]
  },
  {
   "cell_type": "code",
   "execution_count": 123,
   "id": "bebae4dd",
   "metadata": {},
   "outputs": [
    {
     "data": {
      "text/plain": [
       "[1, 23, 3423, 523, -2]"
      ]
     },
     "execution_count": 123,
     "metadata": {},
     "output_type": "execute_result"
    }
   ],
   "source": [
    "ls #your list doesnt change"
   ]
  },
  {
   "cell_type": "code",
   "execution_count": 124,
   "id": "eae314b4",
   "metadata": {},
   "outputs": [
    {
     "name": "stdout",
     "output_type": "stream",
     "text": [
      "1\n",
      "23\n",
      "3423\n",
      "523\n",
      "-2\n"
     ]
    }
   ],
   "source": [
    "for ls in ls: #dont do this\n",
    "    print(ls)"
   ]
  },
  {
   "cell_type": "code",
   "execution_count": 126,
   "id": "3bd84416",
   "metadata": {},
   "outputs": [
    {
     "data": {
      "text/plain": [
       "-2"
      ]
     },
     "execution_count": 126,
     "metadata": {},
     "output_type": "execute_result"
    }
   ],
   "source": [
    "ls "
   ]
  },
  {
   "cell_type": "markdown",
   "id": "8910d017",
   "metadata": {},
   "source": [
    "- your `ls` variable has now been replace by your iterator"
   ]
  },
  {
   "cell_type": "markdown",
   "id": "ac1a3651",
   "metadata": {},
   "source": [
    "#### what happens with tuples"
   ]
  },
  {
   "cell_type": "code",
   "execution_count": 133,
   "id": "d7248498",
   "metadata": {},
   "outputs": [
    {
     "data": {
      "text/plain": [
       "(1, 5)"
      ]
     },
     "execution_count": 133,
     "metadata": {},
     "output_type": "execute_result"
    }
   ],
   "source": [
    "new_tuple = (1,5)\n",
    "new_tuple"
   ]
  },
  {
   "cell_type": "code",
   "execution_count": 134,
   "id": "36a46255",
   "metadata": {},
   "outputs": [
    {
     "name": "stdout",
     "output_type": "stream",
     "text": [
      "1\n",
      "5\n"
     ]
    }
   ],
   "source": [
    "for y in new_tuple:\n",
    "    print(y)"
   ]
  },
  {
   "cell_type": "code",
   "execution_count": 135,
   "id": "180e8adf",
   "metadata": {},
   "outputs": [
    {
     "name": "stdout",
     "output_type": "stream",
     "text": [
      "1\n",
      "5\n"
     ]
    }
   ],
   "source": [
    "for new_tuple in new_tuple:\n",
    "    print(new_tuple)"
   ]
  },
  {
   "cell_type": "code",
   "execution_count": 136,
   "id": "46551a7a",
   "metadata": {},
   "outputs": [
    {
     "data": {
      "text/plain": [
       "5"
      ]
     },
     "execution_count": 136,
     "metadata": {},
     "output_type": "execute_result"
    }
   ],
   "source": [
    "new_tuple #it's not changing the tupole, its overriding the old tuple"
   ]
  },
  {
   "cell_type": "code",
   "execution_count": 137,
   "id": "de7db06c",
   "metadata": {},
   "outputs": [],
   "source": [
    "new_tuple = (2,6)"
   ]
  },
  {
   "cell_type": "code",
   "execution_count": 138,
   "id": "16eb904d",
   "metadata": {},
   "outputs": [
    {
     "data": {
      "text/plain": [
       "(2, 6)"
      ]
     },
     "execution_count": 138,
     "metadata": {},
     "output_type": "execute_result"
    }
   ],
   "source": [
    "new_tuple"
   ]
  },
  {
   "cell_type": "markdown",
   "id": "fdbb50e3",
   "metadata": {},
   "source": [
    "#### can make a new list by accessing each value and doing something to do "
   ]
  },
  {
   "cell_type": "code",
   "execution_count": 140,
   "id": "a6820cf6",
   "metadata": {},
   "outputs": [],
   "source": [
    "ls = [1,23,314,5,341,-25]"
   ]
  },
  {
   "cell_type": "code",
   "execution_count": 142,
   "id": "176f8c35",
   "metadata": {},
   "outputs": [
    {
     "name": "stdout",
     "output_type": "stream",
     "text": [
      "1\n",
      "23\n",
      "314\n",
      "5\n",
      "341\n",
      "-25\n"
     ]
    },
    {
     "data": {
      "text/plain": [
       "[2, 24, 315, 6, 342, -24]"
      ]
     },
     "execution_count": 142,
     "metadata": {},
     "output_type": "execute_result"
    }
   ],
   "source": [
    "new_list = [] #initializing new empty list\n",
    "\n",
    "for x in ls:\n",
    "    print(x)\n",
    "    new_list.append(x+1) #appending x+1 to the new list\n",
    "    \n",
    "new_list #print out the new list when done"
   ]
  },
  {
   "cell_type": "code",
   "execution_count": 143,
   "id": "04256a3c",
   "metadata": {},
   "outputs": [],
   "source": [
    "new_list.append(1000) #how append works"
   ]
  },
  {
   "cell_type": "code",
   "execution_count": 144,
   "id": "a07521a2",
   "metadata": {},
   "outputs": [
    {
     "data": {
      "text/plain": [
       "[2, 24, 315, 6, 342, -24, 1000]"
      ]
     },
     "execution_count": 144,
     "metadata": {},
     "output_type": "execute_result"
    }
   ],
   "source": [
    "new_list"
   ]
  },
  {
   "cell_type": "markdown",
   "id": "9193702e",
   "metadata": {},
   "source": [
    "#### can also iterate over strings"
   ]
  },
  {
   "cell_type": "code",
   "execution_count": 145,
   "id": "248609f2",
   "metadata": {},
   "outputs": [
    {
     "data": {
      "text/plain": [
       "'hello pagel class!'"
      ]
     },
     "execution_count": 145,
     "metadata": {},
     "output_type": "execute_result"
    }
   ],
   "source": [
    "string = 'hello pagel class!'\n",
    "string"
   ]
  },
  {
   "cell_type": "code",
   "execution_count": 146,
   "id": "bd7f9137",
   "metadata": {},
   "outputs": [
    {
     "name": "stdout",
     "output_type": "stream",
     "text": [
      "h\n",
      "e\n",
      "THIS IS THE LETTER E!!!!! PAY ATTENTION\n",
      "l\n",
      "l\n",
      "o\n",
      " \n",
      "p\n",
      "a\n",
      "g\n",
      "e\n",
      "THIS IS THE LETTER E!!!!! PAY ATTENTION\n",
      "l\n",
      " \n",
      "c\n",
      "l\n",
      "a\n",
      "s\n",
      "s\n",
      "!\n"
     ]
    }
   ],
   "source": [
    "for char in string:\n",
    "    print(char)\n",
    "#     print(char + '!!!')\n",
    "    if char == 'e':\n",
    "        print('THIS IS THE LETTER E!!!!! PAY ATTENTION')"
   ]
  },
  {
   "cell_type": "markdown",
   "id": "eb002699",
   "metadata": {},
   "source": [
    "### List Comprehension"
   ]
  },
  {
   "cell_type": "markdown",
   "id": "b4477b1f",
   "metadata": {},
   "source": [
    "-- shorthand method of creating a list using a for loop"
   ]
  },
  {
   "cell_type": "code",
   "execution_count": 147,
   "id": "4ead5e47",
   "metadata": {},
   "outputs": [],
   "source": [
    "#FORMAT:\n",
    "#[[what_to_do_to_iterator] for [iterator] in [sequence]]"
   ]
  },
  {
   "cell_type": "code",
   "execution_count": 148,
   "id": "64e455b6",
   "metadata": {},
   "outputs": [
    {
     "data": {
      "text/plain": [
       "[1, 23, 314, 5, 341, -25]"
      ]
     },
     "execution_count": 148,
     "metadata": {},
     "output_type": "execute_result"
    }
   ],
   "source": [
    "ls"
   ]
  },
  {
   "cell_type": "code",
   "execution_count": 149,
   "id": "c7f3a414",
   "metadata": {},
   "outputs": [
    {
     "data": {
      "text/plain": [
       "[2, 24, 315, 6, 342, -24]"
      ]
     },
     "execution_count": 149,
     "metadata": {},
     "output_type": "execute_result"
    }
   ],
   "source": [
    "#the long way in a for loop\n",
    "new_list = []\n",
    "\n",
    "for x in ls:\n",
    "    new_list.append(x+1)\n",
    "    \n",
    "new_list"
   ]
  },
  {
   "cell_type": "code",
   "execution_count": 150,
   "id": "bcac5d7c",
   "metadata": {},
   "outputs": [
    {
     "data": {
      "text/plain": [
       "[2, 24, 315, 6, 342, -24]"
      ]
     },
     "execution_count": 150,
     "metadata": {},
     "output_type": "execute_result"
    }
   ],
   "source": [
    "#one-liner new list! cool! \n",
    "[ x+1 for x in ls ] #dont forget the square brackets"
   ]
  },
  {
   "cell_type": "code",
   "execution_count": 151,
   "id": "8ecf66ac",
   "metadata": {},
   "outputs": [],
   "source": [
    "new_list_from_list_comp = [ x+1 for x in ls ]"
   ]
  },
  {
   "cell_type": "code",
   "execution_count": 152,
   "id": "097128e8",
   "metadata": {},
   "outputs": [
    {
     "data": {
      "text/plain": [
       "[2, 24, 315, 6, 342, -24]"
      ]
     },
     "execution_count": 152,
     "metadata": {},
     "output_type": "execute_result"
    }
   ],
   "source": [
    "new_list_from_list_comp"
   ]
  },
  {
   "cell_type": "markdown",
   "id": "f9d3ed1c",
   "metadata": {},
   "source": [
    "- in python, you can put pretty much anything into a variable and call it later! "
   ]
  },
  {
   "cell_type": "markdown",
   "id": "c97e3820",
   "metadata": {},
   "source": [
    "### Recap"
   ]
  },
  {
   "cell_type": "markdown",
   "id": "bc3751a7",
   "metadata": {},
   "source": [
    "- if/elif/else\n",
    "- while loops\n",
    "- for loops"
   ]
  },
  {
   "cell_type": "markdown",
   "id": "ac42c3dc",
   "metadata": {},
   "source": [
    "syntax: \n",
    "- all of these, the first line ends with a colon\n",
    "- everything you want to execute needs to be on a new line and indented"
   ]
  },
  {
   "cell_type": "markdown",
   "id": "367f5cac",
   "metadata": {},
   "source": [
    "#### if/elif/else"
   ]
  },
  {
   "cell_type": "code",
   "execution_count": 157,
   "id": "49fbe4de",
   "metadata": {},
   "outputs": [
    {
     "data": {
      "text/plain": [
       "('coffee', 'rain')"
      ]
     },
     "execution_count": 157,
     "metadata": {},
     "output_type": "execute_result"
    }
   ],
   "source": [
    "breakfast, weather"
   ]
  },
  {
   "cell_type": "code",
   "execution_count": 158,
   "id": "5a1616bf",
   "metadata": {},
   "outputs": [
    {
     "name": "stdout",
     "output_type": "stream",
     "text": [
      "its raining\n"
     ]
    }
   ],
   "source": [
    "if breakfast == 'cereal':\n",
    "    print('this is cereal')\n",
    "    \n",
    "elif weather == 'rain': #as soon as a condition is true, it executes and exits\n",
    "    print('its raining')\n",
    "\n",
    "elif breakfast == 'coffee':\n",
    "    print('you had coffe')\n",
    "\n",
    "else:\n",
    "    print('other')"
   ]
  },
  {
   "cell_type": "markdown",
   "id": "b3eba057",
   "metadata": {},
   "source": [
    "- use our double == when checking a condition\n",
    "- a single = means we are assigning variable"
   ]
  },
  {
   "cell_type": "markdown",
   "id": "220aa6ca",
   "metadata": {},
   "source": [
    "#### while"
   ]
  },
  {
   "cell_type": "code",
   "execution_count": 162,
   "id": "962fe700",
   "metadata": {},
   "outputs": [
    {
     "name": "stdout",
     "output_type": "stream",
     "text": [
      "0\n",
      "2\n",
      "\n",
      "1\n",
      "3\n",
      "\n",
      "2\n",
      "4\n",
      "\n",
      "3\n",
      "5\n",
      "\n",
      "4\n",
      "6\n",
      "\n",
      "goodbye\n"
     ]
    }
   ],
   "source": [
    "i = 0 \n",
    "\n",
    "while i <5:\n",
    "    print(i)\n",
    "    print(i+2)\n",
    "    i = i+1 #ensure there is a way to make your conditional statement FALSE\n",
    "    print()\n",
    "print('goodbye')"
   ]
  },
  {
   "cell_type": "markdown",
   "id": "67912da7",
   "metadata": {},
   "source": [
    "#### for loops"
   ]
  },
  {
   "cell_type": "code",
   "execution_count": 165,
   "id": "786d526f",
   "metadata": {},
   "outputs": [
    {
     "data": {
      "text/plain": [
       "[23, 123, 1, 1, 2, 0, -5]"
      ]
     },
     "execution_count": 165,
     "metadata": {},
     "output_type": "execute_result"
    }
   ],
   "source": [
    "ls = [23,123,1,1,2,0,-5]\n",
    "ls"
   ]
  },
  {
   "cell_type": "code",
   "execution_count": 166,
   "id": "f0851443",
   "metadata": {},
   "outputs": [
    {
     "name": "stdout",
     "output_type": "stream",
     "text": [
      "23\n",
      "123\n",
      "1\n",
      "1\n",
      "2\n",
      "0\n",
      "-5\n"
     ]
    }
   ],
   "source": [
    "for any_varible_for_iterator in ls:\n",
    "    print(any_varible_for_iterator)"
   ]
  },
  {
   "cell_type": "code",
   "execution_count": 171,
   "id": "cbba8797",
   "metadata": {},
   "outputs": [],
   "source": [
    "new_ls_times_100 = [] #initializing new list\n",
    "\n",
    "for any_varible_for_iterator in ls:\n",
    "    new_ls_times_100.append(any_varible_for_iterator *100) #adding each new element to new list"
   ]
  },
  {
   "cell_type": "code",
   "execution_count": 172,
   "id": "3014d92e",
   "metadata": {},
   "outputs": [
    {
     "data": {
      "text/plain": [
       "[2300, 12300, 100, 100, 200, 0, -500]"
      ]
     },
     "execution_count": 172,
     "metadata": {},
     "output_type": "execute_result"
    }
   ],
   "source": [
    "new_ls_times_100"
   ]
  },
  {
   "cell_type": "markdown",
   "id": "84b7ba72",
   "metadata": {},
   "source": [
    "#### list comprenhension"
   ]
  },
  {
   "cell_type": "code",
   "execution_count": 177,
   "id": "ccc29150",
   "metadata": {},
   "outputs": [],
   "source": [
    "#dont forget the brackets\n",
    "new_ls_100_ls_comp = [any_varible_for_iterator*100 for any_varible_for_iterator in ls]"
   ]
  },
  {
   "cell_type": "code",
   "execution_count": 178,
   "id": "752e7c21",
   "metadata": {},
   "outputs": [
    {
     "data": {
      "text/plain": [
       "[2300, 12300, 100, 100, 200, 0, -500]"
      ]
     },
     "execution_count": 178,
     "metadata": {},
     "output_type": "execute_result"
    }
   ],
   "source": [
    "new_ls_100_ls_comp"
   ]
  },
  {
   "cell_type": "markdown",
   "id": "720fdacf",
   "metadata": {},
   "source": [
    "### Break Continue\n",
    "-- commands to execute in a loop\n",
    "\n",
    "-- `break` will force the loop to end\n",
    "\n",
    "-- `continue` will skip the current iteration of a loop"
   ]
  },
  {
   "cell_type": "code",
   "execution_count": 183,
   "id": "c96996f5",
   "metadata": {},
   "outputs": [],
   "source": [
    "#make big list\n",
    "big_ls = list(range(100))\n",
    "# big_ls"
   ]
  },
  {
   "cell_type": "code",
   "execution_count": 192,
   "id": "ad218d2e",
   "metadata": {},
   "outputs": [
    {
     "name": "stdout",
     "output_type": "stream",
     "text": [
      "0\n",
      "hello\n",
      "1\n",
      "hello\n",
      "2\n",
      "hello\n",
      "3\n",
      "hello\n",
      "4\n",
      "hello\n",
      "5\n",
      "hello\n",
      "6\n",
      "hello\n",
      "7\n",
      "hello\n",
      "8\n",
      "hello\n",
      "9\n",
      "you found 9!\n"
     ]
    }
   ],
   "source": [
    "for i in big_ls:\n",
    "    print(i)\n",
    "#     find when a number equals 9, then break out of the loop\n",
    "    if i == 9: \n",
    "        print('you found 9!')\n",
    "        break #completely breaks us out of the for loop\n",
    "    print('hello')"
   ]
  },
  {
   "cell_type": "code",
   "execution_count": null,
   "id": "4ea61442",
   "metadata": {},
   "outputs": [],
   "source": []
  },
  {
   "cell_type": "code",
   "execution_count": 201,
   "id": "d2aa852f",
   "metadata": {},
   "outputs": [
    {
     "name": "stdout",
     "output_type": "stream",
     "text": [
      "0\n",
      "hello\n",
      "\n",
      "1\n",
      "hello\n",
      "\n",
      "2\n",
      "hello\n",
      "\n",
      "3\n",
      "hello\n",
      "\n",
      "4\n",
      "hello\n",
      "\n",
      "5\n",
      "hello\n",
      "\n",
      "6\n",
      "hello\n",
      "\n",
      "7\n",
      "hello\n",
      "\n",
      "8\n",
      "hello\n",
      "\n",
      "9\n",
      "you found 9!\n",
      "10\n",
      "hello\n",
      "\n",
      "11\n",
      "hello\n",
      "\n",
      "12\n",
      "hello\n",
      "\n",
      "13\n",
      "hello\n",
      "\n",
      "14\n",
      "hello\n",
      "\n",
      "15\n",
      "hello\n",
      "\n"
     ]
    }
   ],
   "source": [
    "for i in big_ls:\n",
    "    print(i)\n",
    "    #find the number 9 and then skip that current iteration\n",
    "    if i == 9:\n",
    "        print('you found 9!')\n",
    "        continue\n",
    "    print('hello') #this gets skipped when we hit that continue\n",
    "    print()\n",
    "    if i == 15:\n",
    "        break"
   ]
  },
  {
   "cell_type": "code",
   "execution_count": 218,
   "id": "d250dc44",
   "metadata": {},
   "outputs": [],
   "source": [
    "string = 'Hello Pagel'"
   ]
  },
  {
   "cell_type": "code",
   "execution_count": 220,
   "id": "49e2ba85",
   "metadata": {},
   "outputs": [
    {
     "name": "stdout",
     "output_type": "stream",
     "text": [
      "H\n",
      "this print when its not a space\n",
      "e\n",
      "this print when its not a space\n",
      "l\n",
      "this print when its not a space\n",
      "l\n",
      "this print when its not a space\n",
      "o\n",
      "this print when its not a space\n",
      " \n",
      "this print when its not a space\n",
      "P\n",
      "this print when its not a space\n",
      "a\n",
      "this print when its not a space\n",
      "g\n",
      "this print when its not a space\n",
      "e\n",
      "this print when its not a space\n",
      "l\n",
      "this print when its not a space\n"
     ]
    }
   ],
   "source": [
    "for char in string:\n",
    "    print(char)\n",
    "    print('this print when its not a space')"
   ]
  },
  {
   "cell_type": "code",
   "execution_count": 219,
   "id": "b4e7a84a",
   "metadata": {},
   "outputs": [
    {
     "name": "stdout",
     "output_type": "stream",
     "text": [
      "this is my char: H\n",
      "H\n",
      "this print when its not a space\n",
      "this is my char: e\n",
      "E\n",
      "this print when its not a space\n",
      "this is my char: l\n",
      "L\n",
      "this print when its not a space\n",
      "this is my char: l\n",
      "L\n",
      "this print when its not a space\n",
      "this is my char: o\n",
      "O\n",
      "this print when its not a space\n",
      "this is my char:  \n",
      "this is my char: P\n",
      "P\n",
      "this print when its not a space\n",
      "this is my char: a\n",
      "A\n",
      "this print when its not a space\n",
      "this is my char: g\n",
      "G\n",
      "this print when its not a space\n",
      "this is my char: e\n",
      "E\n",
      "this print when its not a space\n",
      "this is my char: l\n",
      "L\n",
      "this print when its not a space\n"
     ]
    }
   ],
   "source": [
    "for char in string:\n",
    "    print(f'this is my char: {char}')\n",
    "    if char == ' ': #whenever we see a space\n",
    "        continue #skip everything else in this loop\n",
    "    char = char.upper()\n",
    "    print(char)\n",
    "    print('this print when its not a space')"
   ]
  },
  {
   "cell_type": "code",
   "execution_count": null,
   "id": "d93d62a6",
   "metadata": {},
   "outputs": [],
   "source": []
  }
 ],
 "metadata": {
  "kernelspec": {
   "display_name": "Python 3 (ipykernel)",
   "language": "python",
   "name": "python3"
  },
  "language_info": {
   "codemirror_mode": {
    "name": "ipython",
    "version": 3
   },
   "file_extension": ".py",
   "mimetype": "text/x-python",
   "name": "python",
   "nbconvert_exporter": "python",
   "pygments_lexer": "ipython3",
   "version": "3.9.12"
  }
 },
 "nbformat": 4,
 "nbformat_minor": 5
}
