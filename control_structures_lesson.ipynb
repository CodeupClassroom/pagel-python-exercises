{
 "cells": [
  {
   "cell_type": "markdown",
   "id": "01bdbfbc",
   "metadata": {},
   "source": [
    "# Control Structures"
   ]
  },
  {
   "cell_type": "markdown",
   "id": "3e3f7456",
   "metadata": {},
   "source": [
    "What are they: Commands that enable a program to know which direction to go. Aka controls the 'flow' of the program\n",
    "\n",
    "There are different kinds of flow: \n",
    "- sequential flow\n",
    "- conditional flow\n",
    "- repetitive flow"
   ]
  },
  {
   "cell_type": "markdown",
   "id": "edb550c3",
   "metadata": {},
   "source": [
    "Why do we care: These are building blocks in programming that allows us to do a lot of cool things! "
   ]
  },
  {
   "cell_type": "markdown",
   "id": "f7ad28a1",
   "metadata": {},
   "source": [
    "## Conditional flow"
   ]
  },
  {
   "cell_type": "markdown",
   "id": "ca216a29",
   "metadata": {},
   "source": [
    "opener: whats the difference between the following code commands?"
   ]
  },
  {
   "cell_type": "code",
   "execution_count": 1,
   "id": "6b1e13d8",
   "metadata": {},
   "outputs": [],
   "source": [
    "breakfast = 'coffee'"
   ]
  },
  {
   "cell_type": "code",
   "execution_count": 2,
   "id": "2e28ed95",
   "metadata": {},
   "outputs": [
    {
     "data": {
      "text/plain": [
       "'coffee'"
      ]
     },
     "execution_count": 2,
     "metadata": {},
     "output_type": "execute_result"
    }
   ],
   "source": [
    "breakfast"
   ]
  },
  {
   "cell_type": "code",
   "execution_count": 3,
   "id": "7883d73c",
   "metadata": {},
   "outputs": [
    {
     "data": {
      "text/plain": [
       "True"
      ]
     },
     "execution_count": 3,
     "metadata": {},
     "output_type": "execute_result"
    }
   ],
   "source": [
    "breakfast == 'coffee'"
   ]
  },
  {
   "cell_type": "markdown",
   "id": "fe100984",
   "metadata": {},
   "source": [
    "- the single = is setting a variable\n",
    "- the double == is checking a condition"
   ]
  },
  {
   "cell_type": "markdown",
   "id": "a0d8ed4d",
   "metadata": {},
   "source": [
    "### IF statement"
   ]
  },
  {
   "cell_type": "markdown",
   "id": "f08c0e7e",
   "metadata": {},
   "source": [
    "#### IF\n",
    "-- if this condition is true, do this action"
   ]
  },
  {
   "cell_type": "code",
   "execution_count": 4,
   "id": "5a73dfcb",
   "metadata": {},
   "outputs": [],
   "source": [
    "# FORMAT:\n",
    "# if [condition_to_check]:\n",
    "#     [do_this_if_TRUE]"
   ]
  },
  {
   "cell_type": "code",
   "execution_count": 5,
   "id": "9554a5ea",
   "metadata": {},
   "outputs": [
    {
     "data": {
      "text/plain": [
       "'coffee'"
      ]
     },
     "execution_count": 5,
     "metadata": {},
     "output_type": "execute_result"
    }
   ],
   "source": [
    "breakfast"
   ]
  },
  {
   "cell_type": "code",
   "execution_count": 6,
   "id": "9e66db01",
   "metadata": {},
   "outputs": [
    {
     "name": "stdout",
     "output_type": "stream",
     "text": [
      "yes, you had cofffee for breakfast\n"
     ]
    }
   ],
   "source": [
    "if breakfast == 'coffee':\n",
    "    print('yes, you had cofffee for breakfast')"
   ]
  },
  {
   "cell_type": "markdown",
   "id": "668e9610",
   "metadata": {},
   "source": [
    "> note: WHITE SPACE MATTERS IN PYTHON"
   ]
  },
  {
   "cell_type": "code",
   "execution_count": 9,
   "id": "bd18d1d1",
   "metadata": {},
   "outputs": [
    {
     "ename": "IndentationError",
     "evalue": "unexpected indent (1206821462.py, line 3)",
     "output_type": "error",
     "traceback": [
      "\u001b[0;36m  Input \u001b[0;32mIn [9]\u001b[0;36m\u001b[0m\n\u001b[0;31m    print('yes, you had cofffee for breakfast') #this errors out\u001b[0m\n\u001b[0m    ^\u001b[0m\n\u001b[0;31mIndentationError\u001b[0m\u001b[0;31m:\u001b[0m unexpected indent\n"
     ]
    }
   ],
   "source": [
    "if breakfast == 'coffee':\n",
    "    print('hello')\n",
    "            print('yes, you had cofffee for breakfast') #this errors out"
   ]
  },
  {
   "cell_type": "markdown",
   "id": "b4f47d21",
   "metadata": {},
   "source": [
    "#### syntax"
   ]
  },
  {
   "cell_type": "markdown",
   "id": "585aa00e",
   "metadata": {},
   "source": [
    "- after you conditional statement, always include that colon :\n",
    "- whatever you would like to execute, put on a new line and indent"
   ]
  },
  {
   "cell_type": "markdown",
   "id": "4ea57cce",
   "metadata": {},
   "source": [
    "#### more examples"
   ]
  },
  {
   "cell_type": "code",
   "execution_count": 10,
   "id": "df70ebe6",
   "metadata": {},
   "outputs": [],
   "source": [
    "awake = False"
   ]
  },
  {
   "cell_type": "code",
   "execution_count": 11,
   "id": "e838bc4e",
   "metadata": {},
   "outputs": [
    {
     "name": "stdout",
     "output_type": "stream",
     "text": [
      "yes you had coffe for breakfast\n",
      "5\n"
     ]
    }
   ],
   "source": [
    "if breakfast == 'coffee': \n",
    "    print('yes you had coffe for breakfast')\n",
    "    awake = True\n",
    "    print(2+3)"
   ]
  },
  {
   "cell_type": "code",
   "execution_count": 12,
   "id": "fa30399b",
   "metadata": {},
   "outputs": [],
   "source": [
    "if breakfast == 'cereal':\n",
    "    print('yay cereal!')\n",
    "    print(2+3) #nothing prints out because inside the if statement"
   ]
  },
  {
   "cell_type": "code",
   "execution_count": 13,
   "id": "42a8345f",
   "metadata": {},
   "outputs": [
    {
     "name": "stdout",
     "output_type": "stream",
     "text": [
      "goodbye\n"
     ]
    }
   ],
   "source": [
    "if breakfast == 'cereal':\n",
    "    print('yay cereal!')\n",
    "    print(2+3)\n",
    "print('goodbye') # this isnt included in the if statement so it always executes"
   ]
  },
  {
   "cell_type": "markdown",
   "id": "a4109c7b",
   "metadata": {},
   "source": [
    "> pay attention to the indentation!"
   ]
  },
  {
   "cell_type": "markdown",
   "id": "0b90998f",
   "metadata": {},
   "source": [
    "#### troubleshooting"
   ]
  },
  {
   "cell_type": "code",
   "execution_count": 14,
   "id": "25c21400",
   "metadata": {},
   "outputs": [],
   "source": [
    "weather = 'rain'"
   ]
  },
  {
   "cell_type": "markdown",
   "id": "7ba6cd7f",
   "metadata": {},
   "source": [
    "Whats wrong with the following code? Look at the error statements before fixing. "
   ]
  },
  {
   "cell_type": "code",
   "execution_count": 15,
   "id": "a5180be8",
   "metadata": {},
   "outputs": [
    {
     "ename": "SyntaxError",
     "evalue": "invalid syntax (4008337924.py, line 1)",
     "output_type": "error",
     "traceback": [
      "\u001b[0;36m  Input \u001b[0;32mIn [15]\u001b[0;36m\u001b[0m\n\u001b[0;31m    if weather = 'rain':\u001b[0m\n\u001b[0m               ^\u001b[0m\n\u001b[0;31mSyntaxError\u001b[0m\u001b[0;31m:\u001b[0m invalid syntax\n"
     ]
    }
   ],
   "source": [
    "if weather = 'rain':\n",
    "    print('yes, it is rainy outside today')"
   ]
  },
  {
   "cell_type": "code",
   "execution_count": 16,
   "id": "e0bf1787",
   "metadata": {},
   "outputs": [
    {
     "ename": "NameError",
     "evalue": "name 'rain' is not defined",
     "output_type": "error",
     "traceback": [
      "\u001b[0;31m---------------------------------------------------------------------------\u001b[0m",
      "\u001b[0;31mNameError\u001b[0m                                 Traceback (most recent call last)",
      "Input \u001b[0;32mIn [16]\u001b[0m, in \u001b[0;36m<cell line: 1>\u001b[0;34m()\u001b[0m\n\u001b[0;32m----> 1\u001b[0m \u001b[38;5;28;01mif\u001b[39;00m weather \u001b[38;5;241m==\u001b[39m \u001b[43mrain\u001b[49m:\n\u001b[1;32m      2\u001b[0m     \u001b[38;5;28mprint\u001b[39m(\u001b[38;5;124m'\u001b[39m\u001b[38;5;124myes, it is rainy outside today\u001b[39m\u001b[38;5;124m'\u001b[39m)\n",
      "\u001b[0;31mNameError\u001b[0m: name 'rain' is not defined"
     ]
    }
   ],
   "source": [
    "if weather == rain:\n",
    "    print('yes, it is rainy outside today')"
   ]
  },
  {
   "cell_type": "markdown",
   "id": "2469c9ad",
   "metadata": {},
   "source": [
    "- it thinks that `rain` is a variable"
   ]
  },
  {
   "cell_type": "code",
   "execution_count": 17,
   "id": "25102110",
   "metadata": {},
   "outputs": [
    {
     "ename": "IndentationError",
     "evalue": "expected an indented block (3714790084.py, line 2)",
     "output_type": "error",
     "traceback": [
      "\u001b[0;36m  Input \u001b[0;32mIn [17]\u001b[0;36m\u001b[0m\n\u001b[0;31m    print('yes, it is rainy outside today')\u001b[0m\n\u001b[0m    ^\u001b[0m\n\u001b[0;31mIndentationError\u001b[0m\u001b[0;31m:\u001b[0m expected an indented block\n"
     ]
    }
   ],
   "source": [
    "if weather == 'rain':\n",
    "print('yes, it is rainy outside today')"
   ]
  },
  {
   "cell_type": "code",
   "execution_count": 18,
   "id": "3e7a2b21",
   "metadata": {},
   "outputs": [
    {
     "ename": "SyntaxError",
     "evalue": "invalid syntax (4247481164.py, line 1)",
     "output_type": "error",
     "traceback": [
      "\u001b[0;36m  Input \u001b[0;32mIn [18]\u001b[0;36m\u001b[0m\n\u001b[0;31m    if weather == 'rain'\u001b[0m\n\u001b[0m                        ^\u001b[0m\n\u001b[0;31mSyntaxError\u001b[0m\u001b[0;31m:\u001b[0m invalid syntax\n"
     ]
    }
   ],
   "source": [
    "if weather == 'rain'\n",
    "    print('yes, it is rainy outside today')"
   ]
  },
  {
   "cell_type": "markdown",
   "id": "a0848fb2",
   "metadata": {},
   "source": [
    "#### IF/ELSE\n",
    "-- if this condition is true, do this action, if nothing else is true, do this"
   ]
  },
  {
   "cell_type": "code",
   "execution_count": 19,
   "id": "75214405",
   "metadata": {},
   "outputs": [],
   "source": [
    "# FORMAT:\n",
    "# if [condition_to_check]:\n",
    "#     [do_this_if_TRUE]\n",
    "# else:\n",
    "#     [do_this_if_FALSE]"
   ]
  },
  {
   "cell_type": "code",
   "execution_count": 20,
   "id": "ac75c006",
   "metadata": {},
   "outputs": [
    {
     "data": {
      "text/plain": [
       "'coffee'"
      ]
     },
     "execution_count": 20,
     "metadata": {},
     "output_type": "execute_result"
    }
   ],
   "source": [
    "breakfast"
   ]
  },
  {
   "cell_type": "code",
   "execution_count": 21,
   "id": "5e3695a2",
   "metadata": {},
   "outputs": [
    {
     "name": "stdout",
     "output_type": "stream",
     "text": [
      "i dont know what you had for breakfast\n",
      "extra lines\n",
      "7\n"
     ]
    }
   ],
   "source": [
    "if breakfast == 'banana':\n",
    "    print('yay banana!')\n",
    "else:\n",
    "    print('i dont know what you had for breakfast')\n",
    "    print('extra lines')\n",
    "\n",
    "print(5+2) #will always print regardless"
   ]
  },
  {
   "cell_type": "markdown",
   "id": "275a8a5b",
   "metadata": {},
   "source": [
    "#### syntax"
   ]
  },
  {
   "cell_type": "markdown",
   "id": "d9242901",
   "metadata": {},
   "source": [
    "note: the indentations and new lines"
   ]
  },
  {
   "cell_type": "markdown",
   "id": "6d220b1a",
   "metadata": {},
   "source": [
    "#### IF/ELIF/ELSE\n",
    "-- if this condition is true, do this action, else if this other condition is true, do something else, if nothing is true, do this"
   ]
  },
  {
   "cell_type": "code",
   "execution_count": 22,
   "id": "d5011946",
   "metadata": {},
   "outputs": [],
   "source": [
    "# FORMAT:\n",
    "# if [condition_to_check]:\n",
    "#     [do_this_if_TRUE]\n",
    "# elif [condition_to_check]:\n",
    "#     [do_this_if_TRUE]\n",
    "# else:\n",
    "#     [do_this_if_FALSE]"
   ]
  },
  {
   "cell_type": "code",
   "execution_count": 23,
   "id": "714acef4",
   "metadata": {},
   "outputs": [
    {
     "data": {
      "text/plain": [
       "('coffee', 'rain')"
      ]
     },
     "execution_count": 23,
     "metadata": {},
     "output_type": "execute_result"
    }
   ],
   "source": [
    "breakfast, weather"
   ]
  },
  {
   "cell_type": "code",
   "execution_count": 24,
   "id": "b9f72032",
   "metadata": {},
   "outputs": [
    {
     "name": "stdout",
     "output_type": "stream",
     "text": [
      "breakfast coffee\n"
     ]
    }
   ],
   "source": [
    "if breakfast == 'coffee':\n",
    "    print('breakfast coffee')\n",
    "elif weather == 'rain':\n",
    "    print('it rain')\n",
    "else:\n",
    "    print('no coffee or rain')"
   ]
  },
  {
   "cell_type": "markdown",
   "id": "d5459b89",
   "metadata": {},
   "source": [
    "- as long as one of the conditions are TRUE, it will execute and get out of the if statement"
   ]
  },
  {
   "cell_type": "markdown",
   "id": "73fc4346",
   "metadata": {},
   "source": [
    "#### double if?"
   ]
  },
  {
   "cell_type": "code",
   "execution_count": 25,
   "id": "35f924fb",
   "metadata": {},
   "outputs": [
    {
     "name": "stdout",
     "output_type": "stream",
     "text": [
      "breakfast coffee\n",
      "it rain\n"
     ]
    }
   ],
   "source": [
    "if breakfast == 'coffee':\n",
    "    print('breakfast coffee') \n",
    "if weather == 'rain': #not using an elif\n",
    "    print('it rain')\n",
    "else:\n",
    "    print('no coffee or rain')"
   ]
  },
  {
   "cell_type": "markdown",
   "id": "f63dd3c7",
   "metadata": {},
   "source": [
    "#### check multiple conditions?"
   ]
  },
  {
   "cell_type": "code",
   "execution_count": 26,
   "id": "53e09270",
   "metadata": {},
   "outputs": [
    {
     "data": {
      "text/plain": [
       "('coffee', 'rain')"
      ]
     },
     "execution_count": 26,
     "metadata": {},
     "output_type": "execute_result"
    }
   ],
   "source": [
    "breakfast, weather"
   ]
  },
  {
   "cell_type": "code",
   "execution_count": 27,
   "id": "48818441",
   "metadata": {},
   "outputs": [],
   "source": [
    "if breakfast == 'coffee' and weather == 'sunny': #you dont need an else statement\n",
    "    print('coffe and sun')\n",
    "# else:\n",
    "#     print('these both arent true')"
   ]
  },
  {
   "cell_type": "code",
   "execution_count": 28,
   "id": "4d1fa4eb",
   "metadata": {},
   "outputs": [
    {
     "name": "stdout",
     "output_type": "stream",
     "text": [
      "coffe and sun\n"
     ]
    }
   ],
   "source": [
    "if breakfast == 'coffee' or weather == 'sunny':\n",
    "    print('coffe and sun')"
   ]
  },
  {
   "cell_type": "markdown",
   "id": "e2fc7771",
   "metadata": {},
   "source": [
    "- `and` BOTH conditions are true\n",
    "- `or` EITHER coniditon is true"
   ]
  },
  {
   "cell_type": "markdown",
   "id": "4976c16e",
   "metadata": {},
   "source": [
    "## Repetitive Flow (loops)"
   ]
  },
  {
   "cell_type": "markdown",
   "id": "5fbea5fc",
   "metadata": {},
   "source": [
    "### While loop\n",
    "-- do some action over and over again while a condition is true"
   ]
  },
  {
   "cell_type": "code",
   "execution_count": 29,
   "id": "2ac6b75b",
   "metadata": {},
   "outputs": [],
   "source": [
    "# FORMAT: \n",
    "# while [condition]:\n",
    "#     [repeat_this_while_condition_is_true]"
   ]
  },
  {
   "cell_type": "code",
   "execution_count": 30,
   "id": "c10aa8e9",
   "metadata": {},
   "outputs": [
    {
     "name": "stdout",
     "output_type": "stream",
     "text": [
      "1\n",
      "2\n",
      "3\n",
      "4\n",
      "5\n"
     ]
    }
   ],
   "source": [
    "x = 1\n",
    "\n",
    "while x < 5:\n",
    "    print(x)\n",
    "    x = x + 1\n",
    "\n",
    "print(x)"
   ]
  },
  {
   "cell_type": "markdown",
   "id": "b5fd7b1d",
   "metadata": {},
   "source": [
    "#### syntax"
   ]
  },
  {
   "cell_type": "markdown",
   "id": "ac004c59",
   "metadata": {},
   "source": [
    "- need the colon after the conditional statement\n",
    "- everything that you want to execute has to be indented over"
   ]
  },
  {
   "cell_type": "markdown",
   "id": "6b701e99",
   "metadata": {},
   "source": [
    "#### whats happening in the above code?"
   ]
  },
  {
   "cell_type": "markdown",
   "id": "a8458968",
   "metadata": {},
   "source": [
    "- setting my variable x to 1 \n",
    "- then im checking if x is less that 5\n",
    "- printing out x\n",
    "- adding one to x\n",
    "- go back to the top of the loop and check my condition to see if it is true\n",
    "- once my condition is false, then i exit the loop "
   ]
  },
  {
   "cell_type": "markdown",
   "id": "2832b8e2",
   "metadata": {},
   "source": [
    "#### another example"
   ]
  },
  {
   "cell_type": "code",
   "execution_count": 31,
   "id": "c73a8104",
   "metadata": {},
   "outputs": [
    {
     "name": "stdout",
     "output_type": "stream",
     "text": [
      "6\n"
     ]
    }
   ],
   "source": [
    "x = 6\n",
    "\n",
    "while x < 5: #doesnt error out, just doesnt execute anything\n",
    "    print(x)\n",
    "    x = x + 1\n",
    "\n",
    "print(x)"
   ]
  },
  {
   "cell_type": "code",
   "execution_count": 32,
   "id": "8c337b3a",
   "metadata": {},
   "outputs": [],
   "source": [
    "# x = 6\n",
    "\n",
    "# while x > 5: #need to be able to break out of this condition somehow\n",
    "#     print(x)"
   ]
  },
  {
   "cell_type": "markdown",
   "id": "3a6d178e",
   "metadata": {},
   "source": [
    "- this in an infite loop. dont make these"
   ]
  },
  {
   "cell_type": "markdown",
   "id": "873b55b8",
   "metadata": {},
   "source": [
    "#### troubleshoot"
   ]
  },
  {
   "cell_type": "code",
   "execution_count": 33,
   "id": "12025467",
   "metadata": {},
   "outputs": [
    {
     "name": "stdout",
     "output_type": "stream",
     "text": [
      "1\n",
      "2\n",
      "3\n",
      "4\n"
     ]
    }
   ],
   "source": [
    "x = 1 \n",
    "\n",
    "while x < 5: \n",
    "    print(x)\n",
    "    x = x + 1 #without this line of code, x doesnt increment and it repeats forever"
   ]
  },
  {
   "cell_type": "markdown",
   "id": "415a3282",
   "metadata": {},
   "source": [
    "### For loop\n",
    "-- allows you to iterate over a sequence"
   ]
  },
  {
   "cell_type": "code",
   "execution_count": 34,
   "id": "d6c95326",
   "metadata": {},
   "outputs": [],
   "source": [
    "# FORMAT: \n",
    "# for [iterator] in [sequence]:\n",
    "#     [do_this_usually_on_iterator]"
   ]
  },
  {
   "cell_type": "code",
   "execution_count": 35,
   "id": "34eacdfc",
   "metadata": {},
   "outputs": [
    {
     "data": {
      "text/plain": [
       "[1, 23, 3423, 523, -2]"
      ]
     },
     "execution_count": 35,
     "metadata": {},
     "output_type": "execute_result"
    }
   ],
   "source": [
    "ls = [1,23,3423,523,-2]\n",
    "ls"
   ]
  },
  {
   "cell_type": "code",
   "execution_count": 36,
   "id": "0e2b6bb0",
   "metadata": {},
   "outputs": [
    {
     "name": "stdout",
     "output_type": "stream",
     "text": [
      "1\n",
      "23\n",
      "3423\n",
      "523\n",
      "-2\n"
     ]
    }
   ],
   "source": [
    "for x in ls:\n",
    "    print(x)"
   ]
  },
  {
   "cell_type": "markdown",
   "id": "02f014da",
   "metadata": {},
   "source": [
    "Q: what is it the sequence in the above loop?\n",
    "\n",
    "A: ls\n",
    "\n",
    "Q: what is the iterator in the above loop?\n",
    "\n",
    "A: x"
   ]
  },
  {
   "cell_type": "markdown",
   "id": "a3973442",
   "metadata": {},
   "source": [
    "#### syntax:"
   ]
  },
  {
   "cell_type": "markdown",
   "id": "22231254",
   "metadata": {},
   "source": [
    "- colon at the end\n",
    "- whatever we want to execute has to be indented"
   ]
  },
  {
   "cell_type": "markdown",
   "id": "a67e2f4d",
   "metadata": {},
   "source": [
    "#### the iterator can be any variable you want"
   ]
  },
  {
   "cell_type": "code",
   "execution_count": 37,
   "id": "143b62c2",
   "metadata": {},
   "outputs": [
    {
     "data": {
      "text/plain": [
       "[1, 23, 3423, 523, -2]"
      ]
     },
     "execution_count": 37,
     "metadata": {},
     "output_type": "execute_result"
    }
   ],
   "source": [
    "ls"
   ]
  },
  {
   "cell_type": "code",
   "execution_count": 38,
   "id": "9b49250b",
   "metadata": {},
   "outputs": [
    {
     "name": "stdout",
     "output_type": "stream",
     "text": [
      "1\n",
      "23\n",
      "3423\n",
      "523\n",
      "-2\n"
     ]
    }
   ],
   "source": [
    "for random_number_in_list in ls:\n",
    "    print(random_number_in_list)"
   ]
  },
  {
   "cell_type": "code",
   "execution_count": 39,
   "id": "048682a9",
   "metadata": {},
   "outputs": [
    {
     "name": "stdout",
     "output_type": "stream",
     "text": [
      "[1, 23, 3423, 523, -2]\n",
      "[1, 23, 3423, 523, -2]\n",
      "[1, 23, 3423, 523, -2]\n",
      "[1, 23, 3423, 523, -2]\n",
      "[1, 23, 3423, 523, -2]\n"
     ]
    }
   ],
   "source": [
    "for x in ls:\n",
    "    print(ls)"
   ]
  },
  {
   "cell_type": "markdown",
   "id": "73fb5e5c",
   "metadata": {},
   "source": [
    "- know what your iterator variable is"
   ]
  },
  {
   "cell_type": "code",
   "execution_count": 40,
   "id": "3abd7599",
   "metadata": {},
   "outputs": [
    {
     "data": {
      "text/plain": [
       "-2"
      ]
     },
     "execution_count": 40,
     "metadata": {},
     "output_type": "execute_result"
    }
   ],
   "source": [
    "x #this x has replaced the previous version of x in our while loops"
   ]
  },
  {
   "cell_type": "code",
   "execution_count": 41,
   "id": "93295d5b",
   "metadata": {},
   "outputs": [],
   "source": [
    "number_of_apples = [1,23,34,42354,-23]"
   ]
  },
  {
   "cell_type": "code",
   "execution_count": 42,
   "id": "d057808a",
   "metadata": {},
   "outputs": [
    {
     "name": "stdout",
     "output_type": "stream",
     "text": [
      "1\n",
      "23\n",
      "34\n",
      "42354\n",
      "-23\n"
     ]
    }
   ],
   "source": [
    "for number in number_of_apples:\n",
    "    print(number)"
   ]
  },
  {
   "cell_type": "markdown",
   "id": "7e50a40a",
   "metadata": {},
   "source": [
    "#### execute all the things"
   ]
  },
  {
   "cell_type": "code",
   "execution_count": 43,
   "id": "c35769bb",
   "metadata": {},
   "outputs": [
    {
     "data": {
      "text/plain": [
       "[1, 23, 3423, 523, -2]"
      ]
     },
     "execution_count": 43,
     "metadata": {},
     "output_type": "execute_result"
    }
   ],
   "source": [
    "ls"
   ]
  },
  {
   "cell_type": "code",
   "execution_count": 44,
   "id": "96070b91",
   "metadata": {},
   "outputs": [
    {
     "name": "stdout",
     "output_type": "stream",
     "text": [
      "[1, 23, 3423, 523, -2]\n",
      "\n",
      "[1, 23, 3423, 523, -2]\n",
      "\n",
      "[1, 23, 3423, 523, -2]\n",
      "\n",
      "[1, 23, 3423, 523, -2]\n",
      "\n",
      "[1, 23, 3423, 523, -2]\n",
      "\n",
      "another hello\n"
     ]
    }
   ],
   "source": [
    "for i in ls:\n",
    "#     print(i) #dont need to print out the iterator for the loop to work\n",
    "    print(ls) #the whole list will print out\n",
    "    print()\n",
    "print('another hello') #not included in the for loop and \n",
    "# only outputs when the for loop is finished"
   ]
  },
  {
   "cell_type": "code",
   "execution_count": 45,
   "id": "f46e1298",
   "metadata": {},
   "outputs": [
    {
     "data": {
      "text/plain": [
       "[1, 23]"
      ]
     },
     "execution_count": 45,
     "metadata": {},
     "output_type": "execute_result"
    }
   ],
   "source": [
    "ls[:2]"
   ]
  },
  {
   "cell_type": "code",
   "execution_count": 46,
   "id": "c7dde9cc",
   "metadata": {},
   "outputs": [
    {
     "name": "stdout",
     "output_type": "stream",
     "text": [
      "1\n",
      "23\n"
     ]
    }
   ],
   "source": [
    "for n in ls[:2]: #iterator can slice a piece of your list\n",
    "    print(n)"
   ]
  },
  {
   "cell_type": "code",
   "execution_count": 47,
   "id": "714214d2",
   "metadata": {},
   "outputs": [
    {
     "data": {
      "text/plain": [
       "[1, 23, 3423, 523, -2]"
      ]
     },
     "execution_count": 47,
     "metadata": {},
     "output_type": "execute_result"
    }
   ],
   "source": [
    "ls #your list doesnt change"
   ]
  },
  {
   "cell_type": "code",
   "execution_count": 48,
   "id": "a95cfefa",
   "metadata": {},
   "outputs": [
    {
     "name": "stdout",
     "output_type": "stream",
     "text": [
      "1\n",
      "23\n",
      "3423\n",
      "523\n",
      "-2\n"
     ]
    }
   ],
   "source": [
    "for ls in ls: #dont do this\n",
    "    print(ls)"
   ]
  },
  {
   "cell_type": "code",
   "execution_count": 49,
   "id": "c6ef74f2",
   "metadata": {},
   "outputs": [
    {
     "data": {
      "text/plain": [
       "-2"
      ]
     },
     "execution_count": 49,
     "metadata": {},
     "output_type": "execute_result"
    }
   ],
   "source": [
    "ls "
   ]
  },
  {
   "cell_type": "markdown",
   "id": "86bd975f",
   "metadata": {},
   "source": [
    "- your `ls` variable has now been replace by your iterator"
   ]
  },
  {
   "cell_type": "markdown",
   "id": "0cfdf99c",
   "metadata": {},
   "source": [
    "#### what happens with tuples"
   ]
  },
  {
   "cell_type": "code",
   "execution_count": 50,
   "id": "99d683a2",
   "metadata": {},
   "outputs": [
    {
     "data": {
      "text/plain": [
       "(1, 5)"
      ]
     },
     "execution_count": 50,
     "metadata": {},
     "output_type": "execute_result"
    }
   ],
   "source": [
    "new_tuple = (1,5)\n",
    "new_tuple"
   ]
  },
  {
   "cell_type": "code",
   "execution_count": 51,
   "id": "33faebba",
   "metadata": {},
   "outputs": [
    {
     "name": "stdout",
     "output_type": "stream",
     "text": [
      "1\n",
      "5\n"
     ]
    }
   ],
   "source": [
    "for y in new_tuple:\n",
    "    print(y)"
   ]
  },
  {
   "cell_type": "code",
   "execution_count": 52,
   "id": "31adc13d",
   "metadata": {},
   "outputs": [
    {
     "name": "stdout",
     "output_type": "stream",
     "text": [
      "1\n",
      "5\n"
     ]
    }
   ],
   "source": [
    "for new_tuple in new_tuple:\n",
    "    print(new_tuple)"
   ]
  },
  {
   "cell_type": "code",
   "execution_count": 53,
   "id": "dddbf639",
   "metadata": {},
   "outputs": [
    {
     "data": {
      "text/plain": [
       "5"
      ]
     },
     "execution_count": 53,
     "metadata": {},
     "output_type": "execute_result"
    }
   ],
   "source": [
    "new_tuple #overriding the old tuple"
   ]
  },
  {
   "cell_type": "code",
   "execution_count": 54,
   "id": "87cdfca5",
   "metadata": {},
   "outputs": [],
   "source": [
    "new_tuple = (2,5)"
   ]
  },
  {
   "cell_type": "code",
   "execution_count": 55,
   "id": "c0ec4149",
   "metadata": {},
   "outputs": [
    {
     "data": {
      "text/plain": [
       "(2, 5)"
      ]
     },
     "execution_count": 55,
     "metadata": {},
     "output_type": "execute_result"
    }
   ],
   "source": [
    "new_tuple"
   ]
  },
  {
   "cell_type": "markdown",
   "id": "8cc60d90",
   "metadata": {},
   "source": [
    "#### can make a new list by accessing each value and doing something to do "
   ]
  },
  {
   "cell_type": "code",
   "execution_count": 56,
   "id": "89b7c2a4",
   "metadata": {},
   "outputs": [],
   "source": [
    "ls = [1,23,314,5,341,-25]"
   ]
  },
  {
   "cell_type": "code",
   "execution_count": 57,
   "id": "dc3dffdd",
   "metadata": {},
   "outputs": [
    {
     "name": "stdout",
     "output_type": "stream",
     "text": [
      "1\n",
      "23\n",
      "314\n",
      "5\n",
      "341\n",
      "-25\n"
     ]
    },
    {
     "data": {
      "text/plain": [
       "[2, 24, 315, 6, 342, -24]"
      ]
     },
     "execution_count": 57,
     "metadata": {},
     "output_type": "execute_result"
    }
   ],
   "source": [
    "new_list = []\n",
    "\n",
    "for x in ls:\n",
    "    print(x)\n",
    "    \n",
    "    new_list.append(x+1)\n",
    "    \n",
    "new_list"
   ]
  },
  {
   "cell_type": "code",
   "execution_count": 58,
   "id": "d9b9c1fb",
   "metadata": {},
   "outputs": [],
   "source": [
    "new_list.append(1000)"
   ]
  },
  {
   "cell_type": "code",
   "execution_count": 59,
   "id": "54bda1af",
   "metadata": {},
   "outputs": [
    {
     "data": {
      "text/plain": [
       "[2, 24, 315, 6, 342, -24, 1000]"
      ]
     },
     "execution_count": 59,
     "metadata": {},
     "output_type": "execute_result"
    }
   ],
   "source": [
    "new_list"
   ]
  },
  {
   "cell_type": "markdown",
   "id": "9193702e",
   "metadata": {},
   "source": [
    "#### can also iterate over strings"
   ]
  },
  {
   "cell_type": "code",
   "execution_count": 60,
   "id": "77495486",
   "metadata": {},
   "outputs": [
    {
     "data": {
      "text/plain": [
       "'hello pagel class!'"
      ]
     },
     "execution_count": 60,
     "metadata": {},
     "output_type": "execute_result"
    }
   ],
   "source": [
    "string = 'hello pagel class!'\n",
    "string"
   ]
  },
  {
   "cell_type": "code",
   "execution_count": 61,
   "id": "cc5edfec",
   "metadata": {},
   "outputs": [
    {
     "name": "stdout",
     "output_type": "stream",
     "text": [
      "h\n",
      "e\n",
      "THIS IS THE LETTER E!!!!! PAY ATTENTION\n",
      "l\n",
      "l\n",
      "o\n",
      " \n",
      "p\n",
      "a\n",
      "g\n",
      "e\n",
      "THIS IS THE LETTER E!!!!! PAY ATTENTION\n",
      "l\n",
      " \n",
      "c\n",
      "l\n",
      "a\n",
      "s\n",
      "s\n",
      "!\n"
     ]
    }
   ],
   "source": [
    "for char in string:\n",
    "    print(char)\n",
    "#     print(char + '!!!')\n",
    "    if char == 'e':\n",
    "        print('THIS IS THE LETTER E!!!!! PAY ATTENTION')"
   ]
  },
  {
   "cell_type": "markdown",
   "id": "eb002699",
   "metadata": {},
   "source": [
    "### List Comprehension"
   ]
  },
  {
   "cell_type": "markdown",
   "id": "b4477b1f",
   "metadata": {},
   "source": [
    "-- shorthand method of creating a list using a for loop"
   ]
  },
  {
   "cell_type": "code",
   "execution_count": 62,
   "id": "4ead5e47",
   "metadata": {},
   "outputs": [],
   "source": [
    "#FORMAT:\n",
    "#[[what_to_do_to_iterator] for [iterator] in [sequence]]"
   ]
  },
  {
   "cell_type": "code",
   "execution_count": 63,
   "id": "a08826f5",
   "metadata": {},
   "outputs": [
    {
     "data": {
      "text/plain": [
       "[1, 23, 314, 5, 341, -25]"
      ]
     },
     "execution_count": 63,
     "metadata": {},
     "output_type": "execute_result"
    }
   ],
   "source": [
    "ls"
   ]
  },
  {
   "cell_type": "code",
   "execution_count": 64,
   "id": "2238f847",
   "metadata": {},
   "outputs": [
    {
     "data": {
      "text/plain": [
       "[2, 24, 315, 6, 342, -24]"
      ]
     },
     "execution_count": 64,
     "metadata": {},
     "output_type": "execute_result"
    }
   ],
   "source": [
    "new_list = []\n",
    "\n",
    "for x in ls:\n",
    "    new_list.append(x+1)\n",
    "    \n",
    "new_list"
   ]
  },
  {
   "cell_type": "code",
   "execution_count": 65,
   "id": "b743906f",
   "metadata": {},
   "outputs": [
    {
     "data": {
      "text/plain": [
       "[2, 24, 315, 6, 342, -24]"
      ]
     },
     "execution_count": 65,
     "metadata": {},
     "output_type": "execute_result"
    }
   ],
   "source": [
    "#one-liner new list! cool! \n",
    "[ x+1 for x in ls ] #dont forget the square brackets"
   ]
  },
  {
   "cell_type": "code",
   "execution_count": 66,
   "id": "ad711a08",
   "metadata": {},
   "outputs": [],
   "source": [
    "new_list_from_list_comp = [ x+1 for x in ls ]"
   ]
  },
  {
   "cell_type": "code",
   "execution_count": 67,
   "id": "3cb541f6",
   "metadata": {},
   "outputs": [
    {
     "data": {
      "text/plain": [
       "[2, 24, 315, 6, 342, -24]"
      ]
     },
     "execution_count": 67,
     "metadata": {},
     "output_type": "execute_result"
    }
   ],
   "source": [
    "new_list_from_list_comp"
   ]
  },
  {
   "cell_type": "markdown",
   "id": "9fc84b51",
   "metadata": {},
   "source": [
    "- in python, you can put pretty much anything into a variable and call it later! "
   ]
  },
  {
   "cell_type": "markdown",
   "id": "720fdacf",
   "metadata": {},
   "source": [
    "### Break Continue\n",
    "-- commands to execute in a loop\n",
    "\n",
    "-- `break` will force the loop to end\n",
    "\n",
    "-- `continue` will skip the current iteration of a loop"
   ]
  },
  {
   "cell_type": "code",
   "execution_count": 68,
   "id": "c96996f5",
   "metadata": {},
   "outputs": [],
   "source": [
    "#make big list\n"
   ]
  },
  {
   "cell_type": "code",
   "execution_count": null,
   "id": "ece0a827",
   "metadata": {},
   "outputs": [],
   "source": []
  },
  {
   "cell_type": "code",
   "execution_count": null,
   "id": "0d2a09aa",
   "metadata": {},
   "outputs": [],
   "source": []
  },
  {
   "cell_type": "code",
   "execution_count": null,
   "id": "d250dc44",
   "metadata": {},
   "outputs": [],
   "source": []
  }
 ],
 "metadata": {
  "kernelspec": {
   "display_name": "Python 3 (ipykernel)",
   "language": "python",
   "name": "python3"
  },
  "language_info": {
   "codemirror_mode": {
    "name": "ipython",
    "version": 3
   },
   "file_extension": ".py",
   "mimetype": "text/x-python",
   "name": "python",
   "nbconvert_exporter": "python",
   "pygments_lexer": "ipython3",
   "version": "3.9.12"
  }
 },
 "nbformat": 4,
 "nbformat_minor": 5
}
