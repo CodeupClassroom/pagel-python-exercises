{
 "cells": [
  {
   "cell_type": "markdown",
   "id": "01bdbfbc",
   "metadata": {},
   "source": [
    "# Control Structures"
   ]
  },
  {
   "cell_type": "markdown",
   "id": "3e3f7456",
   "metadata": {},
   "source": [
    "What are they: Commands that enable a program to know which direction to go. Aka controls the 'flow' of the program\n",
    "\n",
    "There are different kinds of flow: \n",
    "- sequential flow\n",
    "- conditional flow\n",
    "- repetitive flow"
   ]
  },
  {
   "cell_type": "markdown",
   "id": "edb550c3",
   "metadata": {},
   "source": [
    "Why do we care: These are building blocks in programming that allows us to do a lot of cool things! "
   ]
  },
  {
   "cell_type": "markdown",
   "id": "f7ad28a1",
   "metadata": {},
   "source": [
    "## Conditional flow"
   ]
  },
  {
   "cell_type": "markdown",
   "id": "ca216a29",
   "metadata": {},
   "source": [
    "opener: whats the difference between the following code commands?"
   ]
  },
  {
   "cell_type": "code",
   "execution_count": null,
   "id": "6b1e13d8",
   "metadata": {},
   "outputs": [],
   "source": [
    "breakfast = 'coffee'"
   ]
  },
  {
   "cell_type": "code",
   "execution_count": null,
   "id": "7883d73c",
   "metadata": {},
   "outputs": [],
   "source": [
    "breakfast == 'coffee'"
   ]
  },
  {
   "cell_type": "code",
   "execution_count": null,
   "id": "6a7c7a54",
   "metadata": {},
   "outputs": [],
   "source": []
  },
  {
   "cell_type": "markdown",
   "id": "a0d8ed4d",
   "metadata": {},
   "source": [
    "### IF statement"
   ]
  },
  {
   "cell_type": "markdown",
   "id": "f08c0e7e",
   "metadata": {},
   "source": [
    "#### IF\n",
    "-- if this condition is true, do this action"
   ]
  },
  {
   "cell_type": "code",
   "execution_count": null,
   "id": "5a73dfcb",
   "metadata": {},
   "outputs": [],
   "source": [
    "# FORMAT:\n",
    "# if [condition_to_check]:\n",
    "#     [do_this_if_TRUE]"
   ]
  },
  {
   "cell_type": "code",
   "execution_count": null,
   "id": "3e181c10",
   "metadata": {},
   "outputs": [],
   "source": []
  },
  {
   "cell_type": "markdown",
   "id": "59454515",
   "metadata": {},
   "source": [
    "#### syntax"
   ]
  },
  {
   "cell_type": "code",
   "execution_count": null,
   "id": "c318f003",
   "metadata": {},
   "outputs": [],
   "source": []
  },
  {
   "cell_type": "markdown",
   "id": "35ff9eab",
   "metadata": {},
   "source": [
    "#### more examples"
   ]
  },
  {
   "cell_type": "code",
   "execution_count": null,
   "id": "8077060a",
   "metadata": {},
   "outputs": [],
   "source": []
  },
  {
   "cell_type": "markdown",
   "id": "0b90998f",
   "metadata": {},
   "source": [
    "#### troubleshooting"
   ]
  },
  {
   "cell_type": "code",
   "execution_count": null,
   "id": "25c21400",
   "metadata": {},
   "outputs": [],
   "source": [
    "weather = 'rain'"
   ]
  },
  {
   "cell_type": "markdown",
   "id": "7ba6cd7f",
   "metadata": {},
   "source": [
    "Whats wrong with the following code? Look at the error statements before fixing. "
   ]
  },
  {
   "cell_type": "code",
   "execution_count": null,
   "id": "a5180be8",
   "metadata": {},
   "outputs": [],
   "source": [
    "# if weather = 'rain':\n",
    "#     print('yes, it is rainy outside today')"
   ]
  },
  {
   "cell_type": "code",
   "execution_count": null,
   "id": "e0bf1787",
   "metadata": {},
   "outputs": [],
   "source": [
    "# if weather == rain:\n",
    "#     print('yes, it is rainy outside today')"
   ]
  },
  {
   "cell_type": "code",
   "execution_count": null,
   "id": "25102110",
   "metadata": {},
   "outputs": [],
   "source": [
    "# if weather == 'rain':\n",
    "# print('yes, it is rainy outside today')"
   ]
  },
  {
   "cell_type": "code",
   "execution_count": null,
   "id": "3e7a2b21",
   "metadata": {},
   "outputs": [],
   "source": [
    "# if weather == 'rain'\n",
    "#     print('yes, it is rainy outside today')"
   ]
  },
  {
   "cell_type": "markdown",
   "id": "a0848fb2",
   "metadata": {},
   "source": [
    "#### IF/ELSE\n",
    "-- if this condition is true, do this action, if nothing else is true, do this"
   ]
  },
  {
   "cell_type": "code",
   "execution_count": null,
   "id": "75214405",
   "metadata": {},
   "outputs": [],
   "source": [
    "# FORMAT:\n",
    "# if [condition_to_check]:\n",
    "#     [do_this_if_TRUE]\n",
    "# else:\n",
    "#     [do_this_if_TRUE]"
   ]
  },
  {
   "cell_type": "code",
   "execution_count": null,
   "id": "83299bcd",
   "metadata": {},
   "outputs": [],
   "source": []
  },
  {
   "cell_type": "markdown",
   "id": "d6ccbe4b",
   "metadata": {},
   "source": [
    "#### syntax"
   ]
  },
  {
   "cell_type": "code",
   "execution_count": null,
   "id": "cd1ddb98",
   "metadata": {},
   "outputs": [],
   "source": []
  },
  {
   "cell_type": "markdown",
   "id": "6d220b1a",
   "metadata": {},
   "source": [
    "#### IF/ELIF/ELSE\n",
    "-- if this condition is true, do this action, else if this other condition is true, do something else, if nothing is true, do this"
   ]
  },
  {
   "cell_type": "code",
   "execution_count": null,
   "id": "d5011946",
   "metadata": {},
   "outputs": [],
   "source": [
    "# FORMAT:\n",
    "# if [condition_to_check]:\n",
    "#     [do_this_if_TRUE]\n",
    "# elif [condition_to_check]:\n",
    "#     [do_this_if_TRUE]\n",
    "# else:\n",
    "#     [do_this_if_TRUE]"
   ]
  },
  {
   "cell_type": "code",
   "execution_count": null,
   "id": "fd8df4bc",
   "metadata": {},
   "outputs": [],
   "source": []
  },
  {
   "cell_type": "markdown",
   "id": "dda74556",
   "metadata": {},
   "source": [
    "#### double if?"
   ]
  },
  {
   "cell_type": "code",
   "execution_count": null,
   "id": "3576ecc4",
   "metadata": {},
   "outputs": [],
   "source": []
  },
  {
   "cell_type": "markdown",
   "id": "f63dd3c7",
   "metadata": {},
   "source": [
    "#### check multiple conditions?"
   ]
  },
  {
   "cell_type": "code",
   "execution_count": null,
   "id": "91a70530",
   "metadata": {},
   "outputs": [],
   "source": []
  },
  {
   "cell_type": "markdown",
   "id": "4976c16e",
   "metadata": {},
   "source": [
    "## Repetitive Flow (loops)"
   ]
  },
  {
   "cell_type": "markdown",
   "id": "5fbea5fc",
   "metadata": {},
   "source": [
    "### While loop\n",
    "-- do some action over and over again while a condition is true"
   ]
  },
  {
   "cell_type": "code",
   "execution_count": null,
   "id": "2ac6b75b",
   "metadata": {},
   "outputs": [],
   "source": [
    "# FORMAT: \n",
    "# while [condition]:\n",
    "#     [repeat_this_while_condition_is_true]"
   ]
  },
  {
   "cell_type": "code",
   "execution_count": null,
   "id": "ed75c871",
   "metadata": {},
   "outputs": [],
   "source": []
  },
  {
   "cell_type": "markdown",
   "id": "38cf3e37",
   "metadata": {},
   "source": [
    "#### syntax"
   ]
  },
  {
   "cell_type": "code",
   "execution_count": null,
   "id": "14f614cf",
   "metadata": {},
   "outputs": [],
   "source": []
  },
  {
   "cell_type": "markdown",
   "id": "bc377559",
   "metadata": {},
   "source": [
    "#### whats happening in the above code?"
   ]
  },
  {
   "cell_type": "code",
   "execution_count": null,
   "id": "a2554a01",
   "metadata": {},
   "outputs": [],
   "source": []
  },
  {
   "cell_type": "markdown",
   "id": "68f9d5bd",
   "metadata": {},
   "source": [
    "#### another example"
   ]
  },
  {
   "cell_type": "code",
   "execution_count": null,
   "id": "4d7f7e0d",
   "metadata": {},
   "outputs": [],
   "source": []
  },
  {
   "cell_type": "markdown",
   "id": "873b55b8",
   "metadata": {},
   "source": [
    "#### troubleshoot"
   ]
  },
  {
   "cell_type": "code",
   "execution_count": null,
   "id": "12025467",
   "metadata": {},
   "outputs": [],
   "source": [
    "# x = 1 \n",
    "\n",
    "# while x < 5: \n",
    "#     print(x)"
   ]
  },
  {
   "cell_type": "markdown",
   "id": "415a3282",
   "metadata": {},
   "source": [
    "### For loop\n",
    "-- allows you to iterate over a sequence"
   ]
  },
  {
   "cell_type": "code",
   "execution_count": null,
   "id": "d6c95326",
   "metadata": {},
   "outputs": [],
   "source": [
    "# FORMAT: \n",
    "# for [iterator] in [sequence]:\n",
    "#     [do_this_usually_on_iterator]"
   ]
  },
  {
   "cell_type": "code",
   "execution_count": null,
   "id": "d03ab58c",
   "metadata": {},
   "outputs": [],
   "source": []
  },
  {
   "cell_type": "markdown",
   "id": "64d03d25",
   "metadata": {},
   "source": [
    "#### syntax:"
   ]
  },
  {
   "cell_type": "code",
   "execution_count": null,
   "id": "abede1d5",
   "metadata": {},
   "outputs": [],
   "source": []
  },
  {
   "cell_type": "markdown",
   "id": "02f014da",
   "metadata": {},
   "source": [
    "Q: what is it the sequence in the above loop?\n",
    "\n",
    "A:\n",
    "\n",
    "Q: what is the iterator in the above loop?\n",
    "\n",
    "A: "
   ]
  },
  {
   "cell_type": "markdown",
   "id": "a67e2f4d",
   "metadata": {},
   "source": [
    "#### the iterator can be any variable you want"
   ]
  },
  {
   "cell_type": "code",
   "execution_count": null,
   "id": "c89b156a",
   "metadata": {},
   "outputs": [],
   "source": []
  },
  {
   "cell_type": "markdown",
   "id": "7e50a40a",
   "metadata": {},
   "source": [
    "#### execute all the things"
   ]
  },
  {
   "cell_type": "code",
   "execution_count": null,
   "id": "33627fea",
   "metadata": {},
   "outputs": [],
   "source": []
  },
  {
   "cell_type": "markdown",
   "id": "9193702e",
   "metadata": {},
   "source": [
    "#### can also iterate over strings"
   ]
  },
  {
   "cell_type": "code",
   "execution_count": null,
   "id": "78ebd3d2",
   "metadata": {},
   "outputs": [],
   "source": []
  },
  {
   "cell_type": "markdown",
   "id": "eb002699",
   "metadata": {},
   "source": [
    "### List Comprehension"
   ]
  },
  {
   "cell_type": "markdown",
   "id": "b4477b1f",
   "metadata": {},
   "source": [
    "-- shorthand method of creating a list using a for loop"
   ]
  },
  {
   "cell_type": "code",
   "execution_count": null,
   "id": "4ead5e47",
   "metadata": {},
   "outputs": [],
   "source": [
    "#FORMAT:\n",
    "#[[what_to_do_to_iterator] for [iterator] in [sequence]]"
   ]
  },
  {
   "cell_type": "code",
   "execution_count": null,
   "id": "3aa8a935",
   "metadata": {},
   "outputs": [],
   "source": []
  },
  {
   "cell_type": "markdown",
   "id": "720fdacf",
   "metadata": {},
   "source": [
    "### Break Continue\n",
    "-- commands to execute in a loop\n",
    "\n",
    "-- `break` will force the loop to end\n",
    "\n",
    "-- `continue` will skip the current iteration of a loop"
   ]
  },
  {
   "cell_type": "code",
   "execution_count": null,
   "id": "c96996f5",
   "metadata": {},
   "outputs": [],
   "source": [
    "#make big list\n"
   ]
  },
  {
   "cell_type": "code",
   "execution_count": null,
   "id": "ec51153a",
   "metadata": {},
   "outputs": [],
   "source": []
  },
  {
   "cell_type": "code",
   "execution_count": null,
   "id": "77f6ac16",
   "metadata": {},
   "outputs": [],
   "source": []
  },
  {
   "cell_type": "code",
   "execution_count": null,
   "id": "d250dc44",
   "metadata": {},
   "outputs": [],
   "source": []
  }
 ],
 "metadata": {
  "kernelspec": {
   "display_name": "Python 3 (ipykernel)",
   "language": "python",
   "name": "python3"
  },
  "language_info": {
   "codemirror_mode": {
    "name": "ipython",
    "version": 3
   },
   "file_extension": ".py",
   "mimetype": "text/x-python",
   "name": "python",
   "nbconvert_exporter": "python",
   "pygments_lexer": "ipython3",
   "version": "3.9.12"
  }
 },
 "nbformat": 4,
 "nbformat_minor": 5
}
