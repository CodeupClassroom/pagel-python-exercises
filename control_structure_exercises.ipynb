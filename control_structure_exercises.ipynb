{
 "cells": [
  {
   "cell_type": "markdown",
   "id": "d66713bf",
   "metadata": {},
   "source": [
    "#### Prompt the user for a day of the week, print out whether the day is Monday or not"
   ]
  },
  {
   "cell_type": "code",
   "execution_count": 21,
   "id": "d01c157a",
   "metadata": {},
   "outputs": [
    {
     "name": "stdout",
     "output_type": "stream",
     "text": [
      "give me the day of the week: monday\n"
     ]
    }
   ],
   "source": [
    "day = input('give me the day of the week: ')"
   ]
  },
  {
   "cell_type": "code",
   "execution_count": 29,
   "id": "b89f795d",
   "metadata": {},
   "outputs": [
    {
     "data": {
      "text/plain": [
       "'MONDAY'"
      ]
     },
     "execution_count": 29,
     "metadata": {},
     "output_type": "execute_result"
    }
   ],
   "source": [
    "day.upper()"
   ]
  },
  {
   "cell_type": "code",
   "execution_count": 33,
   "id": "cb305f8a",
   "metadata": {},
   "outputs": [
    {
     "name": "stdout",
     "output_type": "stream",
     "text": [
      "give me the day of the week: monDAY\n",
      "today is monday!\n"
     ]
    }
   ],
   "source": [
    "day = input('give me the day of the week: ')\n",
    "day = day.upper()\n",
    "\n",
    "if day == 'MONDAY':\n",
    "    print('today is monday!')\n",
    "else:\n",
    "    print('today is NOT monday')"
   ]
  },
  {
   "cell_type": "markdown",
   "id": "f187d9a8",
   "metadata": {},
   "source": [
    "#### Prompt the user for a day of the week, print out whether the day is a weekday or a weekend"
   ]
  },
  {
   "cell_type": "code",
   "execution_count": 47,
   "id": "baa64544",
   "metadata": {},
   "outputs": [
    {
     "name": "stdout",
     "output_type": "stream",
     "text": [
      "give me the day of the week: sudnay\n",
      "this is NOT the weekend\n"
     ]
    }
   ],
   "source": [
    "#option 1\n",
    "day = input('give me the day of the week: ')\n",
    "\n",
    "if day == 'saturday':\n",
    "    print('this is the weekend')\n",
    "elif day == 'sunday':\n",
    "    print('this is the weekend')\n",
    "else:\n",
    "    print('this is NOT the weekend')"
   ]
  },
  {
   "cell_type": "code",
   "execution_count": 45,
   "id": "4fd92269",
   "metadata": {},
   "outputs": [
    {
     "name": "stdout",
     "output_type": "stream",
     "text": [
      "give me the day of the week: SUNDAY\n",
      "this is the weekend\n"
     ]
    }
   ],
   "source": [
    "#option 2 using a list and an IN\n",
    "weekend = ['saturday', 'sunday']\n",
    "day = input('give me the day of the week: ')\n",
    "\n",
    "if day.lower() in weekend:\n",
    "    print('this is the weekend')\n",
    "else:\n",
    "    print('this is NOT the weekend')"
   ]
  },
  {
   "cell_type": "markdown",
   "id": "2b0f1d7b",
   "metadata": {},
   "source": [
    "#### Calculate a weekly paycheck, accounting for overtime pay. Create variables and make up values for:\n",
    "\n",
    "- The number of hours worked in one week\n",
    "- The hourly rate\n",
    "\n",
    "For calculating pay:\n",
    "- For working 40 hours or less, each hour is paid at the hourly rate\n",
    "- For working more than 40 hours\n",
    "    - the first 40 hours are paid at the hourly rate\n",
    "    - each hour after 40 is paid at time and a half (hourly rate * 1.5)"
   ]
  },
  {
   "cell_type": "code",
   "execution_count": 53,
   "id": "c6d34888",
   "metadata": {},
   "outputs": [
    {
     "data": {
      "text/plain": [
       "415.0"
      ]
     },
     "execution_count": 53,
     "metadata": {},
     "output_type": "execute_result"
    }
   ],
   "source": [
    "hours_weekly = 41\n",
    "hourly_rate = 10\n",
    "\n",
    "if hours_weekly <= 40:\n",
    "    paycheck = hours_weekly * hourly_rate\n",
    "else:\n",
    "    ot_hours = hours_weekly - 40\n",
    "    paycheck = (hourly_rate*40) + (ot_hours*hourly_rate*1.5)\n",
    "\n",
    "paycheck"
   ]
  },
  {
   "cell_type": "markdown",
   "id": "f4e1e6e5",
   "metadata": {},
   "source": [
    "#### Create an integer variable i with a value of 5. Create a while loop that runs so long as i is less than or equal to 15. Each loop iteration, output the current value of i, then increment i by one."
   ]
  },
  {
   "cell_type": "code",
   "execution_count": 65,
   "id": "931fb33b",
   "metadata": {},
   "outputs": [
    {
     "name": "stdout",
     "output_type": "stream",
     "text": [
      "5\n",
      "6\n",
      "7\n",
      "8\n",
      "9\n",
      "10\n",
      "11\n",
      "12\n",
      "13\n",
      "14\n",
      "15\n"
     ]
    }
   ],
   "source": [
    "i = 5 \n",
    "\n",
    "while i <= 15:\n",
    "    print(i)\n",
    "    i += 1 # i = i+1"
   ]
  },
  {
   "cell_type": "markdown",
   "id": "5f7f36cc",
   "metadata": {},
   "source": [
    "#### Create a while loop that will count by 2's starting with 0 and ending at 100. Follow each number with a new line."
   ]
  },
  {
   "cell_type": "code",
   "execution_count": 67,
   "id": "1d99fcdc",
   "metadata": {},
   "outputs": [
    {
     "name": "stdout",
     "output_type": "stream",
     "text": [
      "0\n",
      "2\n",
      "4\n",
      "6\n",
      "8\n",
      "10\n",
      "12\n",
      "14\n",
      "16\n",
      "18\n",
      "20\n",
      "22\n",
      "24\n",
      "26\n",
      "28\n",
      "30\n",
      "32\n",
      "34\n",
      "36\n",
      "38\n",
      "40\n",
      "42\n",
      "44\n",
      "46\n",
      "48\n",
      "50\n",
      "52\n",
      "54\n",
      "56\n",
      "58\n",
      "60\n",
      "62\n",
      "64\n",
      "66\n",
      "68\n",
      "70\n",
      "72\n",
      "74\n",
      "76\n",
      "78\n",
      "80\n",
      "82\n",
      "84\n",
      "86\n",
      "88\n",
      "90\n",
      "92\n",
      "94\n",
      "96\n",
      "98\n",
      "100\n"
     ]
    }
   ],
   "source": [
    "i = 0\n",
    "\n",
    "while i <=100:\n",
    "    print(i)\n",
    "    i += 2"
   ]
  },
  {
   "cell_type": "markdown",
   "id": "81758c81",
   "metadata": {},
   "source": [
    "#### Create a while loop that starts at 2, and displays the number squared on each line while the number is less than 1,000,000."
   ]
  },
  {
   "cell_type": "code",
   "execution_count": 71,
   "id": "a6cb11f7",
   "metadata": {},
   "outputs": [
    {
     "data": {
      "text/plain": [
       "(1, 0)"
      ]
     },
     "execution_count": 71,
     "metadata": {},
     "output_type": "execute_result"
    }
   ],
   "source": [
    "1,000"
   ]
  },
  {
   "cell_type": "code",
   "execution_count": 72,
   "id": "6f353679",
   "metadata": {},
   "outputs": [
    {
     "data": {
      "text/plain": [
       "1000"
      ]
     },
     "execution_count": 72,
     "metadata": {},
     "output_type": "execute_result"
    }
   ],
   "source": [
    "1_000"
   ]
  },
  {
   "cell_type": "code",
   "execution_count": 73,
   "id": "69661208",
   "metadata": {},
   "outputs": [
    {
     "data": {
      "text/plain": [
       "1323"
      ]
     },
     "execution_count": 73,
     "metadata": {},
     "output_type": "execute_result"
    }
   ],
   "source": [
    "1_3_2_3"
   ]
  },
  {
   "cell_type": "code",
   "execution_count": 79,
   "id": "b0e4004f",
   "metadata": {},
   "outputs": [
    {
     "name": "stdout",
     "output_type": "stream",
     "text": [
      "2\n",
      "4\n",
      "16\n",
      "256\n",
      "65536\n"
     ]
    }
   ],
   "source": [
    "i = 2\n",
    "\n",
    "while i <= 1_000_000:\n",
    "    print(i)\n",
    "    i **= 2\n",
    "#     i = i*i --this will also work"
   ]
  },
  {
   "cell_type": "markdown",
   "id": "73ae4bf1",
   "metadata": {},
   "source": [
    "#### Write a while loop that uses print to create the output shown below."
   ]
  },
  {
   "cell_type": "code",
   "execution_count": 53,
   "id": "6a97ad77",
   "metadata": {},
   "outputs": [],
   "source": [
    "# 100\n",
    "# 95\n",
    "# 90\n",
    "# 85\n",
    "# 80\n",
    "# 75\n",
    "# 70\n",
    "# 65\n",
    "# 60\n",
    "# 55\n",
    "# 50\n",
    "# 45\n",
    "# 40\n",
    "# 35\n",
    "# 30\n",
    "# 25\n",
    "# 20\n",
    "# 15\n",
    "# 10\n",
    "# 5"
   ]
  },
  {
   "cell_type": "code",
   "execution_count": 81,
   "id": "f28c07f7",
   "metadata": {},
   "outputs": [
    {
     "name": "stdout",
     "output_type": "stream",
     "text": [
      "100\n",
      "95\n",
      "90\n",
      "85\n",
      "80\n",
      "75\n",
      "70\n",
      "65\n",
      "60\n",
      "55\n",
      "50\n",
      "45\n",
      "40\n",
      "35\n",
      "30\n",
      "25\n",
      "20\n",
      "15\n",
      "10\n",
      "5\n"
     ]
    }
   ],
   "source": [
    "i = 100\n",
    "\n",
    "while i >= 5:\n",
    "    print(i)\n",
    "    i -= 5"
   ]
  },
  {
   "cell_type": "markdown",
   "id": "2de45e5b",
   "metadata": {},
   "source": [
    "#### Write some code using a for loop that prompts the user for a number, then shows a multiplication table up through 10 for that number."
   ]
  },
  {
   "cell_type": "code",
   "execution_count": 112,
   "id": "1c3f1247",
   "metadata": {},
   "outputs": [
    {
     "name": "stdout",
     "output_type": "stream",
     "text": [
      "enter a number: 5\n",
      "<class 'int'>\n",
      "1 x 5 = 5\n",
      "2 x 5 = 10\n",
      "3 x 5 = 15\n",
      "4 x 5 = 20\n",
      "5 x 5 = 25\n",
      "6 x 5 = 30\n",
      "7 x 5 = 35\n",
      "8 x 5 = 40\n",
      "9 x 5 = 45\n",
      "10 x 5 = 50\n"
     ]
    }
   ],
   "source": [
    "numb = int(input('enter a number: ')) #input function will always return a string, cast as int\n",
    "print(type(numb))\n",
    "\n",
    "for i in range(1,11):\n",
    "    print(f'{i} x {numb} = {i*numb}')"
   ]
  },
  {
   "cell_type": "markdown",
   "id": "16a98f9b",
   "metadata": {},
   "source": [
    "#### Create a for loop that uses print to create the output shown below."
   ]
  },
  {
   "cell_type": "code",
   "execution_count": 113,
   "id": "09b1d390",
   "metadata": {},
   "outputs": [],
   "source": [
    "# 1\n",
    "# 22\n",
    "# 333\n",
    "# 4444\n",
    "# 55555\n",
    "# 666666\n",
    "# 7777777\n",
    "# 88888888\n",
    "# 999999999"
   ]
  },
  {
   "cell_type": "code",
   "execution_count": 119,
   "id": "1f50a204",
   "metadata": {},
   "outputs": [
    {
     "name": "stdout",
     "output_type": "stream",
     "text": [
      "1\n",
      "22\n",
      "333\n",
      "4444\n",
      "55555\n",
      "666666\n",
      "7777777\n",
      "88888888\n",
      "999999999\n"
     ]
    }
   ],
   "source": [
    "for i in range(1,10):\n",
    "    print(str(i)*i)"
   ]
  },
  {
   "cell_type": "markdown",
   "id": "ba52bea2",
   "metadata": {},
   "source": [
    "#### Write a program that prompts the user for a positive integer. Next write a loop that prints out the numbers from the number the user entered down to 1."
   ]
  },
  {
   "cell_type": "code",
   "execution_count": 131,
   "id": "4c5335e0",
   "metadata": {},
   "outputs": [
    {
     "name": "stdout",
     "output_type": "stream",
     "text": [
      "enter a positive integer: 11\n",
      "11\n",
      "10\n",
      "9\n",
      "8\n",
      "7\n",
      "6\n",
      "5\n",
      "4\n",
      "3\n",
      "2\n",
      "1\n"
     ]
    }
   ],
   "source": [
    "numb = int(input('enter a positive integer: '))\n",
    "\n",
    "for i in range(numb,0,-1):\n",
    "    print(i)"
   ]
  },
  {
   "cell_type": "markdown",
   "id": "1128ef72",
   "metadata": {},
   "source": [
    "#### The input function can be used to prompt for input and use that input in your python code. Prompt the user to enter a positive number and write a loop that counts from 0 to that number. (Hints: note that the input function returns a string, so you'll need to convert this to a numeric type.)"
   ]
  },
  {
   "cell_type": "code",
   "execution_count": 134,
   "id": "4353ce89",
   "metadata": {},
   "outputs": [
    {
     "name": "stdout",
     "output_type": "stream",
     "text": [
      "enter a number: 5\n",
      "0\n",
      "1\n",
      "2\n",
      "3\n",
      "4\n",
      "5\n"
     ]
    }
   ],
   "source": [
    "numb = int(input('enter a number: '))\n",
    "\n",
    "for i in range(numb+1):\n",
    "    print(i)"
   ]
  },
  {
   "cell_type": "markdown",
   "id": "ddf62fe3",
   "metadata": {},
   "source": [
    "#### Prompt the user for an odd number between 1 and 50. Use a loop and a break statement to continue prompting the user if they enter invalid input. (Hint: use the isdigit method on strings to determine this). Use a loop and the continue statement to output all the odd numbers between 1 and 50, except for the number the user entered."
   ]
  },
  {
   "cell_type": "code",
   "execution_count": 141,
   "id": "a4df0d78",
   "metadata": {},
   "outputs": [
    {
     "data": {
      "text/plain": [
       "True"
      ]
     },
     "execution_count": 141,
     "metadata": {},
     "output_type": "execute_result"
    }
   ],
   "source": [
    "numb.isdigit()"
   ]
  },
  {
   "cell_type": "code",
   "execution_count": 142,
   "id": "3ed34165",
   "metadata": {},
   "outputs": [
    {
     "data": {
      "text/plain": [
       "False"
      ]
     },
     "execution_count": 142,
     "metadata": {},
     "output_type": "execute_result"
    }
   ],
   "source": [
    "'hello'.isdigit()"
   ]
  },
  {
   "cell_type": "code",
   "execution_count": 148,
   "id": "1ff33689",
   "metadata": {},
   "outputs": [],
   "source": [
    "numb = '   13    '"
   ]
  },
  {
   "cell_type": "code",
   "execution_count": 151,
   "id": "4b048faf",
   "metadata": {},
   "outputs": [
    {
     "data": {
      "text/plain": [
       "False"
      ]
     },
     "execution_count": 151,
     "metadata": {},
     "output_type": "execute_result"
    }
   ],
   "source": [
    "numb.isdigit()"
   ]
  },
  {
   "cell_type": "code",
   "execution_count": 150,
   "id": "6e976842",
   "metadata": {},
   "outputs": [
    {
     "data": {
      "text/plain": [
       "True"
      ]
     },
     "execution_count": 150,
     "metadata": {},
     "output_type": "execute_result"
    }
   ],
   "source": [
    "numb.strip().isdigit()"
   ]
  },
  {
   "cell_type": "code",
   "execution_count": 164,
   "id": "2f9f1016",
   "metadata": {},
   "outputs": [],
   "source": [
    "numb = '-2'"
   ]
  },
  {
   "cell_type": "code",
   "execution_count": 170,
   "id": "3cabeb1e",
   "metadata": {},
   "outputs": [
    {
     "data": {
      "text/plain": [
       "True"
      ]
     },
     "execution_count": 170,
     "metadata": {},
     "output_type": "execute_result"
    }
   ],
   "source": [
    "numb.strip('-').isdigit() #if we wanted to keep our negative values"
   ]
  },
  {
   "cell_type": "code",
   "execution_count": 165,
   "id": "219cb6a4",
   "metadata": {},
   "outputs": [
    {
     "data": {
      "text/plain": [
       "False"
      ]
     },
     "execution_count": 165,
     "metadata": {},
     "output_type": "execute_result"
    }
   ],
   "source": [
    "numb.isdigit()"
   ]
  },
  {
   "cell_type": "code",
   "execution_count": 169,
   "id": "91f10147",
   "metadata": {},
   "outputs": [
    {
     "data": {
      "text/plain": [
       "-2"
      ]
     },
     "execution_count": 169,
     "metadata": {},
     "output_type": "execute_result"
    }
   ],
   "source": [
    "int(numb)"
   ]
  },
  {
   "cell_type": "code",
   "execution_count": 159,
   "id": "62120f81",
   "metadata": {},
   "outputs": [
    {
     "name": "stdout",
     "output_type": "stream",
     "text": [
      "enter a odd number between 1 and 50: 3\n",
      "1\n",
      "SKIP THIS NUMBER: 3\n",
      "5\n",
      "7\n",
      "9\n",
      "11\n",
      "13\n",
      "15\n",
      "17\n",
      "19\n",
      "21\n",
      "23\n",
      "25\n",
      "27\n",
      "29\n",
      "31\n",
      "33\n",
      "35\n",
      "37\n",
      "39\n",
      "41\n",
      "43\n",
      "45\n",
      "47\n",
      "49\n"
     ]
    }
   ],
   "source": [
    "while True:\n",
    "    numb = input('enter a odd number between 1 and 50: ')\n",
    "    \n",
    "    if numb.isdigit() == False:\n",
    "        print('invalid entry. this is NOT a number.')\n",
    "        continue\n",
    "    numb = int(numb)\n",
    "    if numb % 2 == 0:\n",
    "        print('invalid entry. this is EVEN.')\n",
    "        continue\n",
    "    if numb < 1 or numb > 50:\n",
    "        print('invalid entry. this is out of range.')\n",
    "        continue\n",
    "    break\n",
    "    \n",
    "for i in range(1,51,2):\n",
    "    if i == numb:\n",
    "        print(f'SKIP THIS NUMBER: {numb}')\n",
    "        continue\n",
    "    print(i)"
   ]
  },
  {
   "cell_type": "markdown",
   "id": "bbf4da21",
   "metadata": {},
   "source": [
    "#### One of the most common interview questions for entry-level programmers is the FizzBuzz test. Developed by Imran Ghory, the test is designed to test basic looping and conditional logic skills.\n",
    "\n",
    "- Write a program that prints the numbers from 1 to 100.\n",
    "- For multiples of three print \"Fizz\" instead of the number\n",
    "- For the multiples of five print \"Buzz\".\n",
    "- For numbers which are multiples of both three and five print \"FizzBuzz\"."
   ]
  },
  {
   "cell_type": "code",
   "execution_count": 185,
   "id": "55afe5a7",
   "metadata": {},
   "outputs": [
    {
     "name": "stdout",
     "output_type": "stream",
     "text": [
      "1\n",
      "2\n",
      "Fizz\n",
      "4\n",
      "Buzz\n",
      "Fizz\n",
      "7\n",
      "8\n",
      "Fizz\n",
      "Buzz\n",
      "11\n",
      "Fizz\n",
      "13\n",
      "14\n",
      "FizzBuzz\n",
      "16\n",
      "17\n",
      "Fizz\n",
      "19\n",
      "Buzz\n",
      "Fizz\n",
      "22\n",
      "23\n",
      "Fizz\n",
      "Buzz\n",
      "26\n",
      "Fizz\n",
      "28\n",
      "29\n",
      "FizzBuzz\n",
      "31\n",
      "32\n",
      "Fizz\n",
      "34\n",
      "Buzz\n",
      "Fizz\n",
      "37\n",
      "38\n",
      "Fizz\n",
      "Buzz\n",
      "41\n",
      "Fizz\n",
      "43\n",
      "44\n",
      "FizzBuzz\n",
      "46\n",
      "47\n",
      "Fizz\n",
      "49\n",
      "Buzz\n",
      "Fizz\n",
      "52\n",
      "53\n",
      "Fizz\n",
      "Buzz\n",
      "56\n",
      "Fizz\n",
      "58\n",
      "59\n",
      "FizzBuzz\n",
      "61\n",
      "62\n",
      "Fizz\n",
      "64\n",
      "Buzz\n",
      "Fizz\n",
      "67\n",
      "68\n",
      "Fizz\n",
      "Buzz\n",
      "71\n",
      "Fizz\n",
      "73\n",
      "74\n",
      "FizzBuzz\n",
      "76\n",
      "77\n",
      "Fizz\n",
      "79\n",
      "Buzz\n",
      "Fizz\n",
      "82\n",
      "83\n",
      "Fizz\n",
      "Buzz\n",
      "86\n",
      "Fizz\n",
      "88\n",
      "89\n",
      "FizzBuzz\n",
      "91\n",
      "92\n",
      "Fizz\n",
      "94\n",
      "Buzz\n",
      "Fizz\n",
      "97\n",
      "98\n",
      "Fizz\n",
      "Buzz\n"
     ]
    }
   ],
   "source": [
    "for i in range(1,101):\n",
    "    if i % 15 == 0:\n",
    "#     if (i % 3 == 0) and ( i % 5 == 0 ): #also works\n",
    "        print('FizzBuzz')\n",
    "        continue\n",
    "    if i % 3 == 0:\n",
    "        print('Fizz')\n",
    "        continue\n",
    "    if i % 5 == 0:\n",
    "        print('Buzz')\n",
    "        continue        \n",
    "    print(i)"
   ]
  },
  {
   "cell_type": "markdown",
   "id": "3964d634",
   "metadata": {},
   "source": [
    "#### Display a table of powers.\n",
    "\n",
    "- Prompt the user to enter an integer\n",
    "- Display a table of squares and cubes from 1 to the value entered\n",
    "- Ask if the user wants to continue\n",
    "- Assume that the user will enter valid data\n",
    "- Only continue if the user agrees to"
   ]
  },
  {
   "cell_type": "code",
   "execution_count": 189,
   "id": "e2b0bef3",
   "metadata": {},
   "outputs": [
    {
     "name": "stdout",
     "output_type": "stream",
     "text": [
      "enter a positive integer: 5\n"
     ]
    }
   ],
   "source": [
    "numb = int(input('enter a positive integer: '))"
   ]
  },
  {
   "cell_type": "code",
   "execution_count": 190,
   "id": "bf90b92e",
   "metadata": {},
   "outputs": [
    {
     "data": {
      "text/plain": [
       "5"
      ]
     },
     "execution_count": 190,
     "metadata": {},
     "output_type": "execute_result"
    }
   ],
   "source": [
    "numb"
   ]
  },
  {
   "cell_type": "code",
   "execution_count": 194,
   "id": "bbb9dc9f",
   "metadata": {},
   "outputs": [
    {
     "name": "stdout",
     "output_type": "stream",
     "text": [
      "1 1 1\n",
      "2 4 8\n",
      "3 9 27\n",
      "4 16 64\n",
      "5 25 125\n"
     ]
    }
   ],
   "source": [
    "for i in range(1,numb+1):\n",
    "    print(i, i**2, i**3)"
   ]
  },
  {
   "cell_type": "code",
   "execution_count": 196,
   "id": "72c0520d",
   "metadata": {},
   "outputs": [
    {
     "name": "stdout",
     "output_type": "stream",
     "text": [
      "enter a positive integer: 5\n",
      "1 1 1\n",
      "2 4 8\n",
      "3 9 27\n",
      "4 16 64\n",
      "5 25 125\n",
      "enter YES if you would like to continue: yes\n",
      "enter a positive integer: 9\n",
      "1 1 1\n",
      "2 4 8\n",
      "3 9 27\n",
      "4 16 64\n",
      "5 25 125\n",
      "6 36 216\n",
      "7 49 343\n",
      "8 64 512\n",
      "9 81 729\n",
      "enter YES if you would like to continue: 12\n"
     ]
    }
   ],
   "source": [
    "while True:\n",
    "    numb = int(input('enter a positive integer: '))\n",
    "    \n",
    "    for i in range(1,numb+1):\n",
    "        print(i, i**2, i**3)\n",
    "        \n",
    "    cont = input('enter YES if you would like to continue: ')\n",
    "    \n",
    "    if cont.upper() != 'YES':\n",
    "        break"
   ]
  },
  {
   "cell_type": "markdown",
   "id": "0f9db8e5",
   "metadata": {},
   "source": [
    "#### Convert given number grades into letter grades.\n",
    "\n",
    "- Prompt the user for a numerical grade from 0 to 100\n",
    "- Display the corresponding letter grade\n",
    "- Prompt the user to continue\n",
    "- Assume that the user will enter valid integers for the grades\n",
    "- The application should only continue if the user agrees to\n",
    "\n",
    "Grade Ranges:\n",
    "\n",
    "A : 100 - 88\n",
    "B : 87 - 80\n",
    "C : 79 - 67\n",
    "D : 66 - 60\n",
    "F : 59 - 0"
   ]
  },
  {
   "cell_type": "code",
   "execution_count": 199,
   "id": "c421699b",
   "metadata": {},
   "outputs": [
    {
     "name": "stdout",
     "output_type": "stream",
     "text": [
      "enter a numeric grade from 0-100: 99\n"
     ]
    }
   ],
   "source": [
    "grade = int(input('enter a numeric grade from 0-100: '))"
   ]
  },
  {
   "cell_type": "code",
   "execution_count": 200,
   "id": "c1685b5d",
   "metadata": {},
   "outputs": [
    {
     "data": {
      "text/plain": [
       "99"
      ]
     },
     "execution_count": 200,
     "metadata": {},
     "output_type": "execute_result"
    }
   ],
   "source": [
    "grade"
   ]
  },
  {
   "cell_type": "code",
   "execution_count": 202,
   "id": "16549b27",
   "metadata": {},
   "outputs": [
    {
     "name": "stdout",
     "output_type": "stream",
     "text": [
      "A\n"
     ]
    }
   ],
   "source": [
    "if grade >= 88:\n",
    "    print('A')\n",
    "elif grade >= 80:\n",
    "    print('B')\n",
    "elif grade >=67:\n",
    "    print('C')\n",
    "elif grade >= 60:\n",
    "    print('D')\n",
    "else:\n",
    "    print('F')"
   ]
  },
  {
   "cell_type": "code",
   "execution_count": 203,
   "id": "f9a28f2e",
   "metadata": {},
   "outputs": [
    {
     "name": "stdout",
     "output_type": "stream",
     "text": [
      "would you like to continue? (y/n): y\n"
     ]
    },
    {
     "data": {
      "text/plain": [
       "'y'"
      ]
     },
     "execution_count": 203,
     "metadata": {},
     "output_type": "execute_result"
    }
   ],
   "source": [
    "input('would you like to continue? (y/n): ')"
   ]
  },
  {
   "cell_type": "code",
   "execution_count": 207,
   "id": "330b4e0c",
   "metadata": {},
   "outputs": [
    {
     "name": "stdout",
     "output_type": "stream",
     "text": [
      "enter a numeric grade from 0-100: 56\n",
      "F\n",
      "would you like to continue? (y/n): y\n",
      "enter a numeric grade from 0-100: 88\n",
      "A\n",
      "would you like to continue? (y/n): y\n",
      "enter a numeric grade from 0-100: 99\n",
      "A\n",
      "would you like to continue? (y/n): n\n",
      "thank you for playing!\n"
     ]
    }
   ],
   "source": [
    "cont = y\n",
    "\n",
    "while cont == y:\n",
    "    \n",
    "    grade = int(input('enter a numeric grade from 0-100: '))\n",
    "    \n",
    "    if grade >= 88:\n",
    "        print('A')\n",
    "    elif grade >= 80:\n",
    "        print('B')\n",
    "    elif grade >=67:\n",
    "        print('C')\n",
    "    elif grade >= 60:\n",
    "        print('D')\n",
    "    else:\n",
    "        print('F')\n",
    "        \n",
    "    cont = input('would you like to continue? (y/n): ')\n",
    "    cont = cont.lower()\n",
    "    \n",
    "#     if cont.lower() != 'y':\n",
    "#         print('thank you for playing!')\n",
    "#         break"
   ]
  },
  {
   "cell_type": "markdown",
   "id": "66ef3b06",
   "metadata": {},
   "source": [
    "#### Create a list of dictionaries where each dictionary represents a book that you have read. Each dictionary in the list should have the keys title, author, and genre. Loop through the list and print out information about each book."
   ]
  },
  {
   "cell_type": "code",
   "execution_count": 208,
   "id": "8e98060d",
   "metadata": {},
   "outputs": [],
   "source": [
    "books = [{'title': 'title1111', 'author': 'author11', 'genre': 'genre11'},\n",
    " {'title': 'title2222', 'author': 'author11', 'genre': 'genre22'},\n",
    " {'title': 'title3333', 'author': 'author22', 'genre': 'genre22'},\n",
    " {'title': 'title4444', 'author': 'author33', 'genre': 'genre22'}]"
   ]
  },
  {
   "cell_type": "code",
   "execution_count": 210,
   "id": "7b99cd0f",
   "metadata": {},
   "outputs": [
    {
     "name": "stdout",
     "output_type": "stream",
     "text": [
      "{'title': 'title1111', 'author': 'author11', 'genre': 'genre11'}\n",
      "\n",
      "{'title': 'title2222', 'author': 'author11', 'genre': 'genre22'}\n",
      "\n",
      "{'title': 'title3333', 'author': 'author22', 'genre': 'genre22'}\n",
      "\n",
      "{'title': 'title4444', 'author': 'author33', 'genre': 'genre22'}\n",
      "\n"
     ]
    }
   ],
   "source": [
    "for book in books:\n",
    "    print(book)\n",
    "    print()"
   ]
  },
  {
   "cell_type": "markdown",
   "id": "ce7eeacd",
   "metadata": {},
   "source": [
    "#### Prompt the user to enter a genre, then loop through your books list and print out the titles of all the books in that genre."
   ]
  },
  {
   "cell_type": "code",
   "execution_count": 212,
   "id": "c9d97b72",
   "metadata": {},
   "outputs": [
    {
     "name": "stdout",
     "output_type": "stream",
     "text": [
      "enter a genre (genre11/genre22): genre11\n"
     ]
    }
   ],
   "source": [
    "input_genre = input('enter a genre (genre11/genre22): ')"
   ]
  },
  {
   "cell_type": "code",
   "execution_count": 213,
   "id": "30cd2951",
   "metadata": {},
   "outputs": [
    {
     "data": {
      "text/plain": [
       "'genre11'"
      ]
     },
     "execution_count": 213,
     "metadata": {},
     "output_type": "execute_result"
    }
   ],
   "source": [
    "input_genre"
   ]
  },
  {
   "cell_type": "code",
   "execution_count": 218,
   "id": "ae931711",
   "metadata": {},
   "outputs": [
    {
     "name": "stdout",
     "output_type": "stream",
     "text": [
      "title1111\n"
     ]
    }
   ],
   "source": [
    "for book in books:\n",
    "    if book['genre'] == input_genre:\n",
    "        print(book['title'])"
   ]
  },
  {
   "cell_type": "code",
   "execution_count": 219,
   "id": "6d320eb6",
   "metadata": {},
   "outputs": [
    {
     "name": "stdout",
     "output_type": "stream",
     "text": [
      "enter a genre (genre11/genre22): genre22\n",
      "title2222\n",
      "title3333\n",
      "title4444\n"
     ]
    }
   ],
   "source": [
    "input_genre = input('enter a genre (genre11/genre22): ')\n",
    "\n",
    "for book in books:\n",
    "    if book['genre'] == input_genre:\n",
    "        print(book['title'])"
   ]
  },
  {
   "cell_type": "code",
   "execution_count": null,
   "id": "8c62991f",
   "metadata": {},
   "outputs": [],
   "source": []
  }
 ],
 "metadata": {
  "kernelspec": {
   "display_name": "Python 3 (ipykernel)",
   "language": "python",
   "name": "python3"
  },
  "language_info": {
   "codemirror_mode": {
    "name": "ipython",
    "version": 3
   },
   "file_extension": ".py",
   "mimetype": "text/x-python",
   "name": "python",
   "nbconvert_exporter": "python",
   "pygments_lexer": "ipython3",
   "version": "3.9.12"
  }
 },
 "nbformat": 4,
 "nbformat_minor": 5
}
