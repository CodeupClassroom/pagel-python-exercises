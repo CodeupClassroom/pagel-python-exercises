{
 "cells": [
  {
   "cell_type": "markdown",
   "id": "abb6b704",
   "metadata": {},
   "source": [
    "#### Define a function named is_two. It should accept one input and return True if the passed input is either the number or the string 2, False otherwise."
   ]
  },
  {
   "cell_type": "code",
   "execution_count": 292,
   "id": "095cc733",
   "metadata": {},
   "outputs": [],
   "source": [
    "test_input = '2'"
   ]
  },
  {
   "cell_type": "code",
   "execution_count": 293,
   "id": "cdd6cfea",
   "metadata": {},
   "outputs": [
    {
     "name": "stdout",
     "output_type": "stream",
     "text": [
      "True\n"
     ]
    }
   ],
   "source": [
    "if test_input == 2 or test_input == '2':\n",
    "    print(True)"
   ]
  },
  {
   "cell_type": "code",
   "execution_count": 316,
   "id": "5e7eaeda",
   "metadata": {},
   "outputs": [],
   "source": [
    "def is_two(string):\n",
    "    if string == 2 or string == '2':\n",
    "        return True\n",
    "    else:\n",
    "        return False"
   ]
  },
  {
   "cell_type": "code",
   "execution_count": 315,
   "id": "9af7fbfc",
   "metadata": {},
   "outputs": [],
   "source": [
    "#shortcut that works exactly the same\n",
    "def is_two(string):\n",
    "    return string == 2 or string == '2'"
   ]
  },
  {
   "cell_type": "code",
   "execution_count": 317,
   "id": "42289892",
   "metadata": {},
   "outputs": [
    {
     "data": {
      "text/plain": [
       "True"
      ]
     },
     "execution_count": 317,
     "metadata": {},
     "output_type": "execute_result"
    }
   ],
   "source": [
    "is_two(2)"
   ]
  },
  {
   "cell_type": "code",
   "execution_count": 318,
   "id": "c8422604",
   "metadata": {},
   "outputs": [
    {
     "data": {
      "text/plain": [
       "True"
      ]
     },
     "execution_count": 318,
     "metadata": {},
     "output_type": "execute_result"
    }
   ],
   "source": [
    "is_two('2')"
   ]
  },
  {
   "cell_type": "code",
   "execution_count": 319,
   "id": "bb593f2d",
   "metadata": {},
   "outputs": [
    {
     "data": {
      "text/plain": [
       "True"
      ]
     },
     "execution_count": 319,
     "metadata": {},
     "output_type": "execute_result"
    }
   ],
   "source": [
    "is_two(2.0)"
   ]
  },
  {
   "cell_type": "code",
   "execution_count": 320,
   "id": "f6b6719d",
   "metadata": {},
   "outputs": [
    {
     "data": {
      "text/plain": [
       "False"
      ]
     },
     "execution_count": 320,
     "metadata": {},
     "output_type": "execute_result"
    }
   ],
   "source": [
    "is_two(5)"
   ]
  },
  {
   "cell_type": "code",
   "execution_count": 321,
   "id": "95ca8e85",
   "metadata": {},
   "outputs": [
    {
     "data": {
      "text/plain": [
       "False"
      ]
     },
     "execution_count": 321,
     "metadata": {},
     "output_type": "execute_result"
    }
   ],
   "source": [
    "is_two(10)"
   ]
  },
  {
   "cell_type": "code",
   "execution_count": 322,
   "id": "9174763a",
   "metadata": {},
   "outputs": [
    {
     "data": {
      "text/plain": [
       "False"
      ]
     },
     "execution_count": 322,
     "metadata": {},
     "output_type": "execute_result"
    }
   ],
   "source": [
    "is_two(\"coffee\")"
   ]
  },
  {
   "cell_type": "markdown",
   "id": "70adc8b7",
   "metadata": {},
   "source": [
    "#### Define a function named is_vowel. It should return True if the passed string is a vowel, False otherwise."
   ]
  },
  {
   "cell_type": "code",
   "execution_count": 323,
   "id": "1ede406c",
   "metadata": {},
   "outputs": [],
   "source": [
    "string = 'a'"
   ]
  },
  {
   "cell_type": "code",
   "execution_count": 326,
   "id": "98f0f348",
   "metadata": {},
   "outputs": [
    {
     "name": "stdout",
     "output_type": "stream",
     "text": [
      "True\n"
     ]
    }
   ],
   "source": [
    "if string == 'a' or string == 'e':\n",
    "    print(True)"
   ]
  },
  {
   "cell_type": "code",
   "execution_count": 327,
   "id": "389532fd",
   "metadata": {},
   "outputs": [],
   "source": [
    "vowels = ['a','e','i','o','u']"
   ]
  },
  {
   "cell_type": "code",
   "execution_count": 328,
   "id": "2cc53646",
   "metadata": {},
   "outputs": [
    {
     "name": "stdout",
     "output_type": "stream",
     "text": [
      "True\n"
     ]
    }
   ],
   "source": [
    "if string in vowels:\n",
    "    print(True)"
   ]
  },
  {
   "cell_type": "code",
   "execution_count": 330,
   "id": "66b90c33",
   "metadata": {},
   "outputs": [],
   "source": [
    "string_vowels = 'aeiou'"
   ]
  },
  {
   "cell_type": "code",
   "execution_count": 364,
   "id": "1404450a",
   "metadata": {},
   "outputs": [],
   "source": [
    "string = 'ae'"
   ]
  },
  {
   "cell_type": "code",
   "execution_count": 367,
   "id": "1cb1c07c",
   "metadata": {},
   "outputs": [
    {
     "data": {
      "text/plain": [
       "['a', 'e', 'i', 'o', 'u']"
      ]
     },
     "execution_count": 367,
     "metadata": {},
     "output_type": "execute_result"
    }
   ],
   "source": [
    "list(string_vowels)"
   ]
  },
  {
   "cell_type": "code",
   "execution_count": 368,
   "id": "efb9ccd8",
   "metadata": {},
   "outputs": [
    {
     "name": "stdout",
     "output_type": "stream",
     "text": [
      "True\n"
     ]
    }
   ],
   "source": [
    "if string in string_vowels:\n",
    "    print(True)"
   ]
  },
  {
   "cell_type": "code",
   "execution_count": 380,
   "id": "f4890b59",
   "metadata": {},
   "outputs": [],
   "source": [
    "def is_vowel(string):\n",
    "    string_vowels = 'aeiou'\n",
    "    \n",
    "    if type(string) == str:\n",
    "        return string.lower() in list(string_vowels)\n",
    "    else:\n",
    "        return False"
   ]
  },
  {
   "cell_type": "code",
   "execution_count": 383,
   "id": "e0678db8",
   "metadata": {},
   "outputs": [
    {
     "data": {
      "text/plain": [
       "True"
      ]
     },
     "execution_count": 383,
     "metadata": {},
     "output_type": "execute_result"
    }
   ],
   "source": [
    "is_vowel('a')"
   ]
  },
  {
   "cell_type": "code",
   "execution_count": 384,
   "id": "d6cb30c2",
   "metadata": {},
   "outputs": [
    {
     "data": {
      "text/plain": [
       "True"
      ]
     },
     "execution_count": 384,
     "metadata": {},
     "output_type": "execute_result"
    }
   ],
   "source": [
    "is_vowel('A')"
   ]
  },
  {
   "cell_type": "code",
   "execution_count": 385,
   "id": "5205c9ef",
   "metadata": {},
   "outputs": [
    {
     "data": {
      "text/plain": [
       "False"
      ]
     },
     "execution_count": 385,
     "metadata": {},
     "output_type": "execute_result"
    }
   ],
   "source": [
    "is_vowel('aeiou')"
   ]
  },
  {
   "cell_type": "code",
   "execution_count": 386,
   "id": "a1062ec3",
   "metadata": {},
   "outputs": [
    {
     "data": {
      "text/plain": [
       "False"
      ]
     },
     "execution_count": 386,
     "metadata": {},
     "output_type": "execute_result"
    }
   ],
   "source": [
    "is_vowel('p')"
   ]
  },
  {
   "cell_type": "code",
   "execution_count": 387,
   "id": "e261d149",
   "metadata": {},
   "outputs": [
    {
     "data": {
      "text/plain": [
       "False"
      ]
     },
     "execution_count": 387,
     "metadata": {},
     "output_type": "execute_result"
    }
   ],
   "source": [
    "is_vowel(1)"
   ]
  },
  {
   "cell_type": "code",
   "execution_count": 388,
   "id": "0d46700b",
   "metadata": {},
   "outputs": [
    {
     "data": {
      "text/plain": [
       "False"
      ]
     },
     "execution_count": 388,
     "metadata": {},
     "output_type": "execute_result"
    }
   ],
   "source": [
    "is_vowel('1')"
   ]
  },
  {
   "cell_type": "markdown",
   "id": "5f8a30ad",
   "metadata": {},
   "source": [
    "#### Define a function named is_consonant. It should return True if the passed string is a consonant, False otherwise. Use your is_vowel function to accomplish this."
   ]
  },
  {
   "cell_type": "code",
   "execution_count": 391,
   "id": "b1a59e31",
   "metadata": {},
   "outputs": [],
   "source": [
    "string = 'c'"
   ]
  },
  {
   "cell_type": "code",
   "execution_count": 394,
   "id": "24585057",
   "metadata": {},
   "outputs": [
    {
     "data": {
      "text/plain": [
       "False"
      ]
     },
     "execution_count": 394,
     "metadata": {},
     "output_type": "execute_result"
    }
   ],
   "source": [
    "is_vowel(string)"
   ]
  },
  {
   "cell_type": "code",
   "execution_count": 395,
   "id": "f995417b",
   "metadata": {},
   "outputs": [
    {
     "data": {
      "text/plain": [
       "True"
      ]
     },
     "execution_count": 395,
     "metadata": {},
     "output_type": "execute_result"
    }
   ],
   "source": [
    "not is_vowel(string)"
   ]
  },
  {
   "cell_type": "code",
   "execution_count": 403,
   "id": "6b2978fb",
   "metadata": {},
   "outputs": [],
   "source": [
    "string = '!'"
   ]
  },
  {
   "cell_type": "code",
   "execution_count": 404,
   "id": "3efd548f",
   "metadata": {},
   "outputs": [
    {
     "data": {
      "text/plain": [
       "False"
      ]
     },
     "execution_count": 404,
     "metadata": {},
     "output_type": "execute_result"
    }
   ],
   "source": [
    "string.isalpha()"
   ]
  },
  {
   "cell_type": "code",
   "execution_count": 409,
   "id": "448a96ae",
   "metadata": {},
   "outputs": [],
   "source": [
    "string = 'A'"
   ]
  },
  {
   "cell_type": "code",
   "execution_count": 410,
   "id": "fd371598",
   "metadata": {},
   "outputs": [
    {
     "data": {
      "text/plain": [
       "True"
      ]
     },
     "execution_count": 410,
     "metadata": {},
     "output_type": "execute_result"
    }
   ],
   "source": [
    "string.isalpha()"
   ]
  },
  {
   "cell_type": "code",
   "execution_count": 421,
   "id": "f50872e4",
   "metadata": {},
   "outputs": [],
   "source": [
    "def is_consonant(string):\n",
    "    if type(string) == str:    \n",
    "        if string.isalpha() == True:\n",
    "            if not is_vowel(string):\n",
    "                return True\n",
    "            else:\n",
    "                return False # this is false when the input is not a consonant\n",
    "        else:\n",
    "            return False # this is false when the input is not a letter\n",
    "    else:\n",
    "        return False #this is false when the input is not a string"
   ]
  },
  {
   "cell_type": "code",
   "execution_count": 422,
   "id": "ee3a9a79",
   "metadata": {},
   "outputs": [
    {
     "data": {
      "text/plain": [
       "False"
      ]
     },
     "execution_count": 422,
     "metadata": {},
     "output_type": "execute_result"
    }
   ],
   "source": [
    "is_consonant('!')"
   ]
  },
  {
   "cell_type": "code",
   "execution_count": 423,
   "id": "a6cd28d4",
   "metadata": {},
   "outputs": [
    {
     "data": {
      "text/plain": [
       "False"
      ]
     },
     "execution_count": 423,
     "metadata": {},
     "output_type": "execute_result"
    }
   ],
   "source": [
    "is_consonant('a')"
   ]
  },
  {
   "cell_type": "code",
   "execution_count": 424,
   "id": "8ed7d863",
   "metadata": {},
   "outputs": [
    {
     "data": {
      "text/plain": [
       "False"
      ]
     },
     "execution_count": 424,
     "metadata": {},
     "output_type": "execute_result"
    }
   ],
   "source": [
    "is_consonant('A')"
   ]
  },
  {
   "cell_type": "code",
   "execution_count": 425,
   "id": "48764f56",
   "metadata": {},
   "outputs": [
    {
     "data": {
      "text/plain": [
       "True"
      ]
     },
     "execution_count": 425,
     "metadata": {},
     "output_type": "execute_result"
    }
   ],
   "source": [
    "is_consonant('b')"
   ]
  },
  {
   "cell_type": "code",
   "execution_count": 426,
   "id": "2ec530b1",
   "metadata": {},
   "outputs": [
    {
     "data": {
      "text/plain": [
       "True"
      ]
     },
     "execution_count": 426,
     "metadata": {},
     "output_type": "execute_result"
    }
   ],
   "source": [
    "is_consonant('B')"
   ]
  },
  {
   "cell_type": "code",
   "execution_count": 427,
   "id": "5a58ad9b",
   "metadata": {},
   "outputs": [
    {
     "data": {
      "text/plain": [
       "False"
      ]
     },
     "execution_count": 427,
     "metadata": {},
     "output_type": "execute_result"
    }
   ],
   "source": [
    "is_consonant(1)"
   ]
  },
  {
   "cell_type": "markdown",
   "id": "bdee4880",
   "metadata": {},
   "source": [
    "#### Define a function that accepts a string that is a word. The function should capitalize the first letter of the word if the word starts with a consonant."
   ]
  },
  {
   "cell_type": "code",
   "execution_count": 428,
   "id": "02c91338",
   "metadata": {},
   "outputs": [],
   "source": [
    "string = 'hello'"
   ]
  },
  {
   "cell_type": "code",
   "execution_count": 430,
   "id": "330153ec",
   "metadata": {},
   "outputs": [
    {
     "data": {
      "text/plain": [
       "True"
      ]
     },
     "execution_count": 430,
     "metadata": {},
     "output_type": "execute_result"
    }
   ],
   "source": [
    "is_consonant(string[0])"
   ]
  },
  {
   "cell_type": "code",
   "execution_count": 434,
   "id": "c36cbd38",
   "metadata": {},
   "outputs": [
    {
     "name": "stdout",
     "output_type": "stream",
     "text": [
      "Hello\n"
     ]
    }
   ],
   "source": [
    "if is_consonant(string[0]):\n",
    "    print(string.capitalize())"
   ]
  },
  {
   "cell_type": "code",
   "execution_count": 438,
   "id": "4a315b5e",
   "metadata": {},
   "outputs": [],
   "source": [
    "def capital_cons_start(string):\n",
    "    if is_consonant(string[0]): #calling my is_consonant function\n",
    "        string = string.capitalize()\n",
    "    return string"
   ]
  },
  {
   "cell_type": "code",
   "execution_count": 439,
   "id": "5da64309",
   "metadata": {},
   "outputs": [
    {
     "data": {
      "text/plain": [
       "'Coffee'"
      ]
     },
     "execution_count": 439,
     "metadata": {},
     "output_type": "execute_result"
    }
   ],
   "source": [
    "capital_cons_start('coffee')"
   ]
  },
  {
   "cell_type": "code",
   "execution_count": 440,
   "id": "4a5a9498",
   "metadata": {},
   "outputs": [
    {
     "data": {
      "text/plain": [
       "'apple'"
      ]
     },
     "execution_count": 440,
     "metadata": {},
     "output_type": "execute_result"
    }
   ],
   "source": [
    "capital_cons_start('apple')"
   ]
  },
  {
   "cell_type": "markdown",
   "id": "e92b3209",
   "metadata": {},
   "source": [
    "#### Define a function named calculate_tip. It should accept a tip percentage (a number between 0 and 1) and the bill total, and return the amount to tip."
   ]
  },
  {
   "cell_type": "code",
   "execution_count": 441,
   "id": "9c8fda9d",
   "metadata": {},
   "outputs": [],
   "source": [
    "tip_perc = .2\n",
    "bill_total = 10"
   ]
  },
  {
   "cell_type": "code",
   "execution_count": 443,
   "id": "a2b23905",
   "metadata": {},
   "outputs": [
    {
     "data": {
      "text/plain": [
       "12.0"
      ]
     },
     "execution_count": 443,
     "metadata": {},
     "output_type": "execute_result"
    }
   ],
   "source": [
    "bill_total * tip_perc + bill_total"
   ]
  },
  {
   "cell_type": "code",
   "execution_count": 444,
   "id": "f3863992",
   "metadata": {},
   "outputs": [],
   "source": [
    "def calculate_tip(bill_total, tip_perc=.2):\n",
    "    return bill_total * tip_perc + bill_total"
   ]
  },
  {
   "cell_type": "code",
   "execution_count": 445,
   "id": "a979dc5e",
   "metadata": {},
   "outputs": [
    {
     "data": {
      "text/plain": [
       "120.0"
      ]
     },
     "execution_count": 445,
     "metadata": {},
     "output_type": "execute_result"
    }
   ],
   "source": [
    "calculate_tip(100.00)"
   ]
  },
  {
   "cell_type": "code",
   "execution_count": 446,
   "id": "997d6f03",
   "metadata": {},
   "outputs": [
    {
     "data": {
      "text/plain": [
       "12.0"
      ]
     },
     "execution_count": 446,
     "metadata": {},
     "output_type": "execute_result"
    }
   ],
   "source": [
    "calculate_tip(10)"
   ]
  },
  {
   "cell_type": "code",
   "execution_count": 447,
   "id": "e04eecc3",
   "metadata": {},
   "outputs": [
    {
     "data": {
      "text/plain": [
       "130.0"
      ]
     },
     "execution_count": 447,
     "metadata": {},
     "output_type": "execute_result"
    }
   ],
   "source": [
    "calculate_tip(100.00, .30)"
   ]
  },
  {
   "cell_type": "markdown",
   "id": "320c7dd3",
   "metadata": {},
   "source": [
    "#### Define a function named apply_discount. It should accept a original price, and a discount percentage, and return the price after the discount is applied."
   ]
  },
  {
   "cell_type": "code",
   "execution_count": 450,
   "id": "ca1eec39",
   "metadata": {},
   "outputs": [],
   "source": [
    "og_price = 10\n",
    "discount = .9"
   ]
  },
  {
   "cell_type": "code",
   "execution_count": 452,
   "id": "070cfc24",
   "metadata": {},
   "outputs": [
    {
     "data": {
      "text/plain": [
       "1.0"
      ]
     },
     "execution_count": 452,
     "metadata": {},
     "output_type": "execute_result"
    }
   ],
   "source": [
    "og_price - og_price * discount"
   ]
  },
  {
   "cell_type": "code",
   "execution_count": 453,
   "id": "e6ba435b",
   "metadata": {},
   "outputs": [],
   "source": [
    "def apply_discount(og_price, discount):\n",
    "    return og_price - og_price * discount"
   ]
  },
  {
   "cell_type": "code",
   "execution_count": 454,
   "id": "06a46cf7",
   "metadata": {},
   "outputs": [
    {
     "data": {
      "text/plain": [
       "4.0"
      ]
     },
     "execution_count": 454,
     "metadata": {},
     "output_type": "execute_result"
    }
   ],
   "source": [
    "apply_discount(10,.6)"
   ]
  },
  {
   "cell_type": "code",
   "execution_count": 455,
   "id": "e1acbef4",
   "metadata": {},
   "outputs": [
    {
     "data": {
      "text/plain": [
       "15.0"
      ]
     },
     "execution_count": 455,
     "metadata": {},
     "output_type": "execute_result"
    }
   ],
   "source": [
    "apply_discount(20,.25)"
   ]
  },
  {
   "cell_type": "markdown",
   "id": "10de259e",
   "metadata": {},
   "source": [
    "#### Define a function named handle_commas. It should accept a string that is a number that contains commas in it as input, and return a number as output."
   ]
  },
  {
   "cell_type": "code",
   "execution_count": 456,
   "id": "62adbd20",
   "metadata": {},
   "outputs": [],
   "source": [
    "string_number = '1,000,000'"
   ]
  },
  {
   "cell_type": "code",
   "execution_count": 457,
   "id": "b205213f",
   "metadata": {},
   "outputs": [
    {
     "ename": "ValueError",
     "evalue": "invalid literal for int() with base 10: '1,000,000'",
     "output_type": "error",
     "traceback": [
      "\u001b[0;31m---------------------------------------------------------------------------\u001b[0m",
      "\u001b[0;31mValueError\u001b[0m                                Traceback (most recent call last)",
      "Input \u001b[0;32mIn [457]\u001b[0m, in \u001b[0;36m<cell line: 1>\u001b[0;34m()\u001b[0m\n\u001b[0;32m----> 1\u001b[0m \u001b[38;5;28;43mint\u001b[39;49m\u001b[43m(\u001b[49m\u001b[43mstring_number\u001b[49m\u001b[43m)\u001b[49m\n",
      "\u001b[0;31mValueError\u001b[0m: invalid literal for int() with base 10: '1,000,000'"
     ]
    }
   ],
   "source": [
    "int(string_number)"
   ]
  },
  {
   "cell_type": "code",
   "execution_count": 462,
   "id": "21799c50",
   "metadata": {},
   "outputs": [
    {
     "data": {
      "text/plain": [
       "1000000"
      ]
     },
     "execution_count": 462,
     "metadata": {},
     "output_type": "execute_result"
    }
   ],
   "source": [
    "int(string_number.replace(',',''))"
   ]
  },
  {
   "cell_type": "code",
   "execution_count": 463,
   "id": "57083343",
   "metadata": {},
   "outputs": [],
   "source": [
    "def handle_commas(string_number):\n",
    "    return int(string_number.replace(',',''))"
   ]
  },
  {
   "cell_type": "code",
   "execution_count": 464,
   "id": "05b0d75d",
   "metadata": {},
   "outputs": [
    {
     "data": {
      "text/plain": [
       "1234"
      ]
     },
     "execution_count": 464,
     "metadata": {},
     "output_type": "execute_result"
    }
   ],
   "source": [
    "handle_commas(\"1,234\")"
   ]
  },
  {
   "cell_type": "code",
   "execution_count": 465,
   "id": "4e0e7211",
   "metadata": {},
   "outputs": [
    {
     "data": {
      "text/plain": [
       "1234456"
      ]
     },
     "execution_count": 465,
     "metadata": {},
     "output_type": "execute_result"
    }
   ],
   "source": [
    "handle_commas(\"1,234,456\")"
   ]
  },
  {
   "cell_type": "markdown",
   "id": "ccc49168",
   "metadata": {},
   "source": [
    "#### Define a function named get_letter_grade. It should accept a number and return the letter grade associated with that number (A-F)."
   ]
  },
  {
   "cell_type": "code",
   "execution_count": 466,
   "id": "72d2f8f8",
   "metadata": {},
   "outputs": [],
   "source": [
    "grade = 99"
   ]
  },
  {
   "cell_type": "code",
   "execution_count": 468,
   "id": "6f09c7a5",
   "metadata": {},
   "outputs": [],
   "source": [
    "if grade >= 90:\n",
    "    letter_grade = 'A'\n",
    "elif grade >= 80:\n",
    "    letter_grade = 'B'\n",
    "elif grade >= 70:\n",
    "    letter_grade = 'C'\n",
    "else:\n",
    "    letter_grade = 'F'"
   ]
  },
  {
   "cell_type": "code",
   "execution_count": 469,
   "id": "fb48fbae",
   "metadata": {},
   "outputs": [
    {
     "data": {
      "text/plain": [
       "'A'"
      ]
     },
     "execution_count": 469,
     "metadata": {},
     "output_type": "execute_result"
    }
   ],
   "source": [
    "letter_grade"
   ]
  },
  {
   "cell_type": "code",
   "execution_count": 470,
   "id": "59e357d7",
   "metadata": {},
   "outputs": [],
   "source": [
    "def get_letter_grade(grade):\n",
    "    if grade >= 90:\n",
    "        letter_grade = 'A'\n",
    "    elif grade >= 80:\n",
    "        letter_grade = 'B'\n",
    "    elif grade >= 70:\n",
    "        letter_grade = 'C'\n",
    "    else:\n",
    "        letter_grade = 'F' \n",
    "        \n",
    "    return letter_grade"
   ]
  },
  {
   "cell_type": "code",
   "execution_count": 471,
   "id": "99a356b9",
   "metadata": {},
   "outputs": [
    {
     "data": {
      "text/plain": [
       "'A'"
      ]
     },
     "execution_count": 471,
     "metadata": {},
     "output_type": "execute_result"
    }
   ],
   "source": [
    "get_letter_grade(100)"
   ]
  },
  {
   "cell_type": "code",
   "execution_count": 472,
   "id": "952a1634",
   "metadata": {},
   "outputs": [
    {
     "data": {
      "text/plain": [
       "'F'"
      ]
     },
     "execution_count": 472,
     "metadata": {},
     "output_type": "execute_result"
    }
   ],
   "source": [
    "get_letter_grade(50)"
   ]
  },
  {
   "cell_type": "code",
   "execution_count": 473,
   "id": "cff5cce5",
   "metadata": {},
   "outputs": [
    {
     "data": {
      "text/plain": [
       "'B'"
      ]
     },
     "execution_count": 473,
     "metadata": {},
     "output_type": "execute_result"
    }
   ],
   "source": [
    "get_letter_grade(88)"
   ]
  },
  {
   "cell_type": "markdown",
   "id": "75a42fb1",
   "metadata": {},
   "source": [
    "#### Define a function named remove_vowels that accepts a string and returns a string with all the vowels removed."
   ]
  },
  {
   "cell_type": "code",
   "execution_count": 488,
   "id": "892dd49b",
   "metadata": {},
   "outputs": [],
   "source": [
    "string = 'hEllo'"
   ]
  },
  {
   "cell_type": "code",
   "execution_count": 489,
   "id": "a66ef11a",
   "metadata": {},
   "outputs": [
    {
     "name": "stdout",
     "output_type": "stream",
     "text": [
      "h False\n",
      "E True\n",
      "l False\n",
      "l False\n",
      "o True\n"
     ]
    }
   ],
   "source": [
    "new_string = ''\n",
    "\n",
    "for char in string:\n",
    "    print(char, is_vowel(char))\n",
    "    if not is_vowel(char):\n",
    "        new_string += char"
   ]
  },
  {
   "cell_type": "code",
   "execution_count": 490,
   "id": "62b963c6",
   "metadata": {},
   "outputs": [
    {
     "data": {
      "text/plain": [
       "'hll'"
      ]
     },
     "execution_count": 490,
     "metadata": {},
     "output_type": "execute_result"
    }
   ],
   "source": [
    "new_string"
   ]
  },
  {
   "cell_type": "code",
   "execution_count": 495,
   "id": "5a12db2d",
   "metadata": {},
   "outputs": [],
   "source": [
    "def remove_vowels(string):\n",
    "    new_string = ''\n",
    "\n",
    "    for char in string:\n",
    "        if not is_vowel(char):\n",
    "            new_string += char\n",
    "            \n",
    "    return new_string"
   ]
  },
  {
   "cell_type": "code",
   "execution_count": 496,
   "id": "02b5a28b",
   "metadata": {},
   "outputs": [
    {
     "data": {
      "text/plain": [
       "'hll'"
      ]
     },
     "execution_count": 496,
     "metadata": {},
     "output_type": "execute_result"
    }
   ],
   "source": [
    "remove_vowels('hello')"
   ]
  },
  {
   "cell_type": "code",
   "execution_count": 497,
   "id": "e91ef44f",
   "metadata": {},
   "outputs": [
    {
     "data": {
      "text/plain": [
       "'cff'"
      ]
     },
     "execution_count": 497,
     "metadata": {},
     "output_type": "execute_result"
    }
   ],
   "source": [
    "remove_vowels(\"coffee\")"
   ]
  },
  {
   "cell_type": "code",
   "execution_count": 499,
   "id": "d3f89f43",
   "metadata": {},
   "outputs": [
    {
     "data": {
      "text/plain": [
       "'Hll pgl clss hw r y dng tdy!'"
      ]
     },
     "execution_count": 499,
     "metadata": {},
     "output_type": "execute_result"
    }
   ],
   "source": [
    "remove_vowels('Hello pAgel class how are you doing tOday!')"
   ]
  },
  {
   "cell_type": "markdown",
   "id": "f53eaa73",
   "metadata": {},
   "source": [
    "#### Define a function named normalize_name. It should accept a string and return a valid python identifier, that is:\n",
    "- anything that is not a valid python identifier should be removed\n",
    "- leading and trailing whitespace should be removed\n",
    "- everything should be lowercase\n",
    "- spaces should be replaced with underscores\n",
    "- for example:\n",
    "    - Name will become name \n",
    "    - First Name will become first_name\n",
    "    - % Completed will become completed"
   ]
  },
  {
   "cell_type": "code",
   "execution_count": 521,
   "id": "14c01705",
   "metadata": {},
   "outputs": [],
   "source": [
    "string = '    % Name 2ANOTHER  '"
   ]
  },
  {
   "cell_type": "code",
   "execution_count": 522,
   "id": "5f5ad0d4",
   "metadata": {},
   "outputs": [],
   "source": [
    "string = string.strip().lower().replace(' ','_') #chaining will execute from left to right"
   ]
  },
  {
   "cell_type": "code",
   "execution_count": 523,
   "id": "80ac5abe",
   "metadata": {},
   "outputs": [
    {
     "data": {
      "text/plain": [
       "'%_name_2another'"
      ]
     },
     "execution_count": 523,
     "metadata": {},
     "output_type": "execute_result"
    }
   ],
   "source": [
    "string"
   ]
  },
  {
   "cell_type": "code",
   "execution_count": 530,
   "id": "5a8cc522",
   "metadata": {},
   "outputs": [
    {
     "data": {
      "text/plain": [
       "'_name_2another'"
      ]
     },
     "execution_count": 530,
     "metadata": {},
     "output_type": "execute_result"
    }
   ],
   "source": [
    "new_string = ''\n",
    "\n",
    "for char in string:\n",
    "#     print(char)\n",
    "    if char.isalpha() or char.isdigit() or char == '_':\n",
    "#         print('this is valid')\n",
    "        new_string += char\n",
    "    \n",
    "new_string"
   ]
  },
  {
   "cell_type": "code",
   "execution_count": 532,
   "id": "697fc8c9",
   "metadata": {},
   "outputs": [
    {
     "data": {
      "text/plain": [
       "'name_2another'"
      ]
     },
     "execution_count": 532,
     "metadata": {},
     "output_type": "execute_result"
    }
   ],
   "source": [
    "new_string.strip('_')"
   ]
  },
  {
   "cell_type": "code",
   "execution_count": 533,
   "id": "90c51234",
   "metadata": {},
   "outputs": [],
   "source": [
    "def normalize_name(string):\n",
    "    string = string.strip().lower().replace(' ','_')\n",
    "    \n",
    "    new_string = ''\n",
    "\n",
    "    for char in string:\n",
    "    #     print(char)\n",
    "        if char.isalpha() or char.isdigit() or char == '_':\n",
    "    #         print('this is valid')\n",
    "            new_string += char\n",
    "\n",
    "    new_string = new_string.strip('_')\n",
    "    \n",
    "    return new_string"
   ]
  },
  {
   "cell_type": "code",
   "execution_count": 534,
   "id": "cbaf66b9",
   "metadata": {},
   "outputs": [
    {
     "data": {
      "text/plain": [
       "'name'"
      ]
     },
     "execution_count": 534,
     "metadata": {},
     "output_type": "execute_result"
    }
   ],
   "source": [
    "normalize_name('Name')"
   ]
  },
  {
   "cell_type": "code",
   "execution_count": 535,
   "id": "d44eb56b",
   "metadata": {},
   "outputs": [
    {
     "data": {
      "text/plain": [
       "'first_name'"
      ]
     },
     "execution_count": 535,
     "metadata": {},
     "output_type": "execute_result"
    }
   ],
   "source": [
    "normalize_name('First Name')"
   ]
  },
  {
   "cell_type": "code",
   "execution_count": 536,
   "id": "bd71ece2",
   "metadata": {},
   "outputs": [
    {
     "data": {
      "text/plain": [
       "'completed'"
      ]
     },
     "execution_count": 536,
     "metadata": {},
     "output_type": "execute_result"
    }
   ],
   "source": [
    "normalize_name('% Completed')"
   ]
  },
  {
   "cell_type": "markdown",
   "id": "2b6aef3e",
   "metadata": {},
   "source": [
    "#### Write a function named cumulative_sum that accepts a list of numbers and returns a list that is the cumulative sum of the numbers in the list.\n",
    "- cumulative_sum([1, 1, 1]) returns [1, 2, 3]\n",
    "- cumulative_sum([1, 2, 3, 4]) returns [1, 3, 6, 10]"
   ]
  },
  {
   "cell_type": "code",
   "execution_count": 541,
   "id": "3f08f4e9",
   "metadata": {},
   "outputs": [],
   "source": [
    "ls = [1,1,1]"
   ]
  },
  {
   "cell_type": "code",
   "execution_count": 546,
   "id": "0c59d4e7",
   "metadata": {},
   "outputs": [
    {
     "name": "stdout",
     "output_type": "stream",
     "text": [
      "1\n",
      "2\n",
      "3\n"
     ]
    },
    {
     "data": {
      "text/plain": [
       "[1, 2, 3]"
      ]
     },
     "execution_count": 546,
     "metadata": {},
     "output_type": "execute_result"
    }
   ],
   "source": [
    "total = 0 \n",
    "some_sums = []\n",
    "\n",
    "for numb in ls:\n",
    "#     print(numb)\n",
    "    total += numb\n",
    "    print(total)\n",
    "    some_sums.append(total)\n",
    "    \n",
    "some_sums"
   ]
  },
  {
   "cell_type": "code",
   "execution_count": 550,
   "id": "d2a282f9",
   "metadata": {},
   "outputs": [],
   "source": [
    "def cumulative_sum(ls):\n",
    "    total = 0 \n",
    "    some_sums = []\n",
    "\n",
    "    for numb in ls:\n",
    "    #     print(numb)\n",
    "        total += numb\n",
    "#         print(total)\n",
    "        some_sums.append(total)\n",
    "\n",
    "    return some_sums"
   ]
  },
  {
   "cell_type": "code",
   "execution_count": 551,
   "id": "da8daea2",
   "metadata": {},
   "outputs": [
    {
     "data": {
      "text/plain": [
       "[1, 2, 3]"
      ]
     },
     "execution_count": 551,
     "metadata": {},
     "output_type": "execute_result"
    }
   ],
   "source": [
    "cumulative_sum([1, 1, 1])"
   ]
  },
  {
   "cell_type": "code",
   "execution_count": 552,
   "id": "2e6f15e3",
   "metadata": {},
   "outputs": [
    {
     "data": {
      "text/plain": [
       "[1, 3, 6, 10]"
      ]
     },
     "execution_count": 552,
     "metadata": {},
     "output_type": "execute_result"
    }
   ],
   "source": [
    "cumulative_sum([1, 2, 3, 4])"
   ]
  },
  {
   "cell_type": "code",
   "execution_count": null,
   "id": "bba5fe9a",
   "metadata": {},
   "outputs": [],
   "source": []
  }
 ],
 "metadata": {
  "kernelspec": {
   "display_name": "Python 3 (ipykernel)",
   "language": "python",
   "name": "python3"
  },
  "language_info": {
   "codemirror_mode": {
    "name": "ipython",
    "version": 3
   },
   "file_extension": ".py",
   "mimetype": "text/x-python",
   "name": "python",
   "nbconvert_exporter": "python",
   "pygments_lexer": "ipython3",
   "version": "3.9.12"
  }
 },
 "nbformat": 4,
 "nbformat_minor": 5
}
