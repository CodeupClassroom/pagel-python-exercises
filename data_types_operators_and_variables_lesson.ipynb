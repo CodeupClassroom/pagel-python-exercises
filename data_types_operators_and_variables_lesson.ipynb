{
 "cells": [
  {
   "cell_type": "markdown",
   "id": "fca395ec",
   "metadata": {},
   "source": [
    "# This is a markdown cell"
   ]
  },
  {
   "cell_type": "markdown",
   "id": "525fb101",
   "metadata": {},
   "source": [
    "## This is a markdown cell"
   ]
  },
  {
   "cell_type": "markdown",
   "id": "a1969108",
   "metadata": {},
   "source": [
    "### This is a markdown cell"
   ]
  },
  {
   "cell_type": "markdown",
   "id": "a152bc6a",
   "metadata": {},
   "source": [
    "* this is a bullet\n",
    "    * this is a sub bullet"
   ]
  },
  {
   "cell_type": "markdown",
   "id": "31974048",
   "metadata": {},
   "source": [
    "1. This is a numbered line\n",
    "2. This is a numbered line"
   ]
  },
  {
   "cell_type": "markdown",
   "id": "ebc3833c",
   "metadata": {},
   "source": [
    "# Python Data Types\n",
    "## Booleans"
   ]
  },
  {
   "cell_type": "code",
   "execution_count": 9,
   "id": "bedf18fa",
   "metadata": {},
   "outputs": [
    {
     "data": {
      "text/plain": [
       "True"
      ]
     },
     "execution_count": 9,
     "metadata": {},
     "output_type": "execute_result"
    }
   ],
   "source": [
    "True"
   ]
  },
  {
   "cell_type": "code",
   "execution_count": 10,
   "id": "4433922d",
   "metadata": {},
   "outputs": [
    {
     "data": {
      "text/plain": [
       "False"
      ]
     },
     "execution_count": 10,
     "metadata": {},
     "output_type": "execute_result"
    }
   ],
   "source": [
    "False"
   ]
  },
  {
   "cell_type": "code",
   "execution_count": 11,
   "id": "cef3b4d0",
   "metadata": {},
   "outputs": [
    {
     "data": {
      "text/plain": [
       "True"
      ]
     },
     "execution_count": 11,
     "metadata": {},
     "output_type": "execute_result"
    }
   ],
   "source": [
    "True == True"
   ]
  },
  {
   "cell_type": "code",
   "execution_count": 12,
   "id": "4ddb034c",
   "metadata": {},
   "outputs": [
    {
     "data": {
      "text/plain": [
       "False"
      ]
     },
     "execution_count": 12,
     "metadata": {},
     "output_type": "execute_result"
    }
   ],
   "source": [
    "True == False"
   ]
  },
  {
   "cell_type": "code",
   "execution_count": 13,
   "id": "6dd08346",
   "metadata": {},
   "outputs": [
    {
     "data": {
      "text/plain": [
       "False"
      ]
     },
     "execution_count": 13,
     "metadata": {},
     "output_type": "execute_result"
    }
   ],
   "source": [
    "True != True"
   ]
  },
  {
   "cell_type": "code",
   "execution_count": 14,
   "id": "0e4c4687",
   "metadata": {},
   "outputs": [
    {
     "data": {
      "text/plain": [
       "False"
      ]
     },
     "execution_count": 14,
     "metadata": {},
     "output_type": "execute_result"
    }
   ],
   "source": [
    "not True"
   ]
  },
  {
   "cell_type": "code",
   "execution_count": 15,
   "id": "a6bb1734",
   "metadata": {},
   "outputs": [
    {
     "data": {
      "text/plain": [
       "False"
      ]
     },
     "execution_count": 15,
     "metadata": {},
     "output_type": "execute_result"
    }
   ],
   "source": [
    "True and False"
   ]
  },
  {
   "cell_type": "code",
   "execution_count": 16,
   "id": "cfeae9eb",
   "metadata": {},
   "outputs": [
    {
     "data": {
      "text/plain": [
       "True"
      ]
     },
     "execution_count": 16,
     "metadata": {},
     "output_type": "execute_result"
    }
   ],
   "source": [
    "True or True"
   ]
  },
  {
   "cell_type": "code",
   "execution_count": 17,
   "id": "2a9be87f",
   "metadata": {},
   "outputs": [
    {
     "data": {
      "text/plain": [
       "True"
      ]
     },
     "execution_count": 17,
     "metadata": {},
     "output_type": "execute_result"
    }
   ],
   "source": [
    "False or False or False or True"
   ]
  },
  {
   "cell_type": "markdown",
   "id": "bd3e6b55",
   "metadata": {},
   "source": [
    "# Variable Assignment"
   ]
  },
  {
   "cell_type": "code",
   "execution_count": 18,
   "id": "36a79abd",
   "metadata": {},
   "outputs": [],
   "source": [
    "x = 1"
   ]
  },
  {
   "cell_type": "code",
   "execution_count": 22,
   "id": "a8c36942",
   "metadata": {},
   "outputs": [
    {
     "data": {
      "text/plain": [
       "2"
      ]
     },
     "execution_count": 22,
     "metadata": {},
     "output_type": "execute_result"
    }
   ],
   "source": [
    "x"
   ]
  },
  {
   "cell_type": "code",
   "execution_count": 20,
   "id": "55dd975e",
   "metadata": {},
   "outputs": [],
   "source": [
    "x = 2"
   ]
  },
  {
   "cell_type": "code",
   "execution_count": 21,
   "id": "d2a44437",
   "metadata": {},
   "outputs": [
    {
     "data": {
      "text/plain": [
       "2"
      ]
     },
     "execution_count": 21,
     "metadata": {},
     "output_type": "execute_result"
    }
   ],
   "source": [
    "x"
   ]
  },
  {
   "cell_type": "code",
   "execution_count": 23,
   "id": "31c865d9",
   "metadata": {},
   "outputs": [],
   "source": [
    "it_is_mar_17 = True\n",
    "it_is_mar_18 = False"
   ]
  },
  {
   "cell_type": "code",
   "execution_count": 25,
   "id": "84f9e010",
   "metadata": {},
   "outputs": [
    {
     "data": {
      "text/plain": [
       "False"
      ]
     },
     "execution_count": 25,
     "metadata": {},
     "output_type": "execute_result"
    }
   ],
   "source": [
    "it_is_mar_18"
   ]
  },
  {
   "cell_type": "code",
   "execution_count": 26,
   "id": "81898235",
   "metadata": {},
   "outputs": [],
   "source": [
    "x = 3"
   ]
  },
  {
   "cell_type": "code",
   "execution_count": 27,
   "id": "4e4c0680",
   "metadata": {},
   "outputs": [
    {
     "data": {
      "text/plain": [
       "True"
      ]
     },
     "execution_count": 27,
     "metadata": {},
     "output_type": "execute_result"
    }
   ],
   "source": [
    "x == 3"
   ]
  },
  {
   "cell_type": "code",
   "execution_count": 28,
   "id": "4b0d4baa",
   "metadata": {},
   "outputs": [
    {
     "data": {
      "text/plain": [
       "False"
      ]
     },
     "execution_count": 28,
     "metadata": {},
     "output_type": "execute_result"
    }
   ],
   "source": [
    "'x' == 3"
   ]
  },
  {
   "cell_type": "markdown",
   "id": "c89cc0d8",
   "metadata": {},
   "source": [
    "# Numbers"
   ]
  },
  {
   "cell_type": "code",
   "execution_count": 29,
   "id": "0b75231f",
   "metadata": {},
   "outputs": [
    {
     "data": {
      "text/plain": [
       "1"
      ]
     },
     "execution_count": 29,
     "metadata": {},
     "output_type": "execute_result"
    }
   ],
   "source": [
    "1"
   ]
  },
  {
   "cell_type": "code",
   "execution_count": 30,
   "id": "560e4eb0",
   "metadata": {},
   "outputs": [
    {
     "data": {
      "text/plain": [
       "int"
      ]
     },
     "execution_count": 30,
     "metadata": {},
     "output_type": "execute_result"
    }
   ],
   "source": [
    "type(1)"
   ]
  },
  {
   "cell_type": "code",
   "execution_count": 31,
   "id": "ad8c2529",
   "metadata": {},
   "outputs": [
    {
     "data": {
      "text/plain": [
       "float"
      ]
     },
     "execution_count": 31,
     "metadata": {},
     "output_type": "execute_result"
    }
   ],
   "source": [
    "type(1.0)"
   ]
  },
  {
   "cell_type": "code",
   "execution_count": 32,
   "id": "b87ea45b",
   "metadata": {},
   "outputs": [
    {
     "data": {
      "text/plain": [
       "10"
      ]
     },
     "execution_count": 32,
     "metadata": {},
     "output_type": "execute_result"
    }
   ],
   "source": [
    "4 + 6"
   ]
  },
  {
   "cell_type": "code",
   "execution_count": 33,
   "id": "f884e2f3",
   "metadata": {},
   "outputs": [
    {
     "data": {
      "text/plain": [
       "1.0"
      ]
     },
     "execution_count": 33,
     "metadata": {},
     "output_type": "execute_result"
    }
   ],
   "source": [
    "0.4 + 0.6"
   ]
  },
  {
   "cell_type": "code",
   "execution_count": 34,
   "id": "0bf99606",
   "metadata": {},
   "outputs": [
    {
     "data": {
      "text/plain": [
       "-1"
      ]
     },
     "execution_count": 34,
     "metadata": {},
     "output_type": "execute_result"
    }
   ],
   "source": [
    "5 - 6"
   ]
  },
  {
   "cell_type": "code",
   "execution_count": 35,
   "id": "a3c78296",
   "metadata": {},
   "outputs": [
    {
     "data": {
      "text/plain": [
       "2.0"
      ]
     },
     "execution_count": 35,
     "metadata": {},
     "output_type": "execute_result"
    }
   ],
   "source": [
    "4 / 2"
   ]
  },
  {
   "cell_type": "code",
   "execution_count": 37,
   "id": "7049dfb4",
   "metadata": {},
   "outputs": [
    {
     "data": {
      "text/plain": [
       "1"
      ]
     },
     "execution_count": 37,
     "metadata": {},
     "output_type": "execute_result"
    }
   ],
   "source": [
    "4 // 3"
   ]
  },
  {
   "cell_type": "code",
   "execution_count": 38,
   "id": "27e6d98a",
   "metadata": {},
   "outputs": [
    {
     "data": {
      "text/plain": [
       "5.2"
      ]
     },
     "execution_count": 38,
     "metadata": {},
     "output_type": "execute_result"
    }
   ],
   "source": [
    "4.2 + 1"
   ]
  },
  {
   "cell_type": "code",
   "execution_count": 39,
   "id": "8fa5bf02",
   "metadata": {},
   "outputs": [
    {
     "data": {
      "text/plain": [
       "5.0"
      ]
     },
     "execution_count": 39,
     "metadata": {},
     "output_type": "execute_result"
    }
   ],
   "source": [
    "4.0 + 1"
   ]
  },
  {
   "cell_type": "code",
   "execution_count": 40,
   "id": "817ff4d3",
   "metadata": {},
   "outputs": [
    {
     "data": {
      "text/plain": [
       "1"
      ]
     },
     "execution_count": 40,
     "metadata": {},
     "output_type": "execute_result"
    }
   ],
   "source": [
    "5 % 2"
   ]
  },
  {
   "cell_type": "code",
   "execution_count": 41,
   "id": "57fef1c5",
   "metadata": {},
   "outputs": [],
   "source": [
    "x = 2/2"
   ]
  },
  {
   "cell_type": "code",
   "execution_count": 42,
   "id": "71b29eff",
   "metadata": {},
   "outputs": [
    {
     "data": {
      "text/plain": [
       "1.0"
      ]
     },
     "execution_count": 42,
     "metadata": {},
     "output_type": "execute_result"
    }
   ],
   "source": [
    "x"
   ]
  },
  {
   "cell_type": "code",
   "execution_count": 43,
   "id": "62b81a6f",
   "metadata": {},
   "outputs": [],
   "source": [
    "y = x + 1"
   ]
  },
  {
   "cell_type": "code",
   "execution_count": 44,
   "id": "8b0c34f7",
   "metadata": {},
   "outputs": [
    {
     "data": {
      "text/plain": [
       "2.0"
      ]
     },
     "execution_count": 44,
     "metadata": {},
     "output_type": "execute_result"
    }
   ],
   "source": [
    "y"
   ]
  },
  {
   "cell_type": "code",
   "execution_count": 45,
   "id": "8d08117a",
   "metadata": {},
   "outputs": [],
   "source": [
    "x = x + 1"
   ]
  },
  {
   "cell_type": "code",
   "execution_count": 46,
   "id": "4222a5f2",
   "metadata": {},
   "outputs": [
    {
     "data": {
      "text/plain": [
       "2.0"
      ]
     },
     "execution_count": 46,
     "metadata": {},
     "output_type": "execute_result"
    }
   ],
   "source": [
    "x"
   ]
  },
  {
   "cell_type": "code",
   "execution_count": 48,
   "id": "5d95d211",
   "metadata": {},
   "outputs": [
    {
     "data": {
      "text/plain": [
       "2"
      ]
     },
     "execution_count": 48,
     "metadata": {},
     "output_type": "execute_result"
    }
   ],
   "source": [
    "int(2.0)"
   ]
  },
  {
   "cell_type": "code",
   "execution_count": 49,
   "id": "00286cd5",
   "metadata": {},
   "outputs": [
    {
     "data": {
      "text/plain": [
       "False"
      ]
     },
     "execution_count": 49,
     "metadata": {},
     "output_type": "execute_result"
    }
   ],
   "source": [
    "bool(0)"
   ]
  },
  {
   "cell_type": "code",
   "execution_count": 50,
   "id": "33b51271",
   "metadata": {},
   "outputs": [
    {
     "data": {
      "text/plain": [
       "True"
      ]
     },
     "execution_count": 50,
     "metadata": {},
     "output_type": "execute_result"
    }
   ],
   "source": [
    "bool(1)"
   ]
  },
  {
   "cell_type": "code",
   "execution_count": 51,
   "id": "bf00dd32",
   "metadata": {},
   "outputs": [
    {
     "data": {
      "text/plain": [
       "True"
      ]
     },
     "execution_count": 51,
     "metadata": {},
     "output_type": "execute_result"
    }
   ],
   "source": [
    "bool(2)"
   ]
  },
  {
   "cell_type": "code",
   "execution_count": 52,
   "id": "50d8e65b",
   "metadata": {},
   "outputs": [
    {
     "data": {
      "text/plain": [
       "True"
      ]
     },
     "execution_count": 52,
     "metadata": {},
     "output_type": "execute_result"
    }
   ],
   "source": [
    "bool(-1)"
   ]
  },
  {
   "cell_type": "code",
   "execution_count": 53,
   "id": "983cbb11",
   "metadata": {},
   "outputs": [
    {
     "data": {
      "text/plain": [
       "18"
      ]
     },
     "execution_count": 53,
     "metadata": {},
     "output_type": "execute_result"
    }
   ],
   "source": [
    "9 * 2"
   ]
  },
  {
   "cell_type": "code",
   "execution_count": 54,
   "id": "5235f987",
   "metadata": {},
   "outputs": [
    {
     "data": {
      "text/plain": [
       "81"
      ]
     },
     "execution_count": 54,
     "metadata": {},
     "output_type": "execute_result"
    }
   ],
   "source": [
    "9 ** 2"
   ]
  },
  {
   "cell_type": "code",
   "execution_count": 55,
   "id": "c0da8efb",
   "metadata": {},
   "outputs": [
    {
     "data": {
      "text/plain": [
       "True"
      ]
     },
     "execution_count": 55,
     "metadata": {},
     "output_type": "execute_result"
    }
   ],
   "source": [
    "9 > 2"
   ]
  },
  {
   "cell_type": "code",
   "execution_count": 56,
   "id": "a34fce77",
   "metadata": {},
   "outputs": [
    {
     "data": {
      "text/plain": [
       "True"
      ]
     },
     "execution_count": 56,
     "metadata": {},
     "output_type": "execute_result"
    }
   ],
   "source": [
    "9 >= 9"
   ]
  },
  {
   "cell_type": "code",
   "execution_count": 57,
   "id": "cb45b14b",
   "metadata": {},
   "outputs": [
    {
     "data": {
      "text/plain": [
       "True"
      ]
     },
     "execution_count": 57,
     "metadata": {},
     "output_type": "execute_result"
    }
   ],
   "source": [
    "9 <= 9"
   ]
  },
  {
   "cell_type": "code",
   "execution_count": 71,
   "id": "44294e7f",
   "metadata": {},
   "outputs": [
    {
     "data": {
      "text/plain": [
       "True"
      ]
     },
     "execution_count": 71,
     "metadata": {},
     "output_type": "execute_result"
    }
   ],
   "source": [
    "9 != 3"
   ]
  },
  {
   "cell_type": "code",
   "execution_count": 60,
   "id": "ca0ddedd",
   "metadata": {},
   "outputs": [
    {
     "data": {
      "text/plain": [
       "True"
      ]
     },
     "execution_count": 60,
     "metadata": {},
     "output_type": "execute_result"
    }
   ],
   "source": [
    "9 > 1 or 8+3 == 5"
   ]
  },
  {
   "cell_type": "code",
   "execution_count": 61,
   "id": "fe8ff34b",
   "metadata": {},
   "outputs": [
    {
     "data": {
      "text/plain": [
       "False"
      ]
     },
     "execution_count": 61,
     "metadata": {},
     "output_type": "execute_result"
    }
   ],
   "source": [
    "9 > 1 and 8+3 == 5"
   ]
  },
  {
   "cell_type": "code",
   "execution_count": 62,
   "id": "7009815c",
   "metadata": {},
   "outputs": [
    {
     "data": {
      "text/plain": [
       "True"
      ]
     },
     "execution_count": 62,
     "metadata": {},
     "output_type": "execute_result"
    }
   ],
   "source": [
    "(9 > 1) and (2 < 3)"
   ]
  },
  {
   "cell_type": "code",
   "execution_count": 64,
   "id": "1a63c4ef",
   "metadata": {},
   "outputs": [
    {
     "data": {
      "text/plain": [
       "False"
      ]
     },
     "execution_count": 64,
     "metadata": {},
     "output_type": "execute_result"
    }
   ],
   "source": [
    "0 < (1 & 0) < 2"
   ]
  },
  {
   "cell_type": "code",
   "execution_count": 65,
   "id": "e9357f5e",
   "metadata": {},
   "outputs": [
    {
     "data": {
      "text/plain": [
       "True"
      ]
     },
     "execution_count": 65,
     "metadata": {},
     "output_type": "execute_result"
    }
   ],
   "source": [
    "0 < (1 | 0) < 2"
   ]
  },
  {
   "cell_type": "code",
   "execution_count": 66,
   "id": "920958e9",
   "metadata": {},
   "outputs": [
    {
     "data": {
      "text/plain": [
       "0.30000000000000004"
      ]
     },
     "execution_count": 66,
     "metadata": {},
     "output_type": "execute_result"
    }
   ],
   "source": [
    "0.1 + 0.2"
   ]
  },
  {
   "cell_type": "code",
   "execution_count": 69,
   "id": "ce75cffe",
   "metadata": {},
   "outputs": [
    {
     "data": {
      "text/plain": [
       "True"
      ]
     },
     "execution_count": 69,
     "metadata": {},
     "output_type": "execute_result"
    }
   ],
   "source": [
    "round(0.1 + 0.2, 1) == 0.3"
   ]
  },
  {
   "cell_type": "markdown",
   "id": "c32701b6",
   "metadata": {},
   "source": [
    "# Strings"
   ]
  },
  {
   "cell_type": "code",
   "execution_count": 72,
   "id": "d3c011f2",
   "metadata": {},
   "outputs": [
    {
     "data": {
      "text/plain": [
       "'Hello World'"
      ]
     },
     "execution_count": 72,
     "metadata": {},
     "output_type": "execute_result"
    }
   ],
   "source": [
    "'Hello World'"
   ]
  },
  {
   "cell_type": "code",
   "execution_count": 73,
   "id": "bbb492b9",
   "metadata": {},
   "outputs": [
    {
     "data": {
      "text/plain": [
       "'Hello World'"
      ]
     },
     "execution_count": 73,
     "metadata": {},
     "output_type": "execute_result"
    }
   ],
   "source": [
    "\"Hello World\""
   ]
  },
  {
   "cell_type": "code",
   "execution_count": 75,
   "id": "448d12bb",
   "metadata": {},
   "outputs": [
    {
     "data": {
      "text/plain": [
       "\"Hello World's\""
      ]
     },
     "execution_count": 75,
     "metadata": {},
     "output_type": "execute_result"
    }
   ],
   "source": [
    "\"Hello World's\""
   ]
  },
  {
   "cell_type": "code",
   "execution_count": 76,
   "id": "9f230a5d",
   "metadata": {},
   "outputs": [
    {
     "data": {
      "text/plain": [
       "\"Hello World's\""
      ]
     },
     "execution_count": 76,
     "metadata": {},
     "output_type": "execute_result"
    }
   ],
   "source": [
    "'Hello World\\'s'"
   ]
  },
  {
   "cell_type": "code",
   "execution_count": 77,
   "id": "4c82759a",
   "metadata": {},
   "outputs": [
    {
     "data": {
      "text/plain": [
       "'\\nThis is a multi string line\\nHello world\\n'"
      ]
     },
     "execution_count": 77,
     "metadata": {},
     "output_type": "execute_result"
    }
   ],
   "source": [
    "\"\"\"\n",
    "This is a multi string line\n",
    "Hello world\n",
    "\"\"\""
   ]
  },
  {
   "cell_type": "code",
   "execution_count": 78,
   "id": "a95a922d",
   "metadata": {},
   "outputs": [
    {
     "name": "stdout",
     "output_type": "stream",
     "text": [
      "Hello World\n"
     ]
    }
   ],
   "source": [
    "print('Hello World')"
   ]
  },
  {
   "cell_type": "code",
   "execution_count": 79,
   "id": "185c767f",
   "metadata": {},
   "outputs": [
    {
     "data": {
      "text/plain": [
       "False"
      ]
     },
     "execution_count": 79,
     "metadata": {},
     "output_type": "execute_result"
    }
   ],
   "source": [
    "'hello' == 'world'"
   ]
  },
  {
   "cell_type": "code",
   "execution_count": 80,
   "id": "f1454616",
   "metadata": {},
   "outputs": [
    {
     "data": {
      "text/plain": [
       "True"
      ]
     },
     "execution_count": 80,
     "metadata": {},
     "output_type": "execute_result"
    }
   ],
   "source": [
    "'hello' == 'hello'"
   ]
  },
  {
   "cell_type": "code",
   "execution_count": 81,
   "id": "d77c5799",
   "metadata": {},
   "outputs": [
    {
     "data": {
      "text/plain": [
       "'abcdef'"
      ]
     },
     "execution_count": 81,
     "metadata": {},
     "output_type": "execute_result"
    }
   ],
   "source": [
    "'abc' + 'def'"
   ]
  },
  {
   "cell_type": "code",
   "execution_count": 82,
   "id": "5c67f2b8",
   "metadata": {},
   "outputs": [
    {
     "ename": "TypeError",
     "evalue": "can only concatenate str (not \"int\") to str",
     "output_type": "error",
     "traceback": [
      "\u001b[0;31m---------------------------------------------------------------------------\u001b[0m",
      "\u001b[0;31mTypeError\u001b[0m                                 Traceback (most recent call last)",
      "Input \u001b[0;32mIn [82]\u001b[0m, in \u001b[0;36m<cell line: 1>\u001b[0;34m()\u001b[0m\n\u001b[0;32m----> 1\u001b[0m \u001b[38;5;124;43m'\u001b[39;49m\u001b[38;5;124;43m2\u001b[39;49m\u001b[38;5;124;43m'\u001b[39;49m\u001b[43m \u001b[49m\u001b[38;5;241;43m+\u001b[39;49m\u001b[43m \u001b[49m\u001b[38;5;241;43m1\u001b[39;49m\n",
      "\u001b[0;31mTypeError\u001b[0m: can only concatenate str (not \"int\") to str"
     ]
    }
   ],
   "source": [
    "'2' + 1"
   ]
  },
  {
   "cell_type": "code",
   "execution_count": 83,
   "id": "6db4c573",
   "metadata": {},
   "outputs": [
    {
     "data": {
      "text/plain": [
       "3"
      ]
     },
     "execution_count": 83,
     "metadata": {},
     "output_type": "execute_result"
    }
   ],
   "source": [
    "int('2') + 1"
   ]
  },
  {
   "cell_type": "code",
   "execution_count": 84,
   "id": "037ae7b8",
   "metadata": {},
   "outputs": [
    {
     "data": {
      "text/plain": [
       "'2'"
      ]
     },
     "execution_count": 84,
     "metadata": {},
     "output_type": "execute_result"
    }
   ],
   "source": [
    "str(2)"
   ]
  },
  {
   "cell_type": "code",
   "execution_count": 85,
   "id": "ca3a9f9b",
   "metadata": {},
   "outputs": [
    {
     "ename": "ValueError",
     "evalue": "invalid literal for int() with base 10: 's'",
     "output_type": "error",
     "traceback": [
      "\u001b[0;31m---------------------------------------------------------------------------\u001b[0m",
      "\u001b[0;31mValueError\u001b[0m                                Traceback (most recent call last)",
      "Input \u001b[0;32mIn [85]\u001b[0m, in \u001b[0;36m<cell line: 1>\u001b[0;34m()\u001b[0m\n\u001b[0;32m----> 1\u001b[0m \u001b[38;5;28;43mint\u001b[39;49m\u001b[43m(\u001b[49m\u001b[38;5;124;43m'\u001b[39;49m\u001b[38;5;124;43ms\u001b[39;49m\u001b[38;5;124;43m'\u001b[39;49m\u001b[43m)\u001b[49m\n",
      "\u001b[0;31mValueError\u001b[0m: invalid literal for int() with base 10: 's'"
     ]
    }
   ],
   "source": [
    "int('s')"
   ]
  },
  {
   "cell_type": "code",
   "execution_count": 87,
   "id": "39bd3b94",
   "metadata": {},
   "outputs": [],
   "source": [
    "pie = 3.14"
   ]
  },
  {
   "cell_type": "code",
   "execution_count": 88,
   "id": "dd8e4acc",
   "metadata": {},
   "outputs": [
    {
     "data": {
      "text/plain": [
       "4.140000000000001"
      ]
     },
     "execution_count": 88,
     "metadata": {},
     "output_type": "execute_result"
    }
   ],
   "source": [
    "pie + 1"
   ]
  },
  {
   "cell_type": "code",
   "execution_count": 94,
   "id": "3f2c1998",
   "metadata": {},
   "outputs": [
    {
     "data": {
      "text/plain": [
       "'abc def'"
      ]
     },
     "execution_count": 94,
     "metadata": {},
     "output_type": "execute_result"
    }
   ],
   "source": [
    "'abc' + ' ' +'def'"
   ]
  },
  {
   "cell_type": "code",
   "execution_count": 91,
   "id": "9b154987",
   "metadata": {},
   "outputs": [
    {
     "data": {
      "text/plain": [
       "'21'"
      ]
     },
     "execution_count": 91,
     "metadata": {},
     "output_type": "execute_result"
    }
   ],
   "source": [
    "'2' + str(1)"
   ]
  },
  {
   "cell_type": "code",
   "execution_count": 92,
   "id": "c44daccb",
   "metadata": {},
   "outputs": [
    {
     "name": "stdout",
     "output_type": "stream",
     "text": [
      "Write Something:something\n"
     ]
    }
   ],
   "source": [
    "my_response = input('Write Something:')"
   ]
  },
  {
   "cell_type": "code",
   "execution_count": 93,
   "id": "5094aad0",
   "metadata": {},
   "outputs": [
    {
     "data": {
      "text/plain": [
       "'something'"
      ]
     },
     "execution_count": 93,
     "metadata": {},
     "output_type": "execute_result"
    }
   ],
   "source": [
    "my_response"
   ]
  },
  {
   "cell_type": "markdown",
   "id": "64001d69",
   "metadata": {},
   "source": [
    "# String Formatting"
   ]
  },
  {
   "cell_type": "code",
   "execution_count": 113,
   "id": "9e4f917a",
   "metadata": {},
   "outputs": [],
   "source": [
    "name = Andrew"
   ]
  },
  {
   "cell_type": "code",
   "execution_count": 97,
   "id": "83ca4833",
   "metadata": {},
   "outputs": [
    {
     "data": {
      "text/plain": [
       "'Andrew'"
      ]
     },
     "execution_count": 97,
     "metadata": {},
     "output_type": "execute_result"
    }
   ],
   "source": [
    "name"
   ]
  },
  {
   "cell_type": "code",
   "execution_count": 103,
   "id": "4564de0d",
   "metadata": {},
   "outputs": [
    {
     "data": {
      "text/plain": [
       "'Hello Andrew'"
      ]
     },
     "execution_count": 103,
     "metadata": {},
     "output_type": "execute_result"
    }
   ],
   "source": [
    "'Hello %s' % name"
   ]
  },
  {
   "cell_type": "code",
   "execution_count": 112,
   "id": "aa09466a",
   "metadata": {},
   "outputs": [
    {
     "data": {
      "text/plain": [
       "'Hello Andrew, Keila'"
      ]
     },
     "execution_count": 112,
     "metadata": {},
     "output_type": "execute_result"
    }
   ],
   "source": [
    "'Hello %s, %s' % (name, 'Keila')"
   ]
  },
  {
   "cell_type": "code",
   "execution_count": 102,
   "id": "3bfc182b",
   "metadata": {},
   "outputs": [
    {
     "data": {
      "text/plain": [
       "'Hello Andrew, Keila, Jarred'"
      ]
     },
     "execution_count": 102,
     "metadata": {},
     "output_type": "execute_result"
    }
   ],
   "source": [
    "'Hello %s, %s, %s' % (name, 'Keila', 'Jarred')"
   ]
  },
  {
   "cell_type": "code",
   "execution_count": 107,
   "id": "a0298883",
   "metadata": {},
   "outputs": [
    {
     "data": {
      "text/plain": [
       "'Hello Andrew, Keila, Jarred'"
      ]
     },
     "execution_count": 107,
     "metadata": {},
     "output_type": "execute_result"
    }
   ],
   "source": [
    "'Hello {}, {}, {}'.format(name, 'Keila', 'Jarred')"
   ]
  },
  {
   "cell_type": "code",
   "execution_count": 110,
   "id": "f1ec6b54",
   "metadata": {},
   "outputs": [
    {
     "data": {
      "text/plain": [
       "'Hello Andrew, keila, 1'"
      ]
     },
     "execution_count": 110,
     "metadata": {},
     "output_type": "execute_result"
    }
   ],
   "source": [
    "f\"Hello {name}, {'keila'}, {0+1}\""
   ]
  },
  {
   "cell_type": "code",
   "execution_count": null,
   "id": "7bed952f",
   "metadata": {},
   "outputs": [],
   "source": [
    "name = ['Andrew', 'Keila', 'Jarred']"
   ]
  },
  {
   "cell_type": "code",
   "execution_count": 115,
   "id": "227e7d4c",
   "metadata": {
    "scrolled": true
   },
   "outputs": [
    {
     "data": {
      "text/plain": [
       "\"Hello ['Andrew', 'Keila', 'Jarred']\""
      ]
     },
     "execution_count": 115,
     "metadata": {},
     "output_type": "execute_result"
    }
   ],
   "source": [
    "f\"Hello {name}\""
   ]
  },
  {
   "cell_type": "code",
   "execution_count": 122,
   "id": "384b3b73",
   "metadata": {},
   "outputs": [
    {
     "data": {
      "text/plain": [
       "3"
      ]
     },
     "execution_count": 122,
     "metadata": {},
     "output_type": "execute_result"
    }
   ],
   "source": [
    "#This is a mathematical operation\n",
    "1+2 "
   ]
  },
  {
   "cell_type": "markdown",
   "id": "94670703",
   "metadata": {},
   "source": [
    "# String Methods"
   ]
  },
  {
   "cell_type": "code",
   "execution_count": 124,
   "id": "681ef124",
   "metadata": {},
   "outputs": [
    {
     "data": {
      "text/plain": [
       "'hello'"
      ]
     },
     "execution_count": 124,
     "metadata": {},
     "output_type": "execute_result"
    }
   ],
   "source": [
    "'HELLO'.lower()"
   ]
  },
  {
   "cell_type": "code",
   "execution_count": 126,
   "id": "699b5dbd",
   "metadata": {},
   "outputs": [
    {
     "data": {
      "text/plain": [
       "'hello'"
      ]
     },
     "execution_count": 126,
     "metadata": {},
     "output_type": "execute_result"
    }
   ],
   "source": [
    "str.lower('hello')"
   ]
  },
  {
   "cell_type": "code",
   "execution_count": 127,
   "id": "46d54d7e",
   "metadata": {},
   "outputs": [
    {
     "data": {
      "text/plain": [
       "'HELLO'"
      ]
     },
     "execution_count": 127,
     "metadata": {},
     "output_type": "execute_result"
    }
   ],
   "source": [
    "'hello'.upper()"
   ]
  },
  {
   "cell_type": "code",
   "execution_count": 128,
   "id": "1e583c49",
   "metadata": {},
   "outputs": [
    {
     "data": {
      "text/plain": [
       "'hello'"
      ]
     },
     "execution_count": 128,
     "metadata": {},
     "output_type": "execute_result"
    }
   ],
   "source": [
    "'hello'.upper().lower()"
   ]
  },
  {
   "cell_type": "code",
   "execution_count": 136,
   "id": "53bed0c9",
   "metadata": {
    "scrolled": true
   },
   "outputs": [
    {
     "data": {
      "text/plain": [
       "'He'"
      ]
     },
     "execution_count": 136,
     "metadata": {},
     "output_type": "execute_result"
    }
   ],
   "source": [
    "\"       Hello      \".strip(' lo')"
   ]
  },
  {
   "cell_type": "code",
   "execution_count": 137,
   "id": "8740ff8e",
   "metadata": {},
   "outputs": [
    {
     "data": {
      "text/plain": [
       "True"
      ]
     },
     "execution_count": 137,
     "metadata": {},
     "output_type": "execute_result"
    }
   ],
   "source": [
    "'123'.isdigit()"
   ]
  },
  {
   "cell_type": "code",
   "execution_count": 138,
   "id": "a9aa942f",
   "metadata": {},
   "outputs": [
    {
     "data": {
      "text/plain": [
       "False"
      ]
     },
     "execution_count": 138,
     "metadata": {},
     "output_type": "execute_result"
    }
   ],
   "source": [
    "'A123'.isdigit()"
   ]
  },
  {
   "cell_type": "code",
   "execution_count": 139,
   "id": "b2911bc6",
   "metadata": {},
   "outputs": [
    {
     "data": {
      "text/plain": [
       "'Hello Pagel'"
      ]
     },
     "execution_count": 139,
     "metadata": {},
     "output_type": "execute_result"
    }
   ],
   "source": [
    "'Hello Pagel'"
   ]
  },
  {
   "cell_type": "code",
   "execution_count": 140,
   "id": "55819208",
   "metadata": {},
   "outputs": [
    {
     "data": {
      "text/plain": [
       "['Hello', 'Pagel']"
      ]
     },
     "execution_count": 140,
     "metadata": {},
     "output_type": "execute_result"
    }
   ],
   "source": [
    "'Hello Pagel'.split()"
   ]
  },
  {
   "cell_type": "code",
   "execution_count": 142,
   "id": "887299c3",
   "metadata": {},
   "outputs": [
    {
     "data": {
      "text/plain": [
       "['Hello', 'Pagel']"
      ]
     },
     "execution_count": 142,
     "metadata": {},
     "output_type": "execute_result"
    }
   ],
   "source": [
    "'Hello,Pagel'.split(',')"
   ]
  },
  {
   "cell_type": "code",
   "execution_count": 143,
   "id": "d21d1866",
   "metadata": {},
   "outputs": [
    {
     "data": {
      "text/plain": [
       "['a', 'a', 'a', 'a', 'a', 'a', 'a']"
      ]
     },
     "execution_count": 143,
     "metadata": {},
     "output_type": "execute_result"
    }
   ],
   "source": [
    "'ababababababa'.split('b')"
   ]
  },
  {
   "cell_type": "code",
   "execution_count": 144,
   "id": "dc8d6b17",
   "metadata": {},
   "outputs": [
    {
     "data": {
      "text/plain": [
       "'heo'"
      ]
     },
     "execution_count": 144,
     "metadata": {},
     "output_type": "execute_result"
    }
   ],
   "source": [
    "'hello'.replace('l', '')"
   ]
  },
  {
   "cell_type": "code",
   "execution_count": 145,
   "id": "48ec9a30",
   "metadata": {},
   "outputs": [
    {
     "data": {
      "text/plain": [
       "'hello jarred'"
      ]
     },
     "execution_count": 145,
     "metadata": {},
     "output_type": "execute_result"
    }
   ],
   "source": [
    "'hello andrew'.replace('andrew', 'jarred')"
   ]
  },
  {
   "cell_type": "code",
   "execution_count": 147,
   "id": "b46dc319",
   "metadata": {},
   "outputs": [],
   "source": [
    "greeting = 'Hello Pagel'.split()"
   ]
  },
  {
   "cell_type": "code",
   "execution_count": 148,
   "id": "4950b92f",
   "metadata": {},
   "outputs": [
    {
     "data": {
      "text/plain": [
       "['Hello', 'Pagel']"
      ]
     },
     "execution_count": 148,
     "metadata": {},
     "output_type": "execute_result"
    }
   ],
   "source": [
    "greeting"
   ]
  },
  {
   "cell_type": "code",
   "execution_count": 149,
   "id": "b286d269",
   "metadata": {},
   "outputs": [
    {
     "data": {
      "text/plain": [
       "'Hello Pagel'"
      ]
     },
     "execution_count": 149,
     "metadata": {},
     "output_type": "execute_result"
    }
   ],
   "source": [
    "' '.join(greeting)"
   ]
  },
  {
   "cell_type": "code",
   "execution_count": 151,
   "id": "46ac15f7",
   "metadata": {},
   "outputs": [
    {
     "data": {
      "text/plain": [
       "'Hello Pagel'"
      ]
     },
     "execution_count": 151,
     "metadata": {},
     "output_type": "execute_result"
    }
   ],
   "source": [
    "' '.join(['Hello', 'Pagel'])"
   ]
  },
  {
   "cell_type": "code",
   "execution_count": 152,
   "id": "5e31c2f1",
   "metadata": {},
   "outputs": [
    {
     "data": {
      "text/plain": [
       "'HelloPagel'"
      ]
     },
     "execution_count": 152,
     "metadata": {},
     "output_type": "execute_result"
    }
   ],
   "source": [
    "''.join(['Hello', 'Pagel'])"
   ]
  },
  {
   "cell_type": "code",
   "execution_count": 156,
   "id": "2f31f968",
   "metadata": {},
   "outputs": [],
   "source": [
    "space = ' '"
   ]
  },
  {
   "cell_type": "code",
   "execution_count": 157,
   "id": "ebea7227",
   "metadata": {},
   "outputs": [
    {
     "data": {
      "text/plain": [
       "'Hello Pagel'"
      ]
     },
     "execution_count": 157,
     "metadata": {},
     "output_type": "execute_result"
    }
   ],
   "source": [
    "space.join(['Hello', 'Pagel'])"
   ]
  },
  {
   "cell_type": "markdown",
   "id": "786f369d",
   "metadata": {},
   "source": [
    "# Lists"
   ]
  },
  {
   "cell_type": "code",
   "execution_count": 159,
   "id": "0ec43bc9",
   "metadata": {},
   "outputs": [],
   "source": [
    "my_list = [1, 2, 3]"
   ]
  },
  {
   "cell_type": "code",
   "execution_count": 161,
   "id": "0975fa45",
   "metadata": {},
   "outputs": [
    {
     "data": {
      "text/plain": [
       "3"
      ]
     },
     "execution_count": 161,
     "metadata": {},
     "output_type": "execute_result"
    }
   ],
   "source": [
    "my_list[2]"
   ]
  },
  {
   "cell_type": "code",
   "execution_count": 162,
   "id": "e48e1105",
   "metadata": {},
   "outputs": [],
   "source": [
    "my_list = [4, 8, 15]"
   ]
  },
  {
   "cell_type": "code",
   "execution_count": 167,
   "id": "92c6beb2",
   "metadata": {},
   "outputs": [
    {
     "ename": "IndexError",
     "evalue": "list index out of range",
     "output_type": "error",
     "traceback": [
      "\u001b[0;31m---------------------------------------------------------------------------\u001b[0m",
      "\u001b[0;31mIndexError\u001b[0m                                Traceback (most recent call last)",
      "Input \u001b[0;32mIn [167]\u001b[0m, in \u001b[0;36m<cell line: 1>\u001b[0;34m()\u001b[0m\n\u001b[0;32m----> 1\u001b[0m \u001b[43mmy_list\u001b[49m\u001b[43m[\u001b[49m\u001b[38;5;241;43m3\u001b[39;49m\u001b[43m]\u001b[49m\n",
      "\u001b[0;31mIndexError\u001b[0m: list index out of range"
     ]
    }
   ],
   "source": [
    "my_list[3]"
   ]
  },
  {
   "cell_type": "code",
   "execution_count": 169,
   "id": "6065de69",
   "metadata": {},
   "outputs": [],
   "source": [
    "my_list2 = ['one', 'two', 'three']"
   ]
  },
  {
   "cell_type": "code",
   "execution_count": 170,
   "id": "3c430a20",
   "metadata": {},
   "outputs": [
    {
     "data": {
      "text/plain": [
       "'one'"
      ]
     },
     "execution_count": 170,
     "metadata": {},
     "output_type": "execute_result"
    }
   ],
   "source": [
    "my_list2[0]"
   ]
  },
  {
   "cell_type": "code",
   "execution_count": 171,
   "id": "41bd6cea",
   "metadata": {},
   "outputs": [],
   "source": [
    "x = 1"
   ]
  },
  {
   "cell_type": "code",
   "execution_count": 175,
   "id": "7a32ad47",
   "metadata": {},
   "outputs": [],
   "source": [
    "my_list3 = [x, 4, '3']"
   ]
  },
  {
   "cell_type": "code",
   "execution_count": 176,
   "id": "e0272267",
   "metadata": {},
   "outputs": [
    {
     "data": {
      "text/plain": [
       "'3'"
      ]
     },
     "execution_count": 176,
     "metadata": {},
     "output_type": "execute_result"
    }
   ],
   "source": [
    "my_list3[2]"
   ]
  },
  {
   "cell_type": "code",
   "execution_count": 177,
   "id": "d05bf295",
   "metadata": {},
   "outputs": [],
   "source": [
    "my_list = [1,2,3,4,5]"
   ]
  },
  {
   "cell_type": "code",
   "execution_count": 181,
   "id": "f2677441",
   "metadata": {},
   "outputs": [
    {
     "data": {
      "text/plain": [
       "[1, 2, 3, 4, 5]"
      ]
     },
     "execution_count": 181,
     "metadata": {},
     "output_type": "execute_result"
    }
   ],
   "source": [
    "my_list[0:]"
   ]
  },
  {
   "cell_type": "code",
   "execution_count": 182,
   "id": "c274d4fd",
   "metadata": {},
   "outputs": [
    {
     "data": {
      "text/plain": [
       "[1, 2, 3, 4]"
      ]
     },
     "execution_count": 182,
     "metadata": {},
     "output_type": "execute_result"
    }
   ],
   "source": [
    "my_list[:4]"
   ]
  },
  {
   "cell_type": "code",
   "execution_count": 183,
   "id": "604b8886",
   "metadata": {},
   "outputs": [],
   "source": [
    "my_list_of_lists = [[1,2,3], [4,5,6]]"
   ]
  },
  {
   "cell_type": "code",
   "execution_count": 188,
   "id": "c7a9c536",
   "metadata": {},
   "outputs": [
    {
     "data": {
      "text/plain": [
       "[5, 6]"
      ]
     },
     "execution_count": 188,
     "metadata": {},
     "output_type": "execute_result"
    }
   ],
   "source": [
    "my_list_of_lists[1][1:]"
   ]
  },
  {
   "cell_type": "code",
   "execution_count": 190,
   "id": "7df4ffb6",
   "metadata": {},
   "outputs": [
    {
     "data": {
      "text/plain": [
       "[1, 2, 3, 4, 5, 6, 7, 8, 9, 10]"
      ]
     },
     "execution_count": 190,
     "metadata": {},
     "output_type": "execute_result"
    }
   ],
   "source": [
    "list(range(1, 11))"
   ]
  },
  {
   "cell_type": "markdown",
   "id": "ba9cbb23",
   "metadata": {},
   "source": [
    "# List Methods"
   ]
  },
  {
   "cell_type": "code",
   "execution_count": 191,
   "id": "2332adb4",
   "metadata": {},
   "outputs": [],
   "source": [
    "list_of_nums = list(range(1, 11))"
   ]
  },
  {
   "cell_type": "code",
   "execution_count": 192,
   "id": "6e82d225",
   "metadata": {},
   "outputs": [
    {
     "data": {
      "text/plain": [
       "[1, 2, 3, 4, 5, 6, 7, 8, 9, 10]"
      ]
     },
     "execution_count": 192,
     "metadata": {},
     "output_type": "execute_result"
    }
   ],
   "source": [
    "list_of_nums"
   ]
  },
  {
   "cell_type": "code",
   "execution_count": 193,
   "id": "999b531c",
   "metadata": {},
   "outputs": [],
   "source": [
    "list_of_nums.append(11)"
   ]
  },
  {
   "cell_type": "code",
   "execution_count": 194,
   "id": "cf3f52a0",
   "metadata": {},
   "outputs": [
    {
     "data": {
      "text/plain": [
       "[1, 2, 3, 4, 5, 6, 7, 8, 9, 10, 11]"
      ]
     },
     "execution_count": 194,
     "metadata": {},
     "output_type": "execute_result"
    }
   ],
   "source": [
    "list_of_nums"
   ]
  },
  {
   "cell_type": "code",
   "execution_count": 195,
   "id": "2bacf5ce",
   "metadata": {},
   "outputs": [
    {
     "data": {
      "text/plain": [
       "11"
      ]
     },
     "execution_count": 195,
     "metadata": {},
     "output_type": "execute_result"
    }
   ],
   "source": [
    "list_of_nums.pop()"
   ]
  },
  {
   "cell_type": "code",
   "execution_count": 197,
   "id": "b83a777b",
   "metadata": {},
   "outputs": [
    {
     "data": {
      "text/plain": [
       "10"
      ]
     },
     "execution_count": 197,
     "metadata": {},
     "output_type": "execute_result"
    }
   ],
   "source": [
    "list_of_nums.pop()"
   ]
  },
  {
   "cell_type": "code",
   "execution_count": 198,
   "id": "965381eb",
   "metadata": {},
   "outputs": [
    {
     "data": {
      "text/plain": [
       "[1, 2, 3, 4, 5, 6, 7, 8, 9]"
      ]
     },
     "execution_count": 198,
     "metadata": {},
     "output_type": "execute_result"
    }
   ],
   "source": [
    "list_of_nums"
   ]
  },
  {
   "cell_type": "code",
   "execution_count": 199,
   "id": "4a79ed0c",
   "metadata": {},
   "outputs": [],
   "source": [
    "list_of_nums.append(9)"
   ]
  },
  {
   "cell_type": "code",
   "execution_count": 200,
   "id": "2d6ae2f2",
   "metadata": {},
   "outputs": [
    {
     "data": {
      "text/plain": [
       "[1, 2, 3, 4, 5, 6, 7, 8, 9, 9]"
      ]
     },
     "execution_count": 200,
     "metadata": {},
     "output_type": "execute_result"
    }
   ],
   "source": [
    "list_of_nums"
   ]
  },
  {
   "cell_type": "code",
   "execution_count": 201,
   "id": "cbfb6d7d",
   "metadata": {},
   "outputs": [
    {
     "data": {
      "text/plain": [
       "10"
      ]
     },
     "execution_count": 201,
     "metadata": {},
     "output_type": "execute_result"
    }
   ],
   "source": [
    "len(list_of_nums)"
   ]
  },
  {
   "cell_type": "code",
   "execution_count": 202,
   "id": "8aee7480",
   "metadata": {},
   "outputs": [
    {
     "data": {
      "text/plain": [
       "11"
      ]
     },
     "execution_count": 202,
     "metadata": {},
     "output_type": "execute_result"
    }
   ],
   "source": [
    "len('hello world')"
   ]
  },
  {
   "cell_type": "code",
   "execution_count": 204,
   "id": "5801bc4e",
   "metadata": {},
   "outputs": [
    {
     "data": {
      "text/plain": [
       "2"
      ]
     },
     "execution_count": 204,
     "metadata": {},
     "output_type": "execute_result"
    }
   ],
   "source": [
    "len([[1,2,3], [4,5,6]])"
   ]
  },
  {
   "cell_type": "code",
   "execution_count": 205,
   "id": "aa308203",
   "metadata": {},
   "outputs": [],
   "source": [
    "list_of_random_stuff = [1, 'hello', [1,2,3]]"
   ]
  },
  {
   "cell_type": "code",
   "execution_count": 210,
   "id": "a54d6021",
   "metadata": {},
   "outputs": [
    {
     "data": {
      "text/plain": [
       "list"
      ]
     },
     "execution_count": 210,
     "metadata": {},
     "output_type": "execute_result"
    }
   ],
   "source": [
    "type(list_of_random_stuff[2])"
   ]
  },
  {
   "cell_type": "code",
   "execution_count": 212,
   "id": "167e06f0",
   "metadata": {},
   "outputs": [
    {
     "data": {
      "text/plain": [
       "['1', '2', '3']"
      ]
     },
     "execution_count": 212,
     "metadata": {},
     "output_type": "execute_result"
    }
   ],
   "source": [
    "list(map(str, [1,2,3]))"
   ]
  },
  {
   "cell_type": "code",
   "execution_count": 213,
   "id": "0b5e072a",
   "metadata": {},
   "outputs": [
    {
     "data": {
      "text/plain": [
       "<map at 0x10c371820>"
      ]
     },
     "execution_count": 213,
     "metadata": {},
     "output_type": "execute_result"
    }
   ],
   "source": [
    "map(str, [1,2,3])"
   ]
  },
  {
   "cell_type": "markdown",
   "id": "076a49be",
   "metadata": {},
   "source": [
    "# Tuples"
   ]
  },
  {
   "cell_type": "code",
   "execution_count": 214,
   "id": "4423f9dc",
   "metadata": {},
   "outputs": [],
   "source": [
    "tup_of_nums = (1,2,3)"
   ]
  },
  {
   "cell_type": "code",
   "execution_count": 221,
   "id": "bcee9d96",
   "metadata": {
    "scrolled": true
   },
   "outputs": [
    {
     "data": {
      "text/plain": [
       "tuple"
      ]
     },
     "execution_count": 221,
     "metadata": {},
     "output_type": "execute_result"
    }
   ],
   "source": [
    "type(tup_of_nums)"
   ]
  },
  {
   "cell_type": "code",
   "execution_count": 222,
   "id": "29272429",
   "metadata": {
    "scrolled": true
   },
   "outputs": [
    {
     "data": {
      "text/plain": [
       "[1, 2, 3]"
      ]
     },
     "execution_count": 222,
     "metadata": {},
     "output_type": "execute_result"
    }
   ],
   "source": [
    "list(tup_of_nums)"
   ]
  },
  {
   "cell_type": "code",
   "execution_count": 215,
   "id": "c99484a9",
   "metadata": {},
   "outputs": [
    {
     "data": {
      "text/plain": [
       "(1, 2, 3)"
      ]
     },
     "execution_count": 215,
     "metadata": {},
     "output_type": "execute_result"
    }
   ],
   "source": [
    "tup_of_nums"
   ]
  },
  {
   "cell_type": "code",
   "execution_count": 217,
   "id": "e57b6f11",
   "metadata": {},
   "outputs": [
    {
     "data": {
      "text/plain": [
       "3"
      ]
     },
     "execution_count": 217,
     "metadata": {},
     "output_type": "execute_result"
    }
   ],
   "source": [
    "tup_of_nums[2]"
   ]
  },
  {
   "cell_type": "code",
   "execution_count": 219,
   "id": "37a106cf",
   "metadata": {},
   "outputs": [
    {
     "ename": "TypeError",
     "evalue": "'tuple' object does not support item assignment",
     "output_type": "error",
     "traceback": [
      "\u001b[0;31m---------------------------------------------------------------------------\u001b[0m",
      "\u001b[0;31mTypeError\u001b[0m                                 Traceback (most recent call last)",
      "Input \u001b[0;32mIn [219]\u001b[0m, in \u001b[0;36m<cell line: 1>\u001b[0;34m()\u001b[0m\n\u001b[0;32m----> 1\u001b[0m tup_of_nums[\u001b[38;5;241m1\u001b[39m] \u001b[38;5;241m=\u001b[39m \u001b[38;5;241m3\u001b[39m\n",
      "\u001b[0;31mTypeError\u001b[0m: 'tuple' object does not support item assignment"
     ]
    }
   ],
   "source": [
    "tup_of_nums[1] = 3"
   ]
  },
  {
   "cell_type": "markdown",
   "id": "75eb83a4",
   "metadata": {},
   "source": [
    "# Dictionary"
   ]
  },
  {
   "cell_type": "code",
   "execution_count": 223,
   "id": "5fe79c79",
   "metadata": {},
   "outputs": [],
   "source": [
    "about_me = {'name': 'Andrew', 'age': 33}"
   ]
  },
  {
   "cell_type": "code",
   "execution_count": 224,
   "id": "6cd0831b",
   "metadata": {},
   "outputs": [
    {
     "data": {
      "text/plain": [
       "{'name': 'Andrew', 'age': 33}"
      ]
     },
     "execution_count": 224,
     "metadata": {},
     "output_type": "execute_result"
    }
   ],
   "source": [
    "about_me"
   ]
  },
  {
   "cell_type": "code",
   "execution_count": 226,
   "id": "17d1d07d",
   "metadata": {},
   "outputs": [
    {
     "data": {
      "text/plain": [
       "'Andrew'"
      ]
     },
     "execution_count": 226,
     "metadata": {},
     "output_type": "execute_result"
    }
   ],
   "source": [
    "about_me['name']"
   ]
  },
  {
   "cell_type": "code",
   "execution_count": 227,
   "id": "61021976",
   "metadata": {},
   "outputs": [
    {
     "data": {
      "text/plain": [
       "33"
      ]
     },
     "execution_count": 227,
     "metadata": {},
     "output_type": "execute_result"
    }
   ],
   "source": [
    "about_me['age']"
   ]
  },
  {
   "cell_type": "code",
   "execution_count": 228,
   "id": "13896d0b",
   "metadata": {},
   "outputs": [
    {
     "data": {
      "text/plain": [
       "dict_keys(['name', 'age'])"
      ]
     },
     "execution_count": 228,
     "metadata": {},
     "output_type": "execute_result"
    }
   ],
   "source": [
    "about_me.keys()"
   ]
  },
  {
   "cell_type": "code",
   "execution_count": 233,
   "id": "d83dbce2",
   "metadata": {},
   "outputs": [],
   "source": [
    "about_me = {'name': 'Andrew', \n",
    "            'age': 33, \n",
    "            'pets': {'dogs': 'Bailey', 'fish': ['Walter', 'John']}}"
   ]
  },
  {
   "cell_type": "code",
   "execution_count": 235,
   "id": "f3ffc62b",
   "metadata": {},
   "outputs": [
    {
     "data": {
      "text/plain": [
       "'Walter'"
      ]
     },
     "execution_count": 235,
     "metadata": {},
     "output_type": "execute_result"
    }
   ],
   "source": [
    "about_me['pets']['fish'][0]"
   ]
  },
  {
   "cell_type": "code",
   "execution_count": 236,
   "id": "00da16f3",
   "metadata": {},
   "outputs": [
    {
     "data": {
      "text/plain": [
       "34"
      ]
     },
     "execution_count": 236,
     "metadata": {},
     "output_type": "execute_result"
    }
   ],
   "source": [
    "about_me['age'] + 1"
   ]
  },
  {
   "cell_type": "code",
   "execution_count": 237,
   "id": "85ddc91c",
   "metadata": {},
   "outputs": [],
   "source": [
    "about_me['name'] = 'Jack'"
   ]
  },
  {
   "cell_type": "code",
   "execution_count": 238,
   "id": "07281870",
   "metadata": {},
   "outputs": [
    {
     "data": {
      "text/plain": [
       "'Jack'"
      ]
     },
     "execution_count": 238,
     "metadata": {},
     "output_type": "execute_result"
    }
   ],
   "source": [
    "about_me['name']"
   ]
  },
  {
   "cell_type": "code",
   "execution_count": null,
   "id": "45b03282",
   "metadata": {},
   "outputs": [],
   "source": [
    "about_me"
   ]
  },
  {
   "cell_type": "code",
   "execution_count": 240,
   "id": "ca7a7636",
   "metadata": {},
   "outputs": [],
   "source": [
    "new_key_and_data = {'height': 73}"
   ]
  },
  {
   "cell_type": "code",
   "execution_count": 241,
   "id": "daaf9dd0",
   "metadata": {},
   "outputs": [],
   "source": [
    "about_me.update(new_key_and_data)"
   ]
  },
  {
   "cell_type": "code",
   "execution_count": 242,
   "id": "6949f86e",
   "metadata": {},
   "outputs": [
    {
     "data": {
      "text/plain": [
       "{'name': 'Jack',\n",
       " 'age': 33,\n",
       " 'pets': {'dogs': 'Bailey', 'fish': ['Walter', 'John']},\n",
       " 'height': 73}"
      ]
     },
     "execution_count": 242,
     "metadata": {},
     "output_type": "execute_result"
    }
   ],
   "source": [
    "about_me"
   ]
  },
  {
   "cell_type": "code",
   "execution_count": null,
   "id": "17b61e24",
   "metadata": {},
   "outputs": [],
   "source": []
  }
 ],
 "metadata": {
  "kernelspec": {
   "display_name": "Python 3 (ipykernel)",
   "language": "python",
   "name": "python3"
  },
  "language_info": {
   "codemirror_mode": {
    "name": "ipython",
    "version": 3
   },
   "file_extension": ".py",
   "mimetype": "text/x-python",
   "name": "python",
   "nbconvert_exporter": "python",
   "pygments_lexer": "ipython3",
   "version": "3.9.12"
  }
 },
 "nbformat": 4,
 "nbformat_minor": 5
}
