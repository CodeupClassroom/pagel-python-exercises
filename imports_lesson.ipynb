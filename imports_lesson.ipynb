{
 "cells": [
  {
   "cell_type": "markdown",
   "id": "f8f6a579",
   "metadata": {},
   "source": [
    "# Imports"
   ]
  },
  {
   "cell_type": "markdown",
   "id": "b1009232",
   "metadata": {},
   "source": [
    "What are they: Python code in one module gains access to the code in another module by the process of importing it"
   ]
  },
  {
   "cell_type": "markdown",
   "id": "33847a5f",
   "metadata": {},
   "source": [
    "Why do we care? Allows you to access a wide-range of useful functions! "
   ]
  },
  {
   "cell_type": "markdown",
   "id": "86f1a3c6",
   "metadata": {},
   "source": [
    "### Terminology\n",
    "\n",
    "**Module:** a file with a .py extension that contains functions and variables\n",
    "\n",
    "**Package:** a directory with modules in it\n",
    "\n",
    "**Library:** a collection of related modules and packages\n",
    "\n",
    "**Python Package Index:** also known as PyPI, a repository of community developed Python packages\n",
    "\n",
    "**Conda:** also known as Anaconda is a package manager"
   ]
  },
  {
   "cell_type": "markdown",
   "id": "98ca0f6a",
   "metadata": {},
   "source": [
    "### Where do we import from\n",
    "**Python Standard Library:** these come with python so we don't need to install them\n",
    "\n",
    "**3rd Party Packages:** think things we conda install or pip install\n",
    "\n",
    "**Our Own Code:** these are functions and modules we make!  "
   ]
  },
  {
   "cell_type": "markdown",
   "id": "2ae61a03",
   "metadata": {},
   "source": [
    "## Let's Import!"
   ]
  },
  {
   "cell_type": "markdown",
   "id": "d873b4c8",
   "metadata": {},
   "source": [
    "- FORMAT: import [module_name]\n",
    "\n",
    "- typically found at the top of notebooks and py files"
   ]
  },
  {
   "cell_type": "markdown",
   "id": "a7d02b44",
   "metadata": {},
   "source": [
    "## Python Standard Library \n",
    "https://docs.python.org/3/library/\n",
    "\n",
    "- come installed with python"
   ]
  },
  {
   "cell_type": "markdown",
   "id": "ed9d77d6",
   "metadata": {},
   "source": [
    "#### import math module"
   ]
  },
  {
   "cell_type": "markdown",
   "id": "6043d1f2",
   "metadata": {},
   "source": [
    "https://docs.python.org/3/library/math.html"
   ]
  },
  {
   "cell_type": "code",
   "execution_count": 5,
   "id": "48283482",
   "metadata": {},
   "outputs": [],
   "source": [
    "import math"
   ]
  },
  {
   "cell_type": "code",
   "execution_count": 4,
   "id": "be7c0379",
   "metadata": {},
   "outputs": [],
   "source": [
    "math?"
   ]
  },
  {
   "cell_type": "markdown",
   "id": "5a8a8328",
   "metadata": {},
   "source": [
    "#### using the math module, get the constant pi"
   ]
  },
  {
   "cell_type": "markdown",
   "id": "4755c87f",
   "metadata": {},
   "source": [
    "- module_name.constant\n",
    "- module_name.function"
   ]
  },
  {
   "cell_type": "code",
   "execution_count": 7,
   "id": "2529d55e",
   "metadata": {},
   "outputs": [
    {
     "data": {
      "text/plain": [
       "3.141592653589793"
      ]
     },
     "execution_count": 7,
     "metadata": {},
     "output_type": "execute_result"
    }
   ],
   "source": [
    "math.pi"
   ]
  },
  {
   "cell_type": "code",
   "execution_count": 8,
   "id": "6adbe3d0",
   "metadata": {},
   "outputs": [
    {
     "ename": "NameError",
     "evalue": "name 'pi' is not defined",
     "output_type": "error",
     "traceback": [
      "\u001b[0;31m---------------------------------------------------------------------------\u001b[0m",
      "\u001b[0;31mNameError\u001b[0m                                 Traceback (most recent call last)",
      "Input \u001b[0;32mIn [8]\u001b[0m, in \u001b[0;36m<cell line: 1>\u001b[0;34m()\u001b[0m\n\u001b[0;32m----> 1\u001b[0m \u001b[43mpi\u001b[49m\n",
      "\u001b[0;31mNameError\u001b[0m: name 'pi' is not defined"
     ]
    }
   ],
   "source": [
    "pi"
   ]
  },
  {
   "cell_type": "markdown",
   "id": "8ec53fa3",
   "metadata": {},
   "source": [
    "#### importing with an alias"
   ]
  },
  {
   "cell_type": "code",
   "execution_count": 9,
   "id": "26e8b56b",
   "metadata": {},
   "outputs": [],
   "source": [
    "import math as m "
   ]
  },
  {
   "cell_type": "code",
   "execution_count": 12,
   "id": "9b764746",
   "metadata": {},
   "outputs": [
    {
     "data": {
      "text/plain": [
       "3.141592653589793"
      ]
     },
     "execution_count": 12,
     "metadata": {},
     "output_type": "execute_result"
    }
   ],
   "source": [
    "m.pi #now i can call it by m only since i aliased it"
   ]
  },
  {
   "cell_type": "code",
   "execution_count": 13,
   "id": "bbcda014",
   "metadata": {},
   "outputs": [
    {
     "ename": "NameError",
     "evalue": "name 'pi' is not defined",
     "output_type": "error",
     "traceback": [
      "\u001b[0;31m---------------------------------------------------------------------------\u001b[0m",
      "\u001b[0;31mNameError\u001b[0m                                 Traceback (most recent call last)",
      "Input \u001b[0;32mIn [13]\u001b[0m, in \u001b[0;36m<cell line: 1>\u001b[0;34m()\u001b[0m\n\u001b[0;32m----> 1\u001b[0m \u001b[43mpi\u001b[49m\n",
      "\u001b[0;31mNameError\u001b[0m: name 'pi' is not defined"
     ]
    }
   ],
   "source": [
    "pi"
   ]
  },
  {
   "cell_type": "code",
   "execution_count": 16,
   "id": "1c5b985f",
   "metadata": {},
   "outputs": [],
   "source": [
    "m = 'hello' #i wrote over my m alias"
   ]
  },
  {
   "cell_type": "code",
   "execution_count": 18,
   "id": "a18b84f9",
   "metadata": {},
   "outputs": [
    {
     "ename": "AttributeError",
     "evalue": "'str' object has no attribute 'pi'",
     "output_type": "error",
     "traceback": [
      "\u001b[0;31m---------------------------------------------------------------------------\u001b[0m",
      "\u001b[0;31mAttributeError\u001b[0m                            Traceback (most recent call last)",
      "Input \u001b[0;32mIn [18]\u001b[0m, in \u001b[0;36m<cell line: 1>\u001b[0;34m()\u001b[0m\n\u001b[0;32m----> 1\u001b[0m \u001b[43mm\u001b[49m\u001b[38;5;241;43m.\u001b[39;49m\u001b[43mpi\u001b[49m\n",
      "\u001b[0;31mAttributeError\u001b[0m: 'str' object has no attribute 'pi'"
     ]
    }
   ],
   "source": [
    "m.pi #can no longer access anything using the m alias"
   ]
  },
  {
   "cell_type": "markdown",
   "id": "6c401d8e",
   "metadata": {},
   "source": [
    "#### importing a function only"
   ]
  },
  {
   "cell_type": "markdown",
   "id": "8c45e51c",
   "metadata": {},
   "source": [
    "from [module_name] import [function]"
   ]
  },
  {
   "cell_type": "code",
   "execution_count": 19,
   "id": "96f2040c",
   "metadata": {},
   "outputs": [],
   "source": [
    "from math import sqrt"
   ]
  },
  {
   "cell_type": "code",
   "execution_count": 22,
   "id": "cdbcc5af",
   "metadata": {},
   "outputs": [
    {
     "data": {
      "text/plain": [
       "10.0"
      ]
     },
     "execution_count": 22,
     "metadata": {},
     "output_type": "execute_result"
    }
   ],
   "source": [
    "sqrt(100) #now i can access the sqrt function"
   ]
  },
  {
   "cell_type": "code",
   "execution_count": 23,
   "id": "2d5743f9",
   "metadata": {},
   "outputs": [
    {
     "ename": "NameError",
     "evalue": "name 'pi' is not defined",
     "output_type": "error",
     "traceback": [
      "\u001b[0;31m---------------------------------------------------------------------------\u001b[0m",
      "\u001b[0;31mNameError\u001b[0m                                 Traceback (most recent call last)",
      "Input \u001b[0;32mIn [23]\u001b[0m, in \u001b[0;36m<cell line: 1>\u001b[0;34m()\u001b[0m\n\u001b[0;32m----> 1\u001b[0m \u001b[43mpi\u001b[49m\n",
      "\u001b[0;31mNameError\u001b[0m: name 'pi' is not defined"
     ]
    }
   ],
   "source": [
    "pi"
   ]
  },
  {
   "cell_type": "code",
   "execution_count": 24,
   "id": "a4db8465",
   "metadata": {},
   "outputs": [
    {
     "data": {
      "text/plain": [
       "3.141592653589793"
      ]
     },
     "execution_count": 24,
     "metadata": {},
     "output_type": "execute_result"
    }
   ],
   "source": [
    "math.pi"
   ]
  },
  {
   "cell_type": "markdown",
   "id": "0ca62699",
   "metadata": {},
   "source": [
    "#### import functions with alias & use"
   ]
  },
  {
   "cell_type": "code",
   "execution_count": 2,
   "id": "202304e4",
   "metadata": {},
   "outputs": [],
   "source": [
    "from math import sqrt as sr #this is aliasing the function "
   ]
  },
  {
   "cell_type": "code",
   "execution_count": 3,
   "id": "96c34118",
   "metadata": {},
   "outputs": [
    {
     "data": {
      "text/plain": [
       "10.0"
      ]
     },
     "execution_count": 3,
     "metadata": {},
     "output_type": "execute_result"
    }
   ],
   "source": [
    "sr(100)"
   ]
  },
  {
   "cell_type": "code",
   "execution_count": 6,
   "id": "2197aa6a",
   "metadata": {},
   "outputs": [
    {
     "data": {
      "text/plain": [
       "3.141592653589793"
      ]
     },
     "execution_count": 6,
     "metadata": {},
     "output_type": "execute_result"
    }
   ],
   "source": [
    "math.pi"
   ]
  },
  {
   "cell_type": "markdown",
   "id": "ca613890",
   "metadata": {},
   "source": [
    "## 3rd Party Library\n",
    "\n",
    "- potentially need to install"
   ]
  },
  {
   "cell_type": "markdown",
   "id": "79c3fd74",
   "metadata": {},
   "source": [
    "### Install"
   ]
  },
  {
   "cell_type": "markdown",
   "id": "1764371d",
   "metadata": {},
   "source": [
    "<div class=\"alert alert-block alert-success\">\n",
    "    <b>Do:</b> this on the command line\n",
    "</div>\n",
    "\n",
    "`conda install somepackage`\n",
    "\n",
    "`pip install somepackage`"
   ]
  },
  {
   "cell_type": "markdown",
   "id": "aa3da952",
   "metadata": {},
   "source": [
    "### Run Em"
   ]
  },
  {
   "cell_type": "markdown",
   "id": "b3c5a381",
   "metadata": {},
   "source": [
    "#### import and use numpy"
   ]
  },
  {
   "cell_type": "code",
   "execution_count": 3,
   "id": "4aa6ac42",
   "metadata": {},
   "outputs": [],
   "source": [
    "import numpy as np "
   ]
  },
  {
   "cell_type": "code",
   "execution_count": 4,
   "id": "d8b9685c",
   "metadata": {},
   "outputs": [
    {
     "data": {
      "text/plain": [
       "array([0, 1, 2, 3, 4, 5, 6, 7, 8, 9])"
      ]
     },
     "execution_count": 4,
     "metadata": {},
     "output_type": "execute_result"
    }
   ],
   "source": [
    "np.arange(10)"
   ]
  },
  {
   "cell_type": "markdown",
   "id": "8ca6e6ad",
   "metadata": {},
   "source": [
    "#### import and use pandas"
   ]
  },
  {
   "cell_type": "code",
   "execution_count": 5,
   "id": "06a2c299",
   "metadata": {},
   "outputs": [],
   "source": [
    "import pandas as pd"
   ]
  },
  {
   "cell_type": "code",
   "execution_count": 6,
   "id": "1782eb35",
   "metadata": {},
   "outputs": [
    {
     "data": {
      "text/html": [
       "<div>\n",
       "<style scoped>\n",
       "    .dataframe tbody tr th:only-of-type {\n",
       "        vertical-align: middle;\n",
       "    }\n",
       "\n",
       "    .dataframe tbody tr th {\n",
       "        vertical-align: top;\n",
       "    }\n",
       "\n",
       "    .dataframe thead th {\n",
       "        text-align: right;\n",
       "    }\n",
       "</style>\n",
       "<table border=\"1\" class=\"dataframe\">\n",
       "  <thead>\n",
       "    <tr style=\"text-align: right;\">\n",
       "      <th></th>\n",
       "      <th>col1</th>\n",
       "      <th>col2</th>\n",
       "    </tr>\n",
       "  </thead>\n",
       "  <tbody>\n",
       "    <tr>\n",
       "      <th>0</th>\n",
       "      <td>1</td>\n",
       "      <td>3</td>\n",
       "    </tr>\n",
       "    <tr>\n",
       "      <th>1</th>\n",
       "      <td>2</td>\n",
       "      <td>4</td>\n",
       "    </tr>\n",
       "  </tbody>\n",
       "</table>\n",
       "</div>"
      ],
      "text/plain": [
       "   col1  col2\n",
       "0     1     3\n",
       "1     2     4"
      ]
     },
     "execution_count": 6,
     "metadata": {},
     "output_type": "execute_result"
    }
   ],
   "source": [
    "pd.DataFrame({'col1': [1, 2], 'col2': [3, 4]})"
   ]
  },
  {
   "cell_type": "markdown",
   "id": "bbeb3d9f",
   "metadata": {},
   "source": [
    "## Your Own Code! "
   ]
  },
  {
   "cell_type": "markdown",
   "id": "c7ee59f6",
   "metadata": {},
   "source": [
    "#### Why?\n",
    "- You'll do this often\n",
    "\n",
    "- Avoid showing all of your code when you want to show visuals + charts\n",
    "\n",
    "- To utilize a function that you will use over and over"
   ]
  },
  {
   "cell_type": "markdown",
   "id": "5251a02e",
   "metadata": {},
   "source": [
    "#### How?\n",
    "1: Write a .py script with your variables and/or functions \n",
    "\n",
    "2: Save it in the **SAME FOLDER** as working file\n",
    "\n",
    "3: In your working file, import module_name (no .py)"
   ]
  },
  {
   "cell_type": "markdown",
   "id": "e663fe80",
   "metadata": {},
   "source": [
    "#### import my py file that i made"
   ]
  },
  {
   "cell_type": "code",
   "execution_count": 14,
   "id": "8230ac37",
   "metadata": {},
   "outputs": [],
   "source": [
    "import sample_module #note that im not writing .py"
   ]
  },
  {
   "cell_type": "markdown",
   "id": "65dfa736",
   "metadata": {},
   "source": [
    "#### call the functions that i made"
   ]
  },
  {
   "cell_type": "code",
   "execution_count": 9,
   "id": "d89e8a7c",
   "metadata": {},
   "outputs": [
    {
     "data": {
      "text/plain": [
       "12"
      ]
     },
     "execution_count": 9,
     "metadata": {},
     "output_type": "execute_result"
    }
   ],
   "source": [
    "sample_module.add_two(10)"
   ]
  },
  {
   "cell_type": "code",
   "execution_count": 10,
   "id": "54e0ccc4",
   "metadata": {},
   "outputs": [
    {
     "data": {
      "text/plain": [
       "17"
      ]
     },
     "execution_count": 10,
     "metadata": {},
     "output_type": "execute_result"
    }
   ],
   "source": [
    "sample_module.add_two(15)"
   ]
  },
  {
   "cell_type": "code",
   "execution_count": 11,
   "id": "6e0b66af",
   "metadata": {},
   "outputs": [
    {
     "data": {
      "text/plain": [
       "0"
      ]
     },
     "execution_count": 11,
     "metadata": {},
     "output_type": "execute_result"
    }
   ],
   "source": [
    "sample_module.add_two(-2)"
   ]
  },
  {
   "cell_type": "markdown",
   "id": "3d571c10",
   "metadata": {},
   "source": [
    "#### need to restart kernal to import saves to py file"
   ]
  },
  {
   "cell_type": "code",
   "execution_count": 1,
   "id": "509a1be5",
   "metadata": {},
   "outputs": [],
   "source": [
    "import sample_module "
   ]
  },
  {
   "cell_type": "code",
   "execution_count": 2,
   "id": "3950327e",
   "metadata": {},
   "outputs": [
    {
     "data": {
      "text/plain": [
       "8"
      ]
     },
     "execution_count": 2,
     "metadata": {},
     "output_type": "execute_result"
    }
   ],
   "source": [
    "sample_module.minus_two(10)"
   ]
  },
  {
   "cell_type": "code",
   "execution_count": 3,
   "id": "6a3640a0",
   "metadata": {},
   "outputs": [
    {
     "data": {
      "text/plain": [
       "0"
      ]
     },
     "execution_count": 3,
     "metadata": {},
     "output_type": "execute_result"
    }
   ],
   "source": [
    "sample_module.minus_two(2)"
   ]
  },
  {
   "cell_type": "markdown",
   "id": "8c02bb24",
   "metadata": {},
   "source": [
    "- if you made any changes to your py file that you are importing, you HAVE TO RESTART YOUR KENNEL"
   ]
  },
  {
   "cell_type": "markdown",
   "id": "88b55aff",
   "metadata": {},
   "source": [
    "#### can access all my created functions"
   ]
  },
  {
   "cell_type": "code",
   "execution_count": 4,
   "id": "5bb8a796",
   "metadata": {},
   "outputs": [
    {
     "data": {
      "text/plain": [
       "4"
      ]
     },
     "execution_count": 4,
     "metadata": {},
     "output_type": "execute_result"
    }
   ],
   "source": [
    "sample_module.add_two(2)"
   ]
  },
  {
   "cell_type": "code",
   "execution_count": 5,
   "id": "a82c160f",
   "metadata": {},
   "outputs": [
    {
     "data": {
      "text/plain": [
       "8"
      ]
     },
     "execution_count": 5,
     "metadata": {},
     "output_type": "execute_result"
    }
   ],
   "source": [
    "sample_module.minus_two(10)"
   ]
  },
  {
   "cell_type": "code",
   "execution_count": null,
   "id": "5d2e7e07",
   "metadata": {},
   "outputs": [],
   "source": []
  }
 ],
 "metadata": {
  "kernelspec": {
   "display_name": "Python 3 (ipykernel)",
   "language": "python",
   "name": "python3"
  },
  "language_info": {
   "codemirror_mode": {
    "name": "ipython",
    "version": 3
   },
   "file_extension": ".py",
   "mimetype": "text/x-python",
   "name": "python",
   "nbconvert_exporter": "python",
   "pygments_lexer": "ipython3",
   "version": "3.9.12"
  }
 },
 "nbformat": 4,
 "nbformat_minor": 5
}
