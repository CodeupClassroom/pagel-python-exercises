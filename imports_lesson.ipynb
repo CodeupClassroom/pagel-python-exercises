{
 "cells": [
  {
   "cell_type": "markdown",
   "id": "f8f6a579",
   "metadata": {},
   "source": [
    "# Imports"
   ]
  },
  {
   "cell_type": "markdown",
   "id": "b1009232",
   "metadata": {},
   "source": [
    "What are they: Python code in one module gains access to the code in another module by the process of importing it"
   ]
  },
  {
   "cell_type": "markdown",
   "id": "33847a5f",
   "metadata": {},
   "source": [
    "Why do we care? Allows you to access a wide-range of useful functions! "
   ]
  },
  {
   "cell_type": "markdown",
   "id": "86f1a3c6",
   "metadata": {},
   "source": [
    "### Terminology\n",
    "\n",
    "**Module:** a file with a .py extension that contains functions and variables\n",
    "\n",
    "**Package:** a directory with modules in it\n",
    "\n",
    "**Library:** a collection of related modules and packages\n",
    "\n",
    "**Python Package Index:** also known as PyPI, a repository of community developed Python packages\n",
    "\n",
    "**Conda:** also known as Anaconda is a package manager"
   ]
  },
  {
   "cell_type": "markdown",
   "id": "98ca0f6a",
   "metadata": {},
   "source": [
    "### Where do we import from\n",
    "**Python Standard Library:** these come with python so we don't need to install them\n",
    "\n",
    "**3rd Party Packages:** think things we conda install or pip install\n",
    "\n",
    "**Our Own Code:** these are functions and modules we make!  "
   ]
  },
  {
   "cell_type": "markdown",
   "id": "2ae61a03",
   "metadata": {},
   "source": [
    "## Let's Import!"
   ]
  },
  {
   "cell_type": "markdown",
   "id": "d873b4c8",
   "metadata": {},
   "source": [
    "- FORMAT: import module_name\n",
    "\n",
    "- typically found at the top of notebooks and py files"
   ]
  },
  {
   "cell_type": "markdown",
   "id": "a7d02b44",
   "metadata": {},
   "source": [
    "## Python Standard Library \n",
    "https://docs.python.org/3/library/\n",
    "\n",
    "- come installed with python"
   ]
  },
  {
   "cell_type": "markdown",
   "id": "ed9d77d6",
   "metadata": {},
   "source": [
    "#### import math module"
   ]
  },
  {
   "cell_type": "markdown",
   "id": "6043d1f2",
   "metadata": {},
   "source": [
    "https://docs.python.org/3/library/math.html"
   ]
  },
  {
   "cell_type": "code",
   "execution_count": null,
   "id": "30d199ca",
   "metadata": {},
   "outputs": [],
   "source": []
  },
  {
   "cell_type": "code",
   "execution_count": null,
   "id": "fb1f0f4a",
   "metadata": {},
   "outputs": [],
   "source": []
  },
  {
   "cell_type": "markdown",
   "id": "5a8a8328",
   "metadata": {},
   "source": [
    "#### using the math module, get the variable pi"
   ]
  },
  {
   "cell_type": "code",
   "execution_count": null,
   "id": "0136cc8a",
   "metadata": {},
   "outputs": [],
   "source": []
  },
  {
   "cell_type": "code",
   "execution_count": null,
   "id": "b7e7740a",
   "metadata": {},
   "outputs": [],
   "source": []
  },
  {
   "cell_type": "markdown",
   "id": "8ec53fa3",
   "metadata": {},
   "source": [
    "#### importing with an alias"
   ]
  },
  {
   "cell_type": "code",
   "execution_count": null,
   "id": "07cc28b5",
   "metadata": {},
   "outputs": [],
   "source": []
  },
  {
   "cell_type": "code",
   "execution_count": null,
   "id": "b2e4d9cb",
   "metadata": {},
   "outputs": [],
   "source": []
  },
  {
   "cell_type": "markdown",
   "id": "6c401d8e",
   "metadata": {},
   "source": [
    "#### importing a function only"
   ]
  },
  {
   "cell_type": "code",
   "execution_count": null,
   "id": "2c8b3199",
   "metadata": {},
   "outputs": [],
   "source": []
  },
  {
   "cell_type": "code",
   "execution_count": null,
   "id": "7a894bab",
   "metadata": {},
   "outputs": [],
   "source": []
  },
  {
   "cell_type": "code",
   "execution_count": null,
   "id": "0b565de4",
   "metadata": {},
   "outputs": [],
   "source": []
  },
  {
   "cell_type": "markdown",
   "id": "0ca62699",
   "metadata": {},
   "source": [
    "#### import functions with alias & use"
   ]
  },
  {
   "cell_type": "code",
   "execution_count": null,
   "id": "5a64786a",
   "metadata": {},
   "outputs": [],
   "source": []
  },
  {
   "cell_type": "code",
   "execution_count": null,
   "id": "7abce97d",
   "metadata": {},
   "outputs": [],
   "source": []
  },
  {
   "cell_type": "code",
   "execution_count": null,
   "id": "09477223",
   "metadata": {},
   "outputs": [],
   "source": []
  },
  {
   "cell_type": "markdown",
   "id": "ca613890",
   "metadata": {},
   "source": [
    "## 3rd Party Library\n",
    "\n",
    "- potentially need to install"
   ]
  },
  {
   "cell_type": "markdown",
   "id": "79c3fd74",
   "metadata": {},
   "source": [
    "### Install"
   ]
  },
  {
   "cell_type": "markdown",
   "id": "1764371d",
   "metadata": {},
   "source": [
    "<div class=\"alert alert-block alert-success\">\n",
    "    <b>Do:</b> this on the command line\n",
    "</div>\n",
    "\n",
    "`conda install somepackage`\n",
    "\n",
    "`pip install somepackage`"
   ]
  },
  {
   "cell_type": "markdown",
   "id": "aa3da952",
   "metadata": {},
   "source": [
    "### Run Em"
   ]
  },
  {
   "cell_type": "markdown",
   "id": "b3c5a381",
   "metadata": {},
   "source": [
    "#### import and use numpy"
   ]
  },
  {
   "cell_type": "code",
   "execution_count": null,
   "id": "0b81a3fc",
   "metadata": {},
   "outputs": [],
   "source": []
  },
  {
   "cell_type": "code",
   "execution_count": null,
   "id": "9afe3d1a",
   "metadata": {},
   "outputs": [],
   "source": []
  },
  {
   "cell_type": "markdown",
   "id": "8ca6e6ad",
   "metadata": {},
   "source": [
    "#### import and use pandas"
   ]
  },
  {
   "cell_type": "code",
   "execution_count": null,
   "id": "3f1c15e2",
   "metadata": {},
   "outputs": [],
   "source": []
  },
  {
   "cell_type": "code",
   "execution_count": null,
   "id": "419de7dc",
   "metadata": {},
   "outputs": [],
   "source": []
  },
  {
   "cell_type": "code",
   "execution_count": null,
   "id": "e4e165aa",
   "metadata": {},
   "outputs": [],
   "source": []
  },
  {
   "cell_type": "markdown",
   "id": "bbeb3d9f",
   "metadata": {},
   "source": [
    "## Your Own Code! "
   ]
  },
  {
   "cell_type": "markdown",
   "id": "c7ee59f6",
   "metadata": {},
   "source": [
    "#### Why?\n",
    "- You'll do this often\n",
    "\n",
    "- Avoid showing all of your code when you want to show visuals + charts\n",
    "\n",
    "- To utilize a function that you will use over and over"
   ]
  },
  {
   "cell_type": "markdown",
   "id": "5251a02e",
   "metadata": {},
   "source": [
    "#### How?\n",
    "1: Write a .py script with your variables and/or functions \n",
    "\n",
    "2: Save it in the **SAME FOLDER** as working file\n",
    "\n",
    "3: In your working file, import module_name (no .py)"
   ]
  },
  {
   "cell_type": "markdown",
   "id": "e663fe80",
   "metadata": {},
   "source": [
    "#### import my py file that i made"
   ]
  },
  {
   "cell_type": "code",
   "execution_count": null,
   "id": "95ad671f",
   "metadata": {},
   "outputs": [],
   "source": []
  },
  {
   "cell_type": "markdown",
   "id": "65dfa736",
   "metadata": {},
   "source": [
    "#### call the functions that i made using the alias"
   ]
  },
  {
   "cell_type": "code",
   "execution_count": null,
   "id": "4ab6466e",
   "metadata": {},
   "outputs": [],
   "source": []
  },
  {
   "cell_type": "code",
   "execution_count": null,
   "id": "cf018c09",
   "metadata": {},
   "outputs": [],
   "source": []
  },
  {
   "cell_type": "code",
   "execution_count": null,
   "id": "260116ed",
   "metadata": {},
   "outputs": [],
   "source": []
  },
  {
   "cell_type": "markdown",
   "id": "3d571c10",
   "metadata": {},
   "source": [
    "#### need to restart kernal to import saves to py file"
   ]
  },
  {
   "cell_type": "code",
   "execution_count": null,
   "id": "24e7ec76",
   "metadata": {},
   "outputs": [],
   "source": []
  },
  {
   "cell_type": "markdown",
   "id": "88b55aff",
   "metadata": {},
   "source": [
    "#### can access all my created functions"
   ]
  },
  {
   "cell_type": "code",
   "execution_count": null,
   "id": "0c474fbe",
   "metadata": {},
   "outputs": [],
   "source": []
  },
  {
   "cell_type": "code",
   "execution_count": null,
   "id": "8dddcf3d",
   "metadata": {},
   "outputs": [],
   "source": []
  }
 ],
 "metadata": {
  "kernelspec": {
   "display_name": "Python 3 (ipykernel)",
   "language": "python",
   "name": "python3"
  },
  "language_info": {
   "codemirror_mode": {
    "name": "ipython",
    "version": 3
   },
   "file_extension": ".py",
   "mimetype": "text/x-python",
   "name": "python",
   "nbconvert_exporter": "python",
   "pygments_lexer": "ipython3",
   "version": "3.9.12"
  }
 },
 "nbformat": 4,
 "nbformat_minor": 5
}
