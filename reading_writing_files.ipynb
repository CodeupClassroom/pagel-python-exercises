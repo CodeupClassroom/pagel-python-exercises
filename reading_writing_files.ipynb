{
 "cells": [
  {
   "cell_type": "code",
   "execution_count": 2,
   "id": "1b0885f8",
   "metadata": {},
   "outputs": [],
   "source": [
    "import os \n",
    "import subprocess"
   ]
  },
  {
   "cell_type": "code",
   "execution_count": 5,
   "id": "050ea454",
   "metadata": {},
   "outputs": [
    {
     "data": {
      "text/plain": [
       "['.ipynb_checkpoints', 'reading_writing_files.ipynb']"
      ]
     },
     "execution_count": 5,
     "metadata": {},
     "output_type": "execute_result"
    }
   ],
   "source": [
    "# #shows me all the files in my current directory\n",
    "os.listdir()"
   ]
  },
  {
   "cell_type": "markdown",
   "id": "864655c4",
   "metadata": {},
   "source": [
    "### writing files"
   ]
  },
  {
   "cell_type": "code",
   "execution_count": null,
   "id": "89335144",
   "metadata": {},
   "outputs": [],
   "source": [
    "# FORMAT:\n",
    "# with open([file_name], 'w') as f:\n",
    "#     f.write([data])"
   ]
  },
  {
   "cell_type": "code",
   "execution_count": 68,
   "id": "080a2a43",
   "metadata": {},
   "outputs": [],
   "source": [
    "with open('my_new_file.txt', 'w') as f:\n",
    "    f.write('hello pagel! ')"
   ]
  },
  {
   "cell_type": "code",
   "execution_count": 69,
   "id": "79bad121",
   "metadata": {},
   "outputs": [
    {
     "data": {
      "text/plain": [
       "['my_new_file.txt', '.ipynb_checkpoints', 'reading_writing_files.ipynb']"
      ]
     },
     "execution_count": 69,
     "metadata": {},
     "output_type": "execute_result"
    }
   ],
   "source": [
    "# # check that file is created\n",
    "os.listdir()"
   ]
  },
  {
   "cell_type": "code",
   "execution_count": 70,
   "id": "c2b5d09b",
   "metadata": {},
   "outputs": [
    {
     "data": {
      "text/plain": [
       "CompletedProcess(args=['code', 'my_new_file.txt'], returncode=0)"
      ]
     },
     "execution_count": 70,
     "metadata": {},
     "output_type": "execute_result"
    }
   ],
   "source": [
    "# #opens file in an editor\n",
    "subprocess.run([\"code\", \"my_new_file.txt\"]) "
   ]
  },
  {
   "cell_type": "code",
   "execution_count": 9,
   "id": "b6cb2165",
   "metadata": {},
   "outputs": [],
   "source": [
    "with open('my_new_file.txt', 'w') as f:\n",
    "    f.write('!~~!@$~~~~~!@#hello pagel!~~~#!$#$!##$@#~~ ')"
   ]
  },
  {
   "cell_type": "code",
   "execution_count": 10,
   "id": "91afe5f3",
   "metadata": {},
   "outputs": [
    {
     "data": {
      "text/plain": [
       "CompletedProcess(args=['code', 'my_new_file.txt'], returncode=0)"
      ]
     },
     "execution_count": 10,
     "metadata": {},
     "output_type": "execute_result"
    }
   ],
   "source": [
    "#open file\n",
    "subprocess.run([\"code\", \"my_new_file.txt\"]) "
   ]
  },
  {
   "cell_type": "markdown",
   "id": "53bc0fbb",
   "metadata": {},
   "source": [
    "- notice that whole file is overwritten"
   ]
  },
  {
   "cell_type": "markdown",
   "id": "17b2ee69",
   "metadata": {},
   "source": [
    "### writing files - multiple lines"
   ]
  },
  {
   "cell_type": "markdown",
   "id": "849e44e6",
   "metadata": {},
   "source": [
    "#### with a single string"
   ]
  },
  {
   "cell_type": "code",
   "execution_count": 11,
   "id": "d7e0df61",
   "metadata": {},
   "outputs": [],
   "source": [
    "# #a single string with line breaks inside\n",
    "lines_to_write = 'hello pagel \\nhow are you today \\ngo team'"
   ]
  },
  {
   "cell_type": "code",
   "execution_count": 12,
   "id": "c642925d",
   "metadata": {},
   "outputs": [],
   "source": [
    "with open('my_new_file.txt', 'w') as f:\n",
    "    f.write(lines_to_write)"
   ]
  },
  {
   "cell_type": "code",
   "execution_count": 13,
   "id": "78bba677",
   "metadata": {},
   "outputs": [
    {
     "data": {
      "text/plain": [
       "CompletedProcess(args=['code', 'my_new_file.txt'], returncode=0)"
      ]
     },
     "execution_count": 13,
     "metadata": {},
     "output_type": "execute_result"
    }
   ],
   "source": [
    "# #open file\n",
    "subprocess.run([\"code\", \"my_new_file.txt\"]) "
   ]
  },
  {
   "cell_type": "markdown",
   "id": "3183d7f5",
   "metadata": {},
   "source": [
    "#### with a list"
   ]
  },
  {
   "cell_type": "code",
   "execution_count": 15,
   "id": "9da7f4f8",
   "metadata": {},
   "outputs": [],
   "source": [
    "# #each item added into a list\n",
    "lines_to_write = ['hello pagel','how are you today','go team!']"
   ]
  },
  {
   "cell_type": "code",
   "execution_count": 16,
   "id": "e4391443",
   "metadata": {},
   "outputs": [
    {
     "ename": "TypeError",
     "evalue": "write() argument must be str, not list",
     "output_type": "error",
     "traceback": [
      "\u001b[0;31m---------------------------------------------------------------------------\u001b[0m",
      "\u001b[0;31mTypeError\u001b[0m                                 Traceback (most recent call last)",
      "Input \u001b[0;32mIn [16]\u001b[0m, in \u001b[0;36m<cell line: 1>\u001b[0;34m()\u001b[0m\n\u001b[1;32m      1\u001b[0m \u001b[38;5;28;01mwith\u001b[39;00m \u001b[38;5;28mopen\u001b[39m(\u001b[38;5;124m'\u001b[39m\u001b[38;5;124mmy_new_file.txt\u001b[39m\u001b[38;5;124m'\u001b[39m, \u001b[38;5;124m'\u001b[39m\u001b[38;5;124mw\u001b[39m\u001b[38;5;124m'\u001b[39m) \u001b[38;5;28;01mas\u001b[39;00m f:\n\u001b[0;32m----> 2\u001b[0m     \u001b[43mf\u001b[49m\u001b[38;5;241;43m.\u001b[39;49m\u001b[43mwrite\u001b[49m\u001b[43m(\u001b[49m\u001b[43mlines_to_write\u001b[49m\u001b[43m)\u001b[49m\n",
      "\u001b[0;31mTypeError\u001b[0m: write() argument must be str, not list"
     ]
    }
   ],
   "source": [
    "with open('my_new_file.txt', 'w') as f:\n",
    "    f.write(lines_to_write)"
   ]
  },
  {
   "cell_type": "code",
   "execution_count": 17,
   "id": "e9f5450e",
   "metadata": {},
   "outputs": [],
   "source": [
    "with open('my_new_file.txt', 'w') as f:\n",
    "    f.writelines(lines_to_write)"
   ]
  },
  {
   "cell_type": "code",
   "execution_count": 18,
   "id": "592e9509",
   "metadata": {},
   "outputs": [
    {
     "data": {
      "text/plain": [
       "CompletedProcess(args=['code', 'my_new_file.txt'], returncode=0)"
      ]
     },
     "execution_count": 18,
     "metadata": {},
     "output_type": "execute_result"
    }
   ],
   "source": [
    "# #open file\n",
    "subprocess.run([\"code\", \"my_new_file.txt\"]) "
   ]
  },
  {
   "cell_type": "code",
   "execution_count": 19,
   "id": "b15c1cdb",
   "metadata": {},
   "outputs": [],
   "source": [
    "# #adding in line breaks\n",
    "lines_to_write = ['hello pagel','\\nhow are you today','\\ngo team!']"
   ]
  },
  {
   "cell_type": "code",
   "execution_count": 20,
   "id": "64c84926",
   "metadata": {},
   "outputs": [],
   "source": [
    "with open('my_new_file.txt', 'w') as f:\n",
    "    f.writelines(lines_to_write)"
   ]
  },
  {
   "cell_type": "code",
   "execution_count": 21,
   "id": "2fb3677f",
   "metadata": {},
   "outputs": [
    {
     "data": {
      "text/plain": [
       "CompletedProcess(args=['code', 'my_new_file.txt'], returncode=0)"
      ]
     },
     "execution_count": 21,
     "metadata": {},
     "output_type": "execute_result"
    }
   ],
   "source": [
    "# #open file\n",
    "subprocess.run([\"code\", \"my_new_file.txt\"]) "
   ]
  },
  {
   "cell_type": "markdown",
   "id": "46a92569",
   "metadata": {},
   "source": [
    "- to write a list, we need to use `f.writelines` instead of `f.write`\n",
    "- each one of these is now on a new line since we added the `\\n` (line break)"
   ]
  },
  {
   "cell_type": "markdown",
   "id": "fbf2a9fc",
   "metadata": {},
   "source": [
    "### appending to a file"
   ]
  },
  {
   "cell_type": "code",
   "execution_count": null,
   "id": "d9951c31",
   "metadata": {},
   "outputs": [],
   "source": [
    "# FORMAT:\n",
    "# with open([file_name], 'a') as f:\n",
    "#     f.write([data])"
   ]
  },
  {
   "cell_type": "code",
   "execution_count": 22,
   "id": "29cf2950",
   "metadata": {},
   "outputs": [],
   "source": [
    "# use an 'a' instead of 'w'\n",
    "with open('my_new_file.txt', 'a') as f:\n",
    "    f.write('this should be a new line')"
   ]
  },
  {
   "cell_type": "code",
   "execution_count": 23,
   "id": "4f795032",
   "metadata": {},
   "outputs": [
    {
     "data": {
      "text/plain": [
       "CompletedProcess(args=['code', 'my_new_file.txt'], returncode=0)"
      ]
     },
     "execution_count": 23,
     "metadata": {},
     "output_type": "execute_result"
    }
   ],
   "source": [
    "#open file\n",
    "subprocess.run([\"code\", \"my_new_file.txt\"]) "
   ]
  },
  {
   "cell_type": "code",
   "execution_count": 24,
   "id": "44b36a0e",
   "metadata": {},
   "outputs": [],
   "source": [
    "#add in the \\n\n",
    "with open('my_new_file.txt', 'a') as f:\n",
    "    f.write('\\nfor real this should be a new line')"
   ]
  },
  {
   "cell_type": "code",
   "execution_count": 25,
   "id": "f0befe6a",
   "metadata": {},
   "outputs": [],
   "source": [
    "with open('my_new_file.txt', 'a') as f:\n",
    "    f.write('\\nall the data!!!!!!')"
   ]
  },
  {
   "cell_type": "code",
   "execution_count": 26,
   "id": "9df3ee25",
   "metadata": {},
   "outputs": [
    {
     "data": {
      "text/plain": [
       "CompletedProcess(args=['code', 'my_new_file.txt'], returncode=0)"
      ]
     },
     "execution_count": 26,
     "metadata": {},
     "output_type": "execute_result"
    }
   ],
   "source": [
    "#open file\n",
    "subprocess.run([\"code\", \"my_new_file.txt\"]) "
   ]
  },
  {
   "cell_type": "markdown",
   "id": "c217afb4",
   "metadata": {},
   "source": [
    "Reminder: \n",
    "- 'w' will overwrite the file\n",
    "- 'a' will append to the file\n",
    "- you need to incorporate the \\n for line breaks"
   ]
  },
  {
   "cell_type": "markdown",
   "id": "e2518206",
   "metadata": {},
   "source": [
    "### read a file"
   ]
  },
  {
   "cell_type": "code",
   "execution_count": null,
   "id": "8424ccbe",
   "metadata": {},
   "outputs": [],
   "source": [
    "# FORMAT:\n",
    "# with open([file_name]) as f:\n",
    "#     [data_variable] = f.read()"
   ]
  },
  {
   "cell_type": "code",
   "execution_count": 27,
   "id": "e54a1128",
   "metadata": {},
   "outputs": [],
   "source": [
    "with open('my_new_file.txt') as f:\n",
    "    data = f.read()"
   ]
  },
  {
   "cell_type": "code",
   "execution_count": 28,
   "id": "be4691d9",
   "metadata": {},
   "outputs": [
    {
     "data": {
      "text/plain": [
       "'hello pagel\\nhow are you today\\ngo team!this should be a new line\\nfor real this should be a new line\\nall the data!!!!!!'"
      ]
     },
     "execution_count": 28,
     "metadata": {},
     "output_type": "execute_result"
    }
   ],
   "source": [
    "data"
   ]
  },
  {
   "cell_type": "code",
   "execution_count": 40,
   "id": "62432c4e",
   "metadata": {},
   "outputs": [],
   "source": [
    "with open('my_new_file.txt') as f:\n",
    "    data = f.readlines()"
   ]
  },
  {
   "cell_type": "code",
   "execution_count": 41,
   "id": "58646d1d",
   "metadata": {},
   "outputs": [
    {
     "data": {
      "text/plain": [
       "['hello pagel\\n',\n",
       " 'how are you today\\n',\n",
       " 'go team!this should be a new line\\n',\n",
       " 'for real this should be a new line\\n',\n",
       " 'all the data!!!!!!']"
      ]
     },
     "execution_count": 41,
     "metadata": {},
     "output_type": "execute_result"
    }
   ],
   "source": [
    "data"
   ]
  },
  {
   "cell_type": "code",
   "execution_count": 42,
   "id": "2d3550d5",
   "metadata": {},
   "outputs": [
    {
     "data": {
      "text/plain": [
       "'go team!this should be a new line\\n'"
      ]
     },
     "execution_count": 42,
     "metadata": {},
     "output_type": "execute_result"
    }
   ],
   "source": [
    "data[2]"
   ]
  },
  {
   "cell_type": "markdown",
   "id": "dc834c0c",
   "metadata": {},
   "source": [
    "- `f.read` will return everything as a single string with \\n\n",
    "- `f.readlines` will return each line as an element in a list with \\n"
   ]
  },
  {
   "cell_type": "markdown",
   "id": "c25ecf62",
   "metadata": {},
   "source": [
    "### check if file exists"
   ]
  },
  {
   "cell_type": "code",
   "execution_count": 33,
   "id": "607bd4aa",
   "metadata": {},
   "outputs": [
    {
     "data": {
      "text/plain": [
       "True"
      ]
     },
     "execution_count": 33,
     "metadata": {},
     "output_type": "execute_result"
    }
   ],
   "source": [
    "os.path.exists('my_new_file.txt')"
   ]
  },
  {
   "cell_type": "code",
   "execution_count": 34,
   "id": "632e7f11",
   "metadata": {},
   "outputs": [],
   "source": [
    "filename = 'my_imaginary_filess.txt'"
   ]
  },
  {
   "cell_type": "code",
   "execution_count": 37,
   "id": "7aa2a3d3",
   "metadata": {},
   "outputs": [
    {
     "data": {
      "text/plain": [
       "['my_new_file.txt',\n",
       " '.ipynb_checkpoints',\n",
       " 'reading_writing_files.ipynb',\n",
       " 'my_imaginary_filess.txt']"
      ]
     },
     "execution_count": 37,
     "metadata": {},
     "output_type": "execute_result"
    }
   ],
   "source": [
    "os.listdir()"
   ]
  },
  {
   "cell_type": "code",
   "execution_count": 38,
   "id": "3a279e57",
   "metadata": {},
   "outputs": [
    {
     "name": "stdout",
     "output_type": "stream",
     "text": [
      "file exists, read from location\n"
     ]
    }
   ],
   "source": [
    "if os.path.exists(filename):\n",
    "    print('file exists, read from location')\n",
    "    with open(filename, 'r') as f:\n",
    "        data = f.readlines()\n",
    "else:\n",
    "    print('file doesnt exist, creating now')\n",
    "    with open(filename, 'w') as f:\n",
    "        f.write('testing')"
   ]
  },
  {
   "cell_type": "code",
   "execution_count": 39,
   "id": "acf2acaf",
   "metadata": {},
   "outputs": [
    {
     "data": {
      "text/plain": [
       "['testing']"
      ]
     },
     "execution_count": 39,
     "metadata": {},
     "output_type": "execute_result"
    }
   ],
   "source": [
    "data"
   ]
  },
  {
   "cell_type": "markdown",
   "id": "b84f6b88",
   "metadata": {},
   "source": [
    "### remove file"
   ]
  },
  {
   "cell_type": "code",
   "execution_count": 43,
   "id": "d8c734b1",
   "metadata": {},
   "outputs": [
    {
     "data": {
      "text/plain": [
       "['my_new_file.txt',\n",
       " '.ipynb_checkpoints',\n",
       " 'reading_writing_files.ipynb',\n",
       " 'my_imaginary_filess.txt']"
      ]
     },
     "execution_count": 43,
     "metadata": {},
     "output_type": "execute_result"
    }
   ],
   "source": [
    "os.listdir()"
   ]
  },
  {
   "cell_type": "code",
   "execution_count": 44,
   "id": "a84a800c",
   "metadata": {},
   "outputs": [],
   "source": [
    "os.remove('my_new_file.txt')\n",
    "os.remove('my_imaginary_filess.txt')"
   ]
  },
  {
   "cell_type": "code",
   "execution_count": 45,
   "id": "3f7569e7",
   "metadata": {},
   "outputs": [
    {
     "data": {
      "text/plain": [
       "['.ipynb_checkpoints', 'reading_writing_files.ipynb']"
      ]
     },
     "execution_count": 45,
     "metadata": {},
     "output_type": "execute_result"
    }
   ],
   "source": [
    "os.listdir()"
   ]
  },
  {
   "cell_type": "markdown",
   "id": "bfa0a4ce",
   "metadata": {},
   "source": [
    "### using json module"
   ]
  },
  {
   "cell_type": "code",
   "execution_count": 46,
   "id": "cca0b18f",
   "metadata": {},
   "outputs": [],
   "source": [
    "import json"
   ]
  },
  {
   "cell_type": "code",
   "execution_count": null,
   "id": "8ca0edf5",
   "metadata": {},
   "outputs": [],
   "source": [
    "# writing or appending\n",
    "# FORMAT:\n",
    "# with open([file_name], 'w'/'a') as f:\n",
    "#     json.dump([data],f)"
   ]
  },
  {
   "cell_type": "code",
   "execution_count": null,
   "id": "995ce8cd",
   "metadata": {},
   "outputs": [],
   "source": [
    "# reading\n",
    "# FORMAT:\n",
    "# with open([file_name], 'r') as f:\n",
    "#     [data_variable] = json.load(f)"
   ]
  },
  {
   "cell_type": "markdown",
   "id": "8cef8572",
   "metadata": {},
   "source": [
    "#### one dictionary"
   ]
  },
  {
   "cell_type": "code",
   "execution_count": 47,
   "id": "4f778fe8",
   "metadata": {},
   "outputs": [],
   "source": [
    "item = {'item':'milk',\n",
    " 'price':'3.0',\n",
    " 'location':'aisle5'}"
   ]
  },
  {
   "cell_type": "code",
   "execution_count": 48,
   "id": "498e9015",
   "metadata": {},
   "outputs": [
    {
     "data": {
      "text/plain": [
       "{'item': 'milk', 'price': '3.0', 'location': 'aisle5'}"
      ]
     },
     "execution_count": 48,
     "metadata": {},
     "output_type": "execute_result"
    }
   ],
   "source": [
    "item"
   ]
  },
  {
   "cell_type": "code",
   "execution_count": 49,
   "id": "a099c27c",
   "metadata": {},
   "outputs": [],
   "source": [
    "#writing the file\n",
    "with open('my_items.txt','w') as f:\n",
    "    json.dump(item,f)"
   ]
  },
  {
   "cell_type": "code",
   "execution_count": 50,
   "id": "af13b9c0",
   "metadata": {},
   "outputs": [],
   "source": [
    "#reading the json\n",
    "with open('my_items.txt') as f:\n",
    "    data = json.load(f)"
   ]
  },
  {
   "cell_type": "code",
   "execution_count": 51,
   "id": "e4876145",
   "metadata": {},
   "outputs": [
    {
     "data": {
      "text/plain": [
       "{'item': 'milk', 'price': '3.0', 'location': 'aisle5'}"
      ]
     },
     "execution_count": 51,
     "metadata": {},
     "output_type": "execute_result"
    }
   ],
   "source": [
    "data"
   ]
  },
  {
   "cell_type": "markdown",
   "id": "0d308157",
   "metadata": {},
   "source": [
    "#### multiple dictionaries! aka a list of dictionaries"
   ]
  },
  {
   "cell_type": "code",
   "execution_count": 52,
   "id": "2c481347",
   "metadata": {},
   "outputs": [],
   "source": [
    "all_items = []"
   ]
  },
  {
   "cell_type": "code",
   "execution_count": 53,
   "id": "fdabeee0",
   "metadata": {},
   "outputs": [
    {
     "data": {
      "text/plain": [
       "{'item': 'milk', 'price': '3.0', 'location': 'aisle5'}"
      ]
     },
     "execution_count": 53,
     "metadata": {},
     "output_type": "execute_result"
    }
   ],
   "source": [
    "item"
   ]
  },
  {
   "cell_type": "code",
   "execution_count": 54,
   "id": "6428cdec",
   "metadata": {},
   "outputs": [],
   "source": [
    "all_items.append(item)"
   ]
  },
  {
   "cell_type": "code",
   "execution_count": 55,
   "id": "8a959ccf",
   "metadata": {},
   "outputs": [
    {
     "data": {
      "text/plain": [
       "[{'item': 'milk', 'price': '3.0', 'location': 'aisle5'}]"
      ]
     },
     "execution_count": 55,
     "metadata": {},
     "output_type": "execute_result"
    }
   ],
   "source": [
    "all_items"
   ]
  },
  {
   "cell_type": "code",
   "execution_count": 56,
   "id": "ae9fc5a9",
   "metadata": {},
   "outputs": [],
   "source": [
    "item2 = {'item':'oat milk',\n",
    " 'price':'5.0',\n",
    " 'location':'aisle5'}\n",
    "\n",
    "item3 = {'item':'eggs',\n",
    " 'price':'7.0',\n",
    " 'location':'aisle10'}"
   ]
  },
  {
   "cell_type": "code",
   "execution_count": 57,
   "id": "958b171a",
   "metadata": {},
   "outputs": [],
   "source": [
    "all_items.append(item2)\n",
    "all_items.append(item3)"
   ]
  },
  {
   "cell_type": "code",
   "execution_count": 58,
   "id": "0f5e3bc8",
   "metadata": {},
   "outputs": [
    {
     "data": {
      "text/plain": [
       "[{'item': 'milk', 'price': '3.0', 'location': 'aisle5'},\n",
       " {'item': 'oat milk', 'price': '5.0', 'location': 'aisle5'},\n",
       " {'item': 'eggs', 'price': '7.0', 'location': 'aisle10'}]"
      ]
     },
     "execution_count": 58,
     "metadata": {},
     "output_type": "execute_result"
    }
   ],
   "source": [
    "all_items"
   ]
  },
  {
   "cell_type": "code",
   "execution_count": 59,
   "id": "f3495f9b",
   "metadata": {},
   "outputs": [],
   "source": [
    "#write all items to json file\n",
    "with open('my_items.txt','w') as f:\n",
    "    json.dump(all_items, f)"
   ]
  },
  {
   "cell_type": "code",
   "execution_count": 60,
   "id": "7352d791",
   "metadata": {},
   "outputs": [],
   "source": [
    "#read the json file that was just created\n",
    "with open('my_items.txt') as f:\n",
    "    data = json.load(f)"
   ]
  },
  {
   "cell_type": "code",
   "execution_count": 61,
   "id": "e4013213",
   "metadata": {},
   "outputs": [
    {
     "data": {
      "text/plain": [
       "[{'item': 'milk', 'price': '3.0', 'location': 'aisle5'},\n",
       " {'item': 'oat milk', 'price': '5.0', 'location': 'aisle5'},\n",
       " {'item': 'eggs', 'price': '7.0', 'location': 'aisle10'}]"
      ]
     },
     "execution_count": 61,
     "metadata": {},
     "output_type": "execute_result"
    }
   ],
   "source": [
    "data"
   ]
  },
  {
   "cell_type": "markdown",
   "id": "0f975897",
   "metadata": {},
   "source": [
    "#### now we can navigate through the list of dictionaries"
   ]
  },
  {
   "cell_type": "code",
   "execution_count": 62,
   "id": "2172377c",
   "metadata": {},
   "outputs": [
    {
     "name": "stdout",
     "output_type": "stream",
     "text": [
      "{'item': 'milk', 'price': '3.0', 'location': 'aisle5'}\n",
      "{'item': 'oat milk', 'price': '5.0', 'location': 'aisle5'}\n",
      "{'item': 'eggs', 'price': '7.0', 'location': 'aisle10'}\n"
     ]
    }
   ],
   "source": [
    "for dat in data:\n",
    "    print(dat)"
   ]
  },
  {
   "cell_type": "code",
   "execution_count": 63,
   "id": "f2243ef4",
   "metadata": {},
   "outputs": [
    {
     "name": "stdout",
     "output_type": "stream",
     "text": [
      "milk\n",
      "oat milk\n",
      "eggs\n"
     ]
    }
   ],
   "source": [
    "for dat in data:\n",
    "    print(dat['item'])"
   ]
  },
  {
   "cell_type": "code",
   "execution_count": 64,
   "id": "726e3e2f",
   "metadata": {},
   "outputs": [
    {
     "name": "stdout",
     "output_type": "stream",
     "text": [
      "3.0\n",
      "5.0\n",
      "7.0\n"
     ]
    }
   ],
   "source": [
    "for dat in data:\n",
    "    print(dat['price'])"
   ]
  },
  {
   "cell_type": "code",
   "execution_count": 66,
   "id": "a016016d",
   "metadata": {},
   "outputs": [],
   "source": [
    "os.remove('my_items.txt')"
   ]
  },
  {
   "cell_type": "code",
   "execution_count": 67,
   "id": "3af029bb",
   "metadata": {},
   "outputs": [
    {
     "data": {
      "text/plain": [
       "['.ipynb_checkpoints', 'reading_writing_files.ipynb']"
      ]
     },
     "execution_count": 67,
     "metadata": {},
     "output_type": "execute_result"
    }
   ],
   "source": [
    "os.listdir()"
   ]
  },
  {
   "cell_type": "code",
   "execution_count": null,
   "id": "9cdb15ec",
   "metadata": {},
   "outputs": [],
   "source": []
  }
 ],
 "metadata": {
  "kernelspec": {
   "display_name": "Python 3 (ipykernel)",
   "language": "python",
   "name": "python3"
  },
  "language_info": {
   "codemirror_mode": {
    "name": "ipython",
    "version": 3
   },
   "file_extension": ".py",
   "mimetype": "text/x-python",
   "name": "python",
   "nbconvert_exporter": "python",
   "pygments_lexer": "ipython3",
   "version": "3.9.12"
  }
 },
 "nbformat": 4,
 "nbformat_minor": 5
}
